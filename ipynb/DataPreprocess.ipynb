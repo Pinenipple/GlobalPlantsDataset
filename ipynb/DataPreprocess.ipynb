{
 "cells": [
  {
   "cell_type": "code",
   "execution_count": 1,
   "metadata": {},
   "outputs": [],
   "source": [
    "import pandas as pd\n",
    "import sqlite3\n"
   ]
  },
  {
   "cell_type": "code",
   "execution_count": 2,
   "metadata": {},
   "outputs": [],
   "source": [
    "db_path = \"global_energy.db\"\n",
    "conn = sqlite3.connect(db_path)  # creates or opens the database file"
   ]
  },
  {
   "cell_type": "code",
   "execution_count": 20,
   "metadata": {},
   "outputs": [
    {
     "name": "stdout",
     "output_type": "stream",
     "text": [
      "  country_short      country  \\\n",
      "0           AFG  Afghanistan   \n",
      "1           AFG  Afghanistan   \n",
      "2           AFG  Afghanistan   \n",
      "3           AFG  Afghanistan   \n",
      "4           AFG  Afghanistan   \n",
      "\n",
      "                                               name  latitude  longitude  \\\n",
      "0      Kajaki Hydroelectric Power Plant Afghanistan    32.322    65.1190   \n",
      "1                                      Kandahar DOG    31.670    65.7950   \n",
      "2                                      Kandahar JOL    31.623    65.7920   \n",
      "3     Mahipar Hydroelectric Power Plant Afghanistan    34.556    69.4787   \n",
      "4  Naghlu Dam Hydroelectric Power Plant Afghanistan    34.641    69.7170   \n",
      "\n",
      "  primary_fuel  capacity_mw  commissioning_year  generation_gwh_2013  \\\n",
      "0        Hydro         33.0                 NaN                  NaN   \n",
      "1        Solar         10.0                 NaN                  NaN   \n",
      "2        Solar         10.0                 NaN                  NaN   \n",
      "3        Hydro         66.0                 NaN                  NaN   \n",
      "4        Hydro        100.0                 NaN                  NaN   \n",
      "\n",
      "   generation_gwh_2014  generation_gwh_2015  generation_gwh_2016  \\\n",
      "0                  NaN                  NaN                  NaN   \n",
      "1                  NaN                  NaN                  NaN   \n",
      "2                  NaN                  NaN                  NaN   \n",
      "3                  NaN                  NaN                  NaN   \n",
      "4                  NaN                  NaN                  NaN   \n",
      "\n",
      "   generation_gwh_2017  \n",
      "0                  NaN  \n",
      "1                  NaN  \n",
      "2                  NaN  \n",
      "3                  NaN  \n",
      "4                  NaN  \n",
      "Index(['country_short', 'country', 'name', 'latitude', 'longitude',\n",
      "       'primary_fuel', 'capacity_mw', 'commissioning_year',\n",
      "       'generation_gwh_2013', 'generation_gwh_2014', 'generation_gwh_2015',\n",
      "       'generation_gwh_2016', 'generation_gwh_2017'],\n",
      "      dtype='object')\n"
     ]
    },
    {
     "name": "stderr",
     "output_type": "stream",
     "text": [
      "/var/folders/_w/htmynbps67qc3xshbfqnl84h0000gp/T/ipykernel_18004/669053434.py:1: DtypeWarning: Columns (10) have mixed types. Specify dtype option on import or set low_memory=False.\n",
      "  df_gp = pd.read_csv(\"Data/global_power_plant_database.csv\")\n"
     ]
    }
   ],
   "source": [
    "df_gp = pd.read_csv(\"Data/global_power_plant_database.csv\")\n",
    "\n",
    "# Example: Keep only essential columns\n",
    "keep_cols_gp = [\n",
    "    \"country\",\n",
    "    \"country_long\",\n",
    "    \"name\",\n",
    "    \"latitude\",\n",
    "    \"longitude\",\n",
    "    \"primary_fuel\",\n",
    "    \"capacity_mw\",\n",
    "    \"commissioning_year\",\n",
    "    # Keep generation columns if desired:\n",
    "    \"generation_gwh_2013\", \"generation_gwh_2014\", \"generation_gwh_2015\",\n",
    "    \"generation_gwh_2016\", \"generation_gwh_2017\"\n",
    "]\n",
    "\n",
    "# Create a filtered DataFrame\n",
    "# Global Power Plant (df_gp)\n",
    "\n",
    "\n",
    "df_gp_filtered = df_gp[keep_cols_gp].copy()\n",
    "df_gp_filtered = df_gp_filtered.dropna(axis='columns', how='all')\n",
    "df_gp_filtered.rename(columns={\"country\": \"country_short\"}, inplace=True)\n",
    "\n",
    "df_gp_filtered.rename(columns={\"country_long\": \"country\"}, inplace=True)\n",
    "print(df_gp_filtered.head())\n",
    "print(df_gp_filtered.columns)"
   ]
  },
  {
   "cell_type": "code",
   "execution_count": 4,
   "metadata": {},
   "outputs": [
    {
     "name": "stdout",
     "output_type": "stream",
     "text": [
      "       country Country Code  \\\n",
      "0  Afghanistan          AFG   \n",
      "1  Afghanistan          AFG   \n",
      "2  Afghanistan          AFG   \n",
      "3  Afghanistan          AFG   \n",
      "4  Afghanistan          AFG   \n",
      "\n",
      "                                         Series Name 1960 [YR1960]  \\\n",
      "0  Carbon dioxide (CO2) emissions from Building (...            ..   \n",
      "1                              Coal rents (% of GDP)            ..   \n",
      "2      Adjusted savings: energy depletion (% of GNI)            ..   \n",
      "3   Adjusted savings: energy depletion (current US$)            ..   \n",
      "4  Alternative and nuclear energy (% of total ene...            ..   \n",
      "\n",
      "  1961 [YR1961] 1962 [YR1962] 1963 [YR1963] 1964 [YR1964] 1965 [YR1965]  \\\n",
      "0            ..            ..            ..            ..            ..   \n",
      "1            ..            ..            ..            ..            ..   \n",
      "2            ..            ..            ..            ..            ..   \n",
      "3            ..            ..            ..            ..            ..   \n",
      "4            ..            ..            ..            ..            ..   \n",
      "\n",
      "  1966 [YR1966]  ...       2014 [YR2014]       2015 [YR2015]  \\\n",
      "0            ..  ...              0.5972              0.9033   \n",
      "1            ..  ...    0.22737000694477   0.163204860716174   \n",
      "2            ..  ...  0.0966641446262806  0.0559867833285066   \n",
      "3            ..  ...    19862746.2035553    11297542.3977155   \n",
      "4            ..  ...                  ..                  ..   \n",
      "\n",
      "        2016 [YR2016]      2017 [YR2017]      2018 [YR2018]  \\\n",
      "0              0.7121             0.6048             0.6925   \n",
      "1   0.249916790607737   0.40234480168601  0.541363923742697   \n",
      "2  0.0763640841889861  0.121057624440334  0.163438299892063   \n",
      "3    13897596.0742528   23176502.8071736   30416288.2185315   \n",
      "4                  ..                 ..                 ..   \n",
      "\n",
      "       2019 [YR2019]        2020 [YR2020]       2021 [YR2021] 2022 [YR2022]  \\\n",
      "0             0.5679               0.5674              0.5918        0.6013   \n",
      "1  0.334119584032567  0.00700147458719358  0.0193977562950517            ..   \n",
      "2  0.100777601807337  0.00571019277688492  0.0182028796567567            ..   \n",
      "3   19354353.5082382     1161018.32966959    2714217.43346233            ..   \n",
      "4                 ..                   ..                  ..            ..   \n",
      "\n",
      "  2023 [YR2023]  \n",
      "0            ..  \n",
      "1            ..  \n",
      "2            ..  \n",
      "3            ..  \n",
      "4            ..  \n",
      "\n",
      "[5 rows x 67 columns]\n",
      "Column names:\n",
      " Index(['country', 'Country Code', 'Series Name', '1960 [YR1960]',\n",
      "       '1961 [YR1961]', '1962 [YR1962]', '1963 [YR1963]', '1964 [YR1964]',\n",
      "       '1965 [YR1965]', '1966 [YR1966]', '1967 [YR1967]', '1968 [YR1968]',\n",
      "       '1969 [YR1969]', '1970 [YR1970]', '1971 [YR1971]', '1972 [YR1972]',\n",
      "       '1973 [YR1973]', '1974 [YR1974]', '1975 [YR1975]', '1976 [YR1976]',\n",
      "       '1977 [YR1977]', '1978 [YR1978]', '1979 [YR1979]', '1980 [YR1980]',\n",
      "       '1981 [YR1981]', '1982 [YR1982]', '1983 [YR1983]', '1984 [YR1984]',\n",
      "       '1985 [YR1985]', '1986 [YR1986]', '1987 [YR1987]', '1988 [YR1988]',\n",
      "       '1989 [YR1989]', '1990 [YR1990]', '1991 [YR1991]', '1992 [YR1992]',\n",
      "       '1993 [YR1993]', '1994 [YR1994]', '1995 [YR1995]', '1996 [YR1996]',\n",
      "       '1997 [YR1997]', '1998 [YR1998]', '1999 [YR1999]', '2000 [YR2000]',\n",
      "       '2001 [YR2001]', '2002 [YR2002]', '2003 [YR2003]', '2004 [YR2004]',\n",
      "       '2005 [YR2005]', '2006 [YR2006]', '2007 [YR2007]', '2008 [YR2008]',\n",
      "       '2009 [YR2009]', '2010 [YR2010]', '2011 [YR2011]', '2012 [YR2012]',\n",
      "       '2013 [YR2013]', '2014 [YR2014]', '2015 [YR2015]', '2016 [YR2016]',\n",
      "       '2017 [YR2017]', '2018 [YR2018]', '2019 [YR2019]', '2020 [YR2020]',\n",
      "       '2021 [YR2021]', '2022 [YR2022]', '2023 [YR2023]'],\n",
      "      dtype='object')\n"
     ]
    }
   ],
   "source": [
    "df_1 = pd.read_csv(\"Data/worldbank.csv\")\n",
    "\n",
    "df_1 = df_1.dropna(axis='columns', how='all')\n",
    "\n",
    "\n",
    "# Drop columns we definitely don't need\n",
    "df_1.drop(columns=[\"Series Code\"], inplace=True, errors=\"ignore\")\n",
    "# World Bank (df_1)\n",
    "df_1.rename(columns={\"Country Name\": \"country\"}, inplace=True)\n",
    "print(df_1.head())\n",
    "\n",
    "print(\"Column names:\\n\", df_1.columns)"
   ]
  },
  {
   "cell_type": "code",
   "execution_count": 5,
   "metadata": {},
   "outputs": [
    {
     "name": "stdout",
     "output_type": "stream",
     "text": [
      "1    country                   Product                                   Flow  \\\n",
      "0  Australia  Coal, peat and oil shale                        Production (PJ)   \n",
      "1  Australia  Coal, peat and oil shale                           Imports (PJ)   \n",
      "2  Australia  Coal, peat and oil shale                           Exports (PJ)   \n",
      "3  Australia  Coal, peat and oil shale               Total energy supply (PJ)   \n",
      "4  Australia  Coal, peat and oil shale  Electricity, CHP and heat plants (PJ)   \n",
      "\n",
      "1      NoCountry                     NoProduct  \\\n",
      "0  01. Australia  01. Coal, peat and oil shale   \n",
      "1  01. Australia  01. Coal, peat and oil shale   \n",
      "2  01. Australia  01. Coal, peat and oil shale   \n",
      "3  01. Australia  01. Coal, peat and oil shale   \n",
      "4  01. Australia  01. Coal, peat and oil shale   \n",
      "\n",
      "1                                     NoFlow         1971         1972  \\\n",
      "0                        01. Production (PJ)  1368.251838  1648.414248   \n",
      "1                           02. Imports (PJ)            0            0   \n",
      "2                           03. Exports (PJ)  -541.424001  -614.718001   \n",
      "3               04. Total energy supply (PJ)    884.29747   923.250159   \n",
      "4  05. Electricity, CHP and heat plants (PJ)  -516.538554   -569.92192   \n",
      "\n",
      "1         1973         1974  ...         2014         2015         2016  \\\n",
      "0  1685.223676  1640.362098  ...  11950.78794  12501.00154  12223.55369   \n",
      "1            0            0  ...     5.240999     6.978797     6.829994   \n",
      "2  -738.939398  -745.382946  ...  -10166.8869  -10634.4478  -10552.5051   \n",
      "3    945.54188    928.32307  ...    1736.5671  1797.035545  1863.051458   \n",
      "4  -577.900491  -617.948468  ... -1639.902404 -1704.823218 -1753.358738   \n",
      "\n",
      "1         2017         2018         2019         2020         2021  \\\n",
      "0  12256.93808   12323.3258  12596.41582  12334.88697  11467.56954   \n",
      "1     7.783701    12.364454     17.03485      19.2703    12.416851   \n",
      "2  -10248.0298  -10333.4232  -10629.0366   -10504.852 -9866.188301   \n",
      "3  1996.773936  1930.457749  1956.712871  1782.618877  1683.993595   \n",
      "4 -1723.631613 -1647.423349 -1608.995635  -1515.11305 -1467.357844   \n",
      "\n",
      "1         2022 2023 Provisional  \n",
      "0  11416.06592      10961.73829  \n",
      "1      15.0273        16.560904  \n",
      "2 -9687.771298     -9149.148195  \n",
      "3  1567.046515      1624.067792  \n",
      "4 -1394.946887               ..  \n",
      "\n",
      "[5 rows x 59 columns]\n",
      "Column names:\n",
      " Index([         'country',          'Product',             'Flow',\n",
      "              'NoCountry',        'NoProduct',           'NoFlow',\n",
      "                     1971,               1972,               1973,\n",
      "                     1974,               1975,               1976,\n",
      "                     1977,               1978,               1979,\n",
      "                     1980,               1981,               1982,\n",
      "                     1983,               1984,               1985,\n",
      "                     1986,               1987,               1988,\n",
      "                     1989,               1990,               1991,\n",
      "                     1992,               1993,               1994,\n",
      "                     1995,               1996,               1997,\n",
      "                     1998,               1999,               2000,\n",
      "                     2001,               2002,               2003,\n",
      "                     2004,               2005,               2006,\n",
      "                     2007,               2008,               2009,\n",
      "                     2010,               2011,               2012,\n",
      "                     2013,               2014,               2015,\n",
      "                     2016,               2017,               2018,\n",
      "                     2019,               2020,               2021,\n",
      "                     2022, '2023 Provisional'],\n",
      "      dtype='object', name=1)\n"
     ]
    }
   ],
   "source": [
    "# Load the Excel file\n",
    "df_2 = pd.read_excel(\"Data/World Energy Balances Highlights 2024.xlsx\",\n",
    "                     sheet_name=\"TimeSeries_1971-2023\", header=None)\n",
    "\n",
    "# Drop completely empty columns\n",
    "df_2 = df_2.dropna(axis='columns', how='all')\n",
    "\n",
    "# Set the second row as the header\n",
    "new_header = df_2.iloc[1]  # Get the second row\n",
    "df_2 = df_2[2:]  # Drop the first two rows, keeping the first row as data\n",
    "df_2.columns = new_header  # Set the new header\n",
    "# IEA Balances (df_2)\n",
    "df_2.rename(columns={\"Country\": \"country\"}, inplace=True)\n",
    "# Reset the index for clarity\n",
    "df_2.reset_index(drop=True, inplace=True)\n",
    "\n",
    "# Display the DataFrame and column names\n",
    "print(df_2.head())\n",
    "print(\"Column names:\\n\", df_2.columns)"
   ]
  },
  {
   "cell_type": "code",
   "execution_count": 6,
   "metadata": {},
   "outputs": [
    {
     "name": "stdout",
     "output_type": "stream",
     "text": [
      "  REF_AREA country      MEASURE                             Measure_desc  \\\n",
      "0      LVA  Latvia  WATER_FWCAP  Total freshwater abstraction per capita   \n",
      "1      LVA  Latvia  WATER_FWCAP  Total freshwater abstraction per capita   \n",
      "2      LVA  Latvia  WATER_FWCAP  Total freshwater abstraction per capita   \n",
      "3      LVA  Latvia  WATER_FWCAP  Total freshwater abstraction per capita   \n",
      "4      LVA  Latvia  WATER_FWCAP  Total freshwater abstraction per capita   \n",
      "\n",
      "   TIME_PERIOD  OBS_VALUE  \n",
      "0         1990        NaN  \n",
      "1         1991     247.00  \n",
      "2         1992     237.96  \n",
      "3         1993     193.19  \n",
      "4         1994     180.58  \n",
      "Column names:\n",
      " Index(['REF_AREA', 'country', 'MEASURE', 'Measure_desc', 'TIME_PERIOD',\n",
      "       'OBS_VALUE'],\n",
      "      dtype='object')\n"
     ]
    }
   ],
   "source": [
    "df_3 = pd.read_csv(\"Data/GreenGrowth_reduced.csv\")\n",
    "df_3 = df_3.dropna(axis='columns', how='all')\n",
    "df_3.rename(columns={\"Measure\": \"Measure_desc\"}, inplace=True)\n",
    "# OECD Green Growth (df_3)\n",
    "df_3.rename(columns={\"Reference area\": \"country\"}, inplace=True)\n",
    "\n",
    "print(df_3.head())\n",
    "print(\"Column names:\\n\", df_3.columns)"
   ]
  },
  {
   "cell_type": "code",
   "execution_count": 21,
   "metadata": {},
   "outputs": [
    {
     "name": "stdout",
     "output_type": "stream",
     "text": [
      "Power Plant data loaded into 'power_plants' table.\n"
     ]
    }
   ],
   "source": [
    "df_gp_filtered.to_sql(\n",
    "    name=\"power_plants\",\n",
    "    con=conn,\n",
    "    if_exists=\"replace\",   # overwrite the table if it exists\n",
    "    index=False            # don't write the DataFrame index as a column\n",
    ")\n",
    "print(\"Power Plant data loaded into 'power_plants' table.\")"
   ]
  },
  {
   "cell_type": "code",
   "execution_count": 8,
   "metadata": {},
   "outputs": [
    {
     "name": "stdout",
     "output_type": "stream",
     "text": [
      "World Bank data loaded into 'world_bank' table.\n"
     ]
    }
   ],
   "source": [
    "df_1.to_sql(\n",
    "    name=\"world_bank\",\n",
    "    con=conn,\n",
    "    if_exists=\"replace\",\n",
    "    index=False\n",
    ")\n",
    "print(\"World Bank data loaded into 'world_bank' table.\")"
   ]
  },
  {
   "cell_type": "code",
   "execution_count": 9,
   "metadata": {},
   "outputs": [
    {
     "name": "stdout",
     "output_type": "stream",
     "text": [
      "IEA Balances loaded into 'iea_balances' table.\n"
     ]
    }
   ],
   "source": [
    "df_2.to_sql(\n",
    "    name=\"iea_balances\",\n",
    "    con=conn,\n",
    "    if_exists=\"replace\",\n",
    "    index=False\n",
    ")\n",
    "print(\"IEA Balances loaded into 'iea_balances' table.\")"
   ]
  },
  {
   "cell_type": "code",
   "execution_count": 10,
   "metadata": {},
   "outputs": [
    {
     "name": "stdout",
     "output_type": "stream",
     "text": [
      "Green Growth data loaded into 'oecd_greengrowth' table.\n"
     ]
    }
   ],
   "source": [
    "df_3.to_sql(\n",
    "    name=\"oecd_greengrowth\",\n",
    "    con=conn,\n",
    "    if_exists=\"replace\",\n",
    "    index=False\n",
    ")\n",
    "print(\"Green Growth data loaded into 'oecd_greengrowth' table.\")"
   ]
  },
  {
   "cell_type": "code",
   "execution_count": 13,
   "metadata": {},
   "outputs": [
    {
     "name": "stdout",
     "output_type": "stream",
     "text": [
      "  REF_AREA country      MEASURE                             Measure_desc  \\\n",
      "0      LVA  Latvia  WATER_FWCAP  Total freshwater abstraction per capita   \n",
      "1      LVA  Latvia  WATER_FWCAP  Total freshwater abstraction per capita   \n",
      "2      LVA  Latvia  WATER_FWCAP  Total freshwater abstraction per capita   \n",
      "3      LVA  Latvia  WATER_FWCAP  Total freshwater abstraction per capita   \n",
      "4      LVA  Latvia  WATER_FWCAP  Total freshwater abstraction per capita   \n",
      "\n",
      "   TIME_PERIOD  OBS_VALUE  \n",
      "0         1990        NaN  \n",
      "1         1991     247.00  \n",
      "2         1992     237.96  \n",
      "3         1993     193.19  \n",
      "4         1994     180.58  \n"
     ]
    }
   ],
   "source": [
    "print(df_3.head())  # or df_3.sample(10)"
   ]
  },
  {
   "cell_type": "code",
   "execution_count": 11,
   "metadata": {},
   "outputs": [
    {
     "name": "stdout",
     "output_type": "stream",
     "text": [
      "Index(['REF_AREA', 'country', 'MEASURE', 'Measure_desc', 'TIME_PERIOD',\n",
      "       'OBS_VALUE'],\n",
      "      dtype='object')\n"
     ]
    }
   ],
   "source": [
    "print(df_3.columns)"
   ]
  },
  {
   "cell_type": "code",
   "execution_count": 12,
   "metadata": {},
   "outputs": [
    {
     "name": "stdout",
     "output_type": "stream",
     "text": [
      "Tables in database: [('country_capacity',), ('power_plants',), ('world_bank',), ('iea_balances',), ('oecd_greengrowth',)]\n"
     ]
    }
   ],
   "source": [
    "cursor = conn.cursor()\n",
    "cursor.execute(\"SELECT name FROM sqlite_master WHERE type='table';\")\n",
    "tables = cursor.fetchall()\n",
    "print(\"Tables in database:\", tables)"
   ]
  }
 ],
 "metadata": {
  "kernelspec": {
   "display_name": "conda_usml_env",
   "language": "python",
   "name": "python3"
  },
  "language_info": {
   "codemirror_mode": {
    "name": "ipython",
    "version": 3
   },
   "file_extension": ".py",
   "mimetype": "text/x-python",
   "name": "python",
   "nbconvert_exporter": "python",
   "pygments_lexer": "ipython3",
   "version": "3.12.2"
  }
 },
 "nbformat": 4,
 "nbformat_minor": 2
}
