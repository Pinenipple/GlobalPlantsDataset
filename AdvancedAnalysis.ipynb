{
 "cells": [
  {
   "cell_type": "code",
   "execution_count": 31,
   "metadata": {},
   "outputs": [],
   "source": [
    "\"\"\"\n",
    "Advanced Analysis File (Revised)\n",
    "This script extends your mid-term work by:\n",
    "    - Merging multiple World Bank indicators along with renewable capacity and a policy indicator.\n",
    "    - Setting up a panel dataset and cleaning it (using .loc and .copy() to avoid chained assignment warnings).\n",
    "    - Running a two-way fixed effects panel regression (without an added constant) and a Random Effects model for comparison.\n",
    "    - Performing a Hausman test comparison.\n",
    "    - Producing both static and interactive visualizations.\n",
    "\"\"\"\n",
    "\n",
    "import sqlite3\n",
    "import pandas as pd\n",
    "import numpy as np\n",
    "import matplotlib.pyplot as plt\n",
    "import seaborn as sns\n",
    "import statsmodels.api as sm\n",
    "from linearmodels import PanelOLS, RandomEffects\n",
    "from linearmodels.panel import compare\n",
    "import plotly.express as px\n",
    "\n",
    "# -------------------------------\n",
    "# Step 1: Helper Function to Melt Indicators\n",
    "# -------------------------------\n",
    "def melt_indicator(conn, series_name, start_year, end_year):\n",
    "    \"\"\"\n",
    "    Extract wide-form data for a given World Bank indicator,\n",
    "    then melt it into long format with columns: [country, year, value].\n",
    "    \"\"\"\n",
    "    years = list(range(start_year, end_year + 1))\n",
    "    # Build SELECT clause with year columns in the format: \"YEAR [YRYEAR]\"\n",
    "    year_cols = \", \".join([f'w.\"{yr} [YR{yr}]\" AS \"{yr}\"' for yr in years])\n",
    "    query = f\"\"\"\n",
    "    SELECT w.country, {year_cols}\n",
    "    FROM world_bank w\n",
    "    WHERE w.[Series Name] = '{series_name}'\n",
    "    \"\"\"\n",
    "    df_wide = pd.read_sql_query(query, conn)\n",
    "    # Melt the DataFrame to long format\n",
    "    df_long = df_wide.melt(id_vars=[\"country\"], var_name=\"year\", value_name=\"value\")\n",
    "    df_long[\"year\"] = df_long[\"year\"].astype(int)\n",
    "    df_long[\"value\"] = pd.to_numeric(df_long[\"value\"], errors=\"coerce\")\n",
    "    return df_long\n",
    "\n"
   ]
  },
  {
   "cell_type": "code",
   "execution_count": 32,
   "metadata": {},
   "outputs": [],
   "source": [
    "# -------------------------------\n",
    "# Step 2: Load and Merge Datasets\n",
    "# -------------------------------\n",
    "# Connect to the database\n",
    "conn = sqlite3.connect(\"global_energy.db\")\n",
    "\n",
    "# Define the analysis period\n",
    "start_year = 1970\n",
    "end_year = 2020\n",
    "\n",
    "# Melt World Bank indicators\n",
    "df_energy = melt_indicator(conn, \"Energy use (kg of oil equivalent per capita)\", start_year, end_year)\n",
    "df_gdp    = melt_indicator(conn, \"GDP (current US$)\", start_year, end_year)\n",
    "df_fossil = melt_indicator(conn, \"Fossil fuel energy consumption (% of total)\", start_year, end_year)\n",
    "\n",
    "# Merge energy and GDP data on (country, year)\n",
    "df_panel = pd.merge(df_energy, df_gdp, on=[\"country\", \"year\"], how=\"outer\", suffixes=(\"_energy\", \"_gdp\"))\n",
    "# Merge in fossil fuel indicator; rename its 'value' column to fossil_share\n",
    "df_panel = pd.merge(df_panel, df_fossil, on=[\"country\", \"year\"], how=\"outer\")\n",
    "df_panel.rename(columns={\"value\": \"fossil_share\"}, inplace=True)\n",
    "\n",
    "# Merge static renewable capacity data (from country_capacity)\n",
    "df_capacity = pd.read_sql_query(\"SELECT * FROM country_capacity;\", conn)\n",
    "# Compute renewable ratio (assumed static per country)\n",
    "df_capacity[\"renewable_ratio\"] = df_capacity[\"total_renewable_capacity\"] / df_capacity[\"total_capacity\"]\n",
    "df_panel = pd.merge(df_panel, df_capacity[[\"country\", \"renewable_ratio\"]], on=\"country\", how=\"left\")\n",
    "\n",
    "# Merge policy indicator from OECD green growth\n",
    "# (Assuming the OECD table has a measure called 'ENV_TAX_REVENUE_%_of_GDP')\n",
    "df_policy = pd.read_sql_query(\"\"\"\n",
    "SELECT \n",
    "    country,\n",
    "    TIME_PERIOD AS year,\n",
    "    OBS_VALUE AS env_tax\n",
    "FROM oecd_greengrowth\n",
    "WHERE MEASURE = 'ENV_TAX_REVENUE_%_of_GDP'\n",
    "\"\"\", conn)\n",
    "df_policy[\"year\"] = pd.to_numeric(df_policy[\"year\"], errors=\"coerce\").astype(\"Int64\")\n",
    "df_panel = pd.merge(df_panel, df_policy, on=[\"country\", \"year\"], how=\"left\")\n",
    "\n",
    "# Close the database connection\n",
    "conn.close()\n",
    "\n"
   ]
  },
  {
   "cell_type": "code",
   "execution_count": 33,
   "metadata": {},
   "outputs": [
    {
     "name": "stderr",
     "output_type": "stream",
     "text": [
      "/Users/shaokaiwen/anaconda3/envs/conda_usml_env/lib/python3.12/site-packages/numpy/lib/nanfunctions.py:1215: RuntimeWarning: Mean of empty slice\n",
      "  return np.nanmean(a, axis, out=out, keepdims=keepdims)\n",
      "/var/folders/_w/htmynbps67qc3xshbfqnl84h0000gp/T/ipykernel_95988/4091559588.py:14: FutureWarning: Downcasting object dtype arrays on .fillna, .ffill, .bfill is deprecated and will change in a future version. Call result.infer_objects(copy=False) instead. To opt-in to the future behavior, set `pd.set_option('future.no_silent_downcasting', True)`\n",
      "  df_panel_clean.loc[:, \"env_tax\"] = df_panel_clean[\"env_tax\"].fillna(df_panel_clean[\"env_tax\"].median())\n"
     ]
    }
   ],
   "source": [
    "# -------------------------------\n",
    "# Step 3: Data Cleaning and Preparation\n",
    "# -------------------------------\n",
    "# Drop rows with missing essential data and make an explicit copy\n",
    "df_panel_clean = df_panel.dropna(subset=[\"value_energy\", \"value_gdp\", \"fossil_share\", \"renewable_ratio\"]).copy()\n",
    "\n",
    "# Use .loc for assignments to avoid SettingWithCopyWarning\n",
    "df_panel_clean.loc[:, \"energy_use\"] = df_panel_clean[\"value_energy\"]\n",
    "df_panel_clean.loc[:, \"gdp\"] = df_panel_clean[\"value_gdp\"]\n",
    "\n",
    "df_panel_clean.loc[:, \"year\"] = df_panel_clean[\"year\"].astype(int)\n",
    "\n",
    "# For the policy variable, fill missing values with the median\n",
    "df_panel_clean.loc[:, \"env_tax\"] = df_panel_clean[\"env_tax\"].fillna(df_panel_clean[\"env_tax\"].median())\n",
    "\n",
    "# Ensure all exogenous columns are numeric\n",
    "exog_vars = [\"gdp\", \"fossil_share\", \"renewable_ratio\", \"env_tax\"]\n",
    "df_panel_clean[exog_vars] = df_panel_clean[exog_vars].apply(pd.to_numeric, errors=\"coerce\")\n",
    "\n",
    "# Set multi-index for panel data analysis and sort\n",
    "df_panel_clean.set_index([\"country\", \"year\"], inplace=True)\n",
    "df_panel_clean.sort_index(inplace=True)\n",
    "\n"
   ]
  },
  {
   "cell_type": "code",
   "execution_count": 39,
   "metadata": {},
   "outputs": [
    {
     "name": "stdout",
     "output_type": "stream",
     "text": [
      "Exogenous variables used in FE model: ['gdp', 'fossil_share']\n",
      "=== Two-way Fixed Effects Model Results ===\n",
      "                          PanelOLS Estimation Summary                           \n",
      "================================================================================\n",
      "Dep. Variable:             energy_use   R-squared:                        0.0057\n",
      "Estimator:                   PanelOLS   R-squared (Between):             -0.3263\n",
      "No. Observations:                4523   R-squared (Within):              -0.0026\n",
      "Date:                Mon, Mar 10 2025   R-squared (Overall):             -0.3100\n",
      "Time:                        23:29:45   Log-likelihood                -3.686e+04\n",
      "Cov. Estimator:             Clustered                                           \n",
      "                                        F-statistic:                      12.554\n",
      "Entities:                         125   P-value                           0.0000\n",
      "Avg Obs:                       36.184   Distribution:                  F(2,4351)\n",
      "Min Obs:                       4.0000                                           \n",
      "Max Obs:                       46.000   F-statistic (robust):             0.4455\n",
      "                                        P-value                           0.6405\n",
      "Time periods:                      46   Distribution:                  F(2,4351)\n",
      "Avg Obs:                       98.326                                           \n",
      "Min Obs:                       22.000                                           \n",
      "Max Obs:                       124.00                                           \n",
      "                                                                                \n",
      "                              Parameter Estimates                               \n",
      "================================================================================\n",
      "              Parameter  Std. Err.     T-stat    P-value    Lower CI    Upper CI\n",
      "--------------------------------------------------------------------------------\n",
      "gdp          -3.187e-11  1.182e-10    -0.2695     0.7875  -2.636e-10   1.999e-10\n",
      "fossil_share    -9.0111     9.9521    -0.9054     0.3653     -28.522      10.500\n",
      "================================================================================\n",
      "\n",
      "F-test for Poolability: 185.10\n",
      "P-value: 0.0000\n",
      "Distribution: F(169,4351)\n",
      "\n",
      "Included effects: Entity, Time\n",
      "Dropping column 'const' from RE model because its std is 0.0\n",
      "Dropping column 'env_tax' from RE model because its std is nan\n",
      "\n",
      "=== Random Effects Model Results ===\n",
      "                        RandomEffects Estimation Summary                        \n",
      "================================================================================\n",
      "Dep. Variable:             energy_use   R-squared:                        0.0197\n",
      "Estimator:              RandomEffects   R-squared (Between):              0.2143\n",
      "No. Observations:                4523   R-squared (Within):               0.0081\n",
      "Date:                Mon, Mar 10 2025   R-squared (Overall):              0.2073\n",
      "Time:                        23:29:45   Log-likelihood                -3.728e+04\n",
      "Cov. Estimator:            Unadjusted                                           \n",
      "                                        F-statistic:                      30.212\n",
      "Entities:                         125   P-value                           0.0000\n",
      "Avg Obs:                       36.184   Distribution:                  F(3,4520)\n",
      "Min Obs:                       4.0000                                           \n",
      "Max Obs:                       46.000   F-statistic (robust):             30.212\n",
      "                                        P-value                           0.0000\n",
      "Time periods:                      46   Distribution:                  F(3,4520)\n",
      "Avg Obs:                       98.326                                           \n",
      "Min Obs:                       22.000                                           \n",
      "Max Obs:                       124.00                                           \n",
      "                                                                                \n",
      "                                Parameter Estimates                                \n",
      "===================================================================================\n",
      "                 Parameter  Std. Err.     T-stat    P-value    Lower CI    Upper CI\n",
      "-----------------------------------------------------------------------------------\n",
      "gdp               2.87e-10  3.341e-11     8.5899     0.0000   2.215e-10   3.525e-10\n",
      "fossil_share        6.8144     1.6693     4.0822     0.0000      3.5418      10.087\n",
      "renewable_ratio     0.0080     427.48  1.873e-05     1.0000     -838.06      838.07\n",
      "===================================================================================\n",
      "\n",
      "=== Hausman Test Comparison ===\n",
      "                    Model Comparison                    \n",
      "========================================================\n",
      "                                    FE                RE\n",
      "--------------------------------------------------------\n",
      "Dep. Variable               energy_use        energy_use\n",
      "Estimator                     PanelOLS     RandomEffects\n",
      "No. Observations                  4523              4523\n",
      "Cov. Est.                    Clustered        Unadjusted\n",
      "R-squared                       0.0057            0.0197\n",
      "R-Squared (Within)             -0.0026            0.0081\n",
      "R-Squared (Between)            -0.3263            0.2143\n",
      "R-Squared (Overall)            -0.3100            0.2073\n",
      "F-statistic                     12.554            30.212\n",
      "P-value (F-stat)                0.0000            0.0000\n",
      "=====================     ============   ===============\n",
      "gdp                         -3.187e-11          2.87e-10\n",
      "                             (-0.2695)          (8.5899)\n",
      "fossil_share                   -9.0111            6.8144\n",
      "                             (-0.9054)          (4.0822)\n",
      "renewable_ratio                                   0.0080\n",
      "                                             (1.873e-05)\n",
      "======================= ============== =================\n",
      "Effects                         Entity                  \n",
      "                                  Time                  \n",
      "--------------------------------------------------------\n",
      "\n",
      "T-stats reported in parentheses\n"
     ]
    }
   ],
   "source": [
    "# -------------------------------\n",
    "# Step 4: Advanced Panel Regression Analysis\n",
    "# -------------------------------\n",
    "# For the Fixed Effects model, we drop 'renewable_ratio' (time invariant)\n",
    "# and any exogenous columns that are constant overall.\n",
    "exog_vars_fe = [\"gdp\", \"fossil_share\", \"env_tax\"]\n",
    "exog_fe = df_panel_clean[exog_vars_fe].copy()\n",
    "# Drop columns with no variation\n",
    "exog_fe = exog_fe.loc[:, exog_fe.nunique() > 1]\n",
    "print(\"Exogenous variables used in FE model:\", exog_fe.columns.tolist())\n",
    "\n",
    "# Run Two-way Fixed Effects (entity + time) model;\n",
    "# use drop_absorbed=True to drop perfectly collinear variables.\n",
    "model_fe = PanelOLS(\n",
    "    df_panel_clean[\"energy_use\"],\n",
    "    exog_fe,\n",
    "    entity_effects=True,\n",
    "    time_effects=True,\n",
    "    drop_absorbed=True,\n",
    "    check_rank=False\n",
    ")\n",
    "res_fe = model_fe.fit(cov_type=\"clustered\", cluster_entity=True)\n",
    "print(\"=== Two-way Fixed Effects Model Results ===\")\n",
    "print(res_fe.summary)\n",
    "\n",
    "# For the Random Effects model, include all variables and add a constant.\n",
    "# We include 'renewable_ratio' here, but if it (or any column) is completely constant overall,\n",
    "# we drop it to avoid the full rank error.\n",
    "exog_re = sm.add_constant(df_panel_clean[[\"gdp\", \"fossil_share\", \"renewable_ratio\", \"env_tax\"]])\n",
    "\n",
    "# Check each column's standard deviation and drop if it is effectively constant.\n",
    "for col in exog_re.columns:\n",
    "    std_val = exog_re[col].std()\n",
    "    if np.isnan(std_val) or np.isclose(std_val, 0):\n",
    "        print(f\"Dropping column '{col}' from RE model because its std is {std_val}\")\n",
    "        exog_re = exog_re.drop(columns=[col])\n",
    "\n",
    "# Now run the Random Effects model with check_rank disabled.\n",
    "model_re = RandomEffects(df_panel_clean[\"energy_use\"], exog_re, check_rank=False)\n",
    "res_re = model_re.fit()\n",
    "print(\"\\n=== Random Effects Model Results ===\")\n",
    "print(res_re.summary)\n",
    "\n",
    "# Perform a Hausman test comparison using the compare function from linearmodels.panel.\n",
    "comparison = compare({'FE': res_fe, 'RE': res_re})\n",
    "print(\"\\n=== Hausman Test Comparison ===\")\n",
    "print(comparison)"
   ]
  },
  {
   "cell_type": "code",
   "execution_count": 40,
   "metadata": {},
   "outputs": [
    {
     "data": {
      "image/png": "[encoded data removed]",
      "text/plain": [
       "<Figure size 1200x600 with 1 Axes>"
      ]
     },
     "metadata": {},
     "output_type": "display_data"
    },
    {
     "data": {
      "image/png": "[encoded data removed]",
      "text/plain": [
       "<Figure size 1200x600 with 1 Axes>"
      ]
     },
     "metadata": {},
     "output_type": "display_data"
    },
    {
     "data": {
      "image/png": "[encoded data removed]",
      "text/plain": [
       "<Figure size 1250x1250 with 30 Axes>"
      ]
     },
     "metadata": {},
     "output_type": "display_data"
    },
    {
     "data": {
      "application/vnd.plotly.v1+json": {
       "config": {
        "plotlyServerURL": "https://plot.ly"
       },
       "data": [
        {
         "hovertemplate": "country=Albania<br>year=%{x}<br>energy_use=%{y}<extra></extra>",
         "legendgroup": "Albania",
         "line": {
          "color": "#636efa",
          "dash": "solid"
         },
         "marker": {
          "symbol": "circle"
         },
         "mode": "lines",
         "name": "Albania",
         "showlegend": true,
         "type": "scattergl",
         "x": {
          "bdata": "vAe9B74HvwfAB8EHwgfDB8QHxQfGB8cHyAfJB8oHywfMB80HzgfPB9AH0QfSB9MH1AfVB9YH1wfYB9kH2gfbB9wH3QfeBw==",
          "dtype": "i2"
         },
         "xaxis": "x",
         "y": {
          "bdata": "Ovlb9iT2kUBG+3PnmemOQDC0fF13NY5AJFTv4flAj0BBxFPqGtKPQBw6xQdxpIxAmJPY12ofjkBYI0P0JM+MQOkNPMb0/YxAv5+PiYADjEBKEhWqC2qJQLe5ZjdB5oFAxI8VCZYkekBOdPbkD8Z5QIrgLh39k3tANyOMt44QekAWovv4lP17QIcXBvOECXhAaCK10+yqekBxvzMUeAGCQHsE8Eb1I4JAJyHIPB+qgkCbP35FYqCEQCmKUNtYQYRARE6B3FBbhkBtl2rOrHyGQILcJxHgFoZAT+0Z5eQ+hUB0KcPs/DWGQORQeJCI4oZACOPEJzzJhkDulQq6v+eHQP5fSoorf4VAUZnvyaMKiUBp5jqPpUOJQA==",
          "dtype": "f8"
         },
         "yaxis": "y"
        },
        {
         "hovertemplate": "country=Algeria<br>year=%{x}<br>energy_use=%{y}<extra></extra>",
         "legendgroup": "Algeria",
         "line": {
          "color": "#EF553B",
          "dash": "solid"
         },
         "marker": {
          "symbol": "circle"
         },
         "mode": "lines",
         "name": "Algeria",
         "showlegend": true,
         "type": "scattergl",
         "x": {
          "bdata": "swe0B7UHtge3B7gHuQe6B7sHvAe9B74HvwfAB8EHwgfDB8QHxQfGB8sHzAfNB84HzwfQB9EH0gfTB9QH1QfWB9cH2AfZB9oH2wfcB90H3gc=",
          "dtype": "i2"
         },
         "xaxis": "x",
         "y": {
          "bdata": "pZH4KzO3bkBE9gmE7GpxQPwmxIGMZ3RA+3owIWdrdUAaRW65zgF2QHQaWqF9/3dAthbzUjjneUBtu4Bwzf9+QDJu/c8LD4NASIqSxZzRgkAptfh5e86DQC5tlhJC9IhALodFa2wRikA1E8caRfiIQIFVpIrqMYlAxiGIwbGJi0CMbh/uWWKKQNthv0GLFYtA5omQT+EnikD7tilNGFKLQAw7ERR3nIpAbhiSb19EiUC5yKl14GmJQEfVbs+x4olA29IZyldAi0B++wR3BUyLQEf7gFu/+opASg+YBj56jEDEaa43Zt2NQFYYEcoO0Y1A+BjWYjKZjkAiEaoU0yGQQPUpuETn1ZBAmRP56iy6kEA+UlCLTPKRQFaMrKToTpFAQ8bH0ai0kUAPXBbH7BOTQPryOPhhWpNAJD0pEQmYlEA=",
          "dtype": "f8"
         },
         "yaxis": "y"
        },
        {
         "hovertemplate": "country=Angola<br>year=%{x}<br>energy_use=%{y}<extra></extra>",
         "legendgroup": "Angola",
         "line": {
          "color": "#00cc96",
          "dash": "solid"
         },
         "marker": {
          "symbol": "circle"
         },
         "mode": "lines",
         "name": "Angola",
         "showlegend": true,
         "type": "scattergl",
         "x": {
          "bdata": "vAe9B74HvwfAB8EHwgfDB8QHxQfGB8cHyAfJB8oHywfMB80HzgfPB9AH0QfSB9MH1AfVB9YH1wfYB9kH2gfbB9wH3QfeBw==",
          "dtype": "i2"
         },
         "xaxis": "x",
         "y": {
          "bdata": "fOIKn/SHgUC/DBnm+gOBQPJxz5+YLYBAYUqfx30FgEB6J69eFTJ/QL3zKUCu5H9AWDLYYTkdf0ATMwkwEcd+QF3+eeij9H5Ad1F8CEqVfkBLZeO+TKB/QCqSry1WUH9Ang475GF5fkCxNhLdfpF+QM3PXqp0/31AuiPeYUT9fEB7AWwNqtZ8QOL9Ej2ae3xADISLb9B5e0BW0SOjjex7QG7YG3S3v3tARUNeRbADfEDpy8DailN8QPLn9HtuhH1AFs6JovxLfUAok1L5YUx7QOf3f3cU3nxA75bG0SmpfUBnWWydVOp+QODhmvMILIBAk+PCELBSgECk+6i3pE6AQHZMWbG3NoFAKhwwj6KVgEDYR0ULv+GAQA==",
          "dtype": "f8"
         },
         "yaxis": "y"
        },
        {
         "hovertemplate": "country=Argentina<br>year=%{x}<br>energy_use=%{y}<extra></extra>",
         "legendgroup": "Argentina",
         "line": {
          "color": "#ab63fa",
          "dash": "solid"
         },
         "marker": {
          "symbol": "circle"
         },
         "mode": "lines",
         "name": "Argentina",
         "showlegend": true,
         "type": "scattergl",
         "x": {
          "bdata": "swe0B7UHtge3B7gHuQe6B7sHvAe9B74HvwfAB8EHwgfDB8QHxQfGB8cHyAfJB8oHywfMB80HzgfPB9AH0QfSB9MH1AfVB9YH1wfYB9kH2gfbB9wH3QfeBw==",
          "dtype": "i2"
         },
         "xaxis": "x",
         "y": {
          "bdata": "izLcFY+slUC263ckUq6VQHLlQim4M5ZAAZMtZndHlkDZX86OSrOVQEpJzAykHJZAqNLj7OJXlkBMX+9+TWqWQB9XrO4rS5dAt3VJp39Sl0ByRMDeuGmWQCIYBKjRL5ZAEbHOOfk7lkAZUUOOfaqWQEFU2WUNTJVAY+3BiIo+lkDD7d86uhqXQBWMz1IdhpdAgIYS9ZuElkBQGfr6DPmVQA+CbdPLU5ZAJBSPmVsol0A4KEv4semWQAwHHrXDDJhA7h6aBy0UmEC2XAFByKeYQJgVtDk8I5lAMYaB7oyxmUBv9M5pg9WZQKlwIw6F2JlABY9CRkZRmEBBVSOtCGKXQLE8vb8qw5hAvmUJ6ynHmkANS8BG26maQP11RL0DtpxAbpsMJc/LnEBGmxzYnASeQM51AQ5n4ZxAUAbEQCTFnUDcwDgEayieQGUcyop89J1A9O8mMPZ1nkBi03xtxnSfQA==",
          "dtype": "f8"
         },
         "yaxis": "y"
        },
        {
         "hovertemplate": "country=Armenia<br>year=%{x}<br>energy_use=%{y}<extra></extra>",
         "legendgroup": "Armenia",
         "line": {
          "color": "#FFA15A",
          "dash": "solid"
         },
         "marker": {
          "symbol": "circle"
         },
         "mode": "lines",
         "name": "Armenia",
         "showlegend": true,
         "type": "scattergl",
         "x": {
          "bdata": "xgfHB8gHyQfKB8sHzAfNB84HzwfQB9EH0gfTB9QH1QfWB9cH2AfZB9oH2wfcB90H3gc=",
          "dtype": "i2"
         },
         "xaxis": "x",
         "y": {
          "bdata": "1kaurPfzoEAqnhJ0XpChQBjgImS1EZJAmUrJNjvXg0CVk75pjJt5QJc0klCiE39ABgBlTbP5gEAZKRfxOOyBQG6ynOFNeIJAA2zmjv8WgkDUOAsUgouDQJV39qHwg4NAx+jU+jxTgkDCwg5FR3SDQO3LZXf3roRA8QFK28PziEDjhrx9l5GJQOccBp2msIxArZEVwdRojkAgQ4YMGZqKQKsVEQ9wfIlASTBHBMoGjED03j+nc7KOQCqZyKD9/Y1AMCgfztetjkA=",
          "dtype": "f8"
         },
         "yaxis": "y"
        },
        {
         "hovertemplate": "country=Australia<br>year=%{x}<br>energy_use=%{y}<extra></extra>",
         "legendgroup": "Australia",
         "line": {
          "color": "#19d3f3",
          "dash": "solid"
         },
         "marker": {
          "symbol": "circle"
         },
         "mode": "lines",
         "name": "Australia",
         "showlegend": true,
         "type": "scattergl",
         "x": {
          "bdata": "sgezB7QHtQe2B7cHuAe5B7oHuwe8B70Hvge/B8AHwQfCB8MHxAfFB8YHxwfIB8kHygfLB8wHzQfOB88H0AfRB9IH0wfUB9UH1gfXB9gH2QfaB9sH3AfdB94H3wc=",
          "dtype": "i2"
         },
         "xaxis": "x",
         "y": {
          "bdata": "sWAKn9K+r0CrFNNtQiuvQOu7+KVphq9AVFIMb0WosEDfI1pgKcawQHGlFhff+bBAwu7g9rM1sUAKkqoXMj+yQNjSFVSeFbJAHSDCadpLskDc1GJme4GyQCuOJl3aV7JANR5/7oHPskBTJVyT58OxQMeFQTUlIbJAsSn4ih7ysUABX+HlwA+yQDR+w8pgpLJA4MaiEtpeskC+oQUtGYmzQH6pFwqAxbNAH4KgdcU/s0BjFXyw22OzQNH/5fHuJLRASJc6rfLvs0DK1ygeWBy0QI1oD+IZK7VAi1Y4IH95tUAsHOTphNC1QEpo7JNDDLZAdQ/aIucwtkDOqpRcDm61QITG5GpD7rVAvarVIxbytUBP0KFpwxS2QGu4LSgx+LVA3dI6JUiStkA94h5FV+y2QHJPq4KqTLdAC8qqjJDmtkDa09yzHaG2QL8kxnA7cbZAXPLxfknHtUBp074wZFy1QPlsf4Ku1rRAsfuw/9BrtUA=",
          "dtype": "f8"
         },
         "yaxis": "y"
        },
        {
         "hovertemplate": "country=Austria<br>year=%{x}<br>energy_use=%{y}<extra></extra>",
         "legendgroup": "Austria",
         "line": {
          "color": "#FF6692",
          "dash": "solid"
         },
         "marker": {
          "symbol": "circle"
         },
         "mode": "lines",
         "name": "Austria",
         "showlegend": true,
         "type": "scattergl",
         "x": {
          "bdata": "sgezB7QHtQe2B7cHuAe5B7oHuwe8B70Hvge/B8AHwQfCB8MHxAfFB8YHxwfIB8kHygfLB8wHzQfOB88H0AfRB9IH0wfUB9UH1gfXB9gH2QfaB9sH3AfdB94H3wc=",
          "dtype": "i2"
         },
         "xaxis": "x",
         "y": {
          "bdata": "9FIKlmvkokBVB+e1CpmjQGDIKh6lhqRA6mRAw+QdpkA8QD/p31SlQLjXqYyyvaRA1eHVq/NlpkDS0DUG2NqlQM1N1GoLmqZA3D+lENWFqEC3wV8aBvanQFNJzc8EoqZAXvZFjXEcpkB4lKGmzzamQI/sJVVgE6dARvMbsjHXp0Atplp/LeunQIAHBqR9zahAjV5g1h8JqUCj5sKL94WoQH4NFgQ5UKlAR/1AnliuqkA6OJMkL1upQCRuxsSRb6lAEFSLaPxEqUC45ocGNVuqQOJ43HLX+KtALLV77868q0Ak/Z6DOC2sQLD8WXKeD6xAduUpZv/kq0AnYoRG6lytQIhfUK9Ne61AZeO+pz8Lr0AGxXzKI0+vQIhpJaMi669AjRQJ3J/dr0Br28AqLmevQCm3hP5LgK9AdaDuZU2srUCN+MFcZKavQK/APxDNo65AksgrFIldrkB8YQ2+Fp6uQMgb2OKnZq1AN+6fTZmwrUA=",
          "dtype": "f8"
         },
         "yaxis": "y"
        },
        {
         "hovertemplate": "country=Azerbaijan<br>year=%{x}<br>energy_use=%{y}<extra></extra>",
         "legendgroup": "Azerbaijan",
         "line": {
          "color": "#B6E880",
          "dash": "solid"
         },
         "marker": {
          "symbol": "circle"
         },
         "mode": "lines",
         "name": "Azerbaijan",
         "showlegend": true,
         "type": "scattergl",
         "x": {
          "bdata": "xgfHB8gHyQfKB8sHzAfNB84HzwfQB9EH0gfTB9QH1QfWB9cH2AfZB9oH2wfcB90H3gc=",
          "dtype": "i2"
         },
         "xaxis": "x",
         "y": {
          "bdata": "7aGmIrKsqEDxaySffh+oQOeuSFIpQaNAc7+zXK/+oEBREY+8Om+eQA210TDCRJxAoC2ZWbGml0DIzkYgR5GWQHI+uBmdNJdAGA9ElXJklUAFaZSqu+2VQLToR6DcC5ZAunw8yRwalkC0v8IQXRKXQKYx1qTrDJhAY+d7u9f/mEAUUjtlRl6YQH+jSLc6DpZAnZgMdEHBl0DcsqcqqtiUQMrYRds1/pNAUbNDbGdllUBnFKTtlgOXQBJZ44MDCJdA3HFhC1B4l0A=",
          "dtype": "f8"
         },
         "yaxis": "y"
        },
        {
         "hovertemplate": "country=Bahrain<br>year=%{x}<br>energy_use=%{y}<extra></extra>",
         "legendgroup": "Bahrain",
         "line": {
          "color": "#FF97FF",
          "dash": "solid"
         },
         "marker": {
          "symbol": "circle"
         },
         "mode": "lines",
         "name": "Bahrain",
         "showlegend": true,
         "type": "scattergl",
         "x": {
          "bdata": "tQe2B7gHuQe7B7wHvQe/B8AHwQfCB8QHxQfGB8gHygfLB8wHzgfRB9MH1wfZB9sH3gc=",
          "dtype": "i2"
         },
         "xaxis": "x",
         "y": {
          "bdata": "4R9rf9khv0AHUpivxXnAQD518Scj1cFAGY6y7DQAv0C9q2HimC7BQOp5L9mNhr5AWkL+PiY6wEDByBEBUm7AQKUpTh477MBAXO9IddviwkDvGV0AhXfDQElQf4O/3cNATgZVuONcw0Asm6Q2OdzDQDENZNFqcMVAgjWYbzHJxkAWM8OgdHnGQAmMhSIK4sVApfy0ijmWyEDzpsWRoi7IQP2Fti2fAsdA2gfAi7bexUB1jLcO0U7EQN0w3GkktcRAw0TqcvsIxUA=",
          "dtype": "f8"
         },
         "yaxis": "y"
        },
        {
         "hovertemplate": "country=Bangladesh<br>year=%{x}<br>energy_use=%{y}<extra></extra>",
         "legendgroup": "Bangladesh",
         "line": {
          "color": "#FECB52",
          "dash": "solid"
         },
         "marker": {
          "symbol": "circle"
         },
         "mode": "lines",
         "name": "Bangladesh",
         "showlegend": true,
         "type": "scattergl",
         "x": {
          "bdata": "swe0B7UHtge3B7gHuQe6B7sHvAe9B74HvwfAB8EHwgfDB8QHxQfGB8cHyAfJB8oHywfMB80HzgfPB9AH0QfSB9MH1AfVB9YH1wfYB9kH2gfbB9wH3QfeBw==",
          "dtype": "i2"
         },
         "xaxis": "x",
         "y": {
          "bdata": "ngh+Ggk6VECu24AGaX5UQIBQGZoii1VAs2MD0WKhVUDMcKV585lVQAlD/Y+IZlZAr6wmRCFeVkBvh8X+85NWQHRTGiOJ6VZAEtZvp6zdV0AgHAuQy7xXQEGB5iCrZVhASaz1aZJSWEAeLu3D/wxYQHUGJYx60FhAgRenk+LzWUDww17stvtYQBJkCUa+4FpAy2X9U6SkW0An7xYeooZcQPwogF3rlVtAd4kosb6SXEDm5pEvkJxdQJ2xHccNXF5A9fMcbhs2YEBXlDG7EQNgQPMNHwBza2BA3N8zegjMYEAPn9dPGbNgQBUP1w1r92BAawJtkqZAYkBbG2E1AGdiQKCK239gHGNA2PR7soozY0Bx8a+qP7BjQEzb7hLu2WRAgTjpqyWNZUDBgFsWOGVmQG42yPOtV2dAbJ+JnDwPaUDjA+awF8NpQAIaim2hxmpAsEQDyckWa0AYOuYc6QdsQA==",
          "dtype": "f8"
         },
         "yaxis": "y"
        },
        {
         "hovertemplate": "country=Belarus<br>year=%{x}<br>energy_use=%{y}<extra></extra>",
         "legendgroup": "Belarus",
         "line": {
          "color": "#636efa",
          "dash": "solid"
         },
         "marker": {
          "symbol": "circle"
         },
         "mode": "lines",
         "name": "Belarus",
         "showlegend": true,
         "type": "scattergl",
         "x": {
          "bdata": "xgfHB8gHyQfKB8sHzAfNB84HzwfQB9EH0gfTB9QH1QfWB9cH2AfZB9oH2wfcB90H3gc=",
          "dtype": "i2"
         },
         "xaxis": "x",
         "y": {
          "bdata": "qAAV9jhxsUDtbPlTcvywQDyLxn4hSaxAfs2yF18JqEC1/GhsgG+kQP17q1hr96JAZykU7eiKo0Bx2Dmq/pKjQD52qxrhQqNA0LsDTSPXokAiavN10jyjQAbnQ1Yha6NAAfSqtzfso0Acn7YBYKekQJujA5yEgaVAOd63oKShpUDN8dSEwSqnQO8FnmbQy6ZAIzIm4DTopkCDIVtGjs2lQHuokvs1rKZA+7Udu9w6qEA8V5ct8jipQHvPW6vrkKZAxTw4tCfxpkA=",
          "dtype": "f8"
         },
         "yaxis": "y"
        },
        {
         "hovertemplate": "country=Belgium<br>year=%{x}<br>energy_use=%{y}<extra></extra>",
         "legendgroup": "Belgium",
         "line": {
          "color": "#EF553B",
          "dash": "solid"
         },
         "marker": {
          "symbol": "circle"
         },
         "mode": "lines",
         "name": "Belgium",
         "showlegend": true,
         "type": "scattergl",
         "x": {
          "bdata": "sge2B7cHuAe5B7oHuwe8B70Hvge/B8AHwQfCB8MHxAfFB8YHxwfIB8kHygfLB8wHzQfOB88H0AfRB9IH0wfUB9UH1gfXB9gH2QfaB9sH3AfdB94H3wc=",
          "dtype": "i2"
         },
         "xaxis": "x",
         "y": {
          "bdata": "4XIZJDMnsECEJeijfwmyQIqdQofv3bBAUv6frTsOskC7xrs/hu2xQNqxCaGQ2rJATxz278Zws0A+vCMMbIeyQCweeM1bP7FAkC1S/0FwsED5HW3lQTywQOGocQXn7rBAHk1VIBB6sUAEczWG6xmyQKHSmbevd7JAIuw4yvKiskCPb+wr7b6yQEDRRgXeybJAT2xuNAGOs0Da0/uhq7CzQIWtCh1FJrNALRzFxi9CtEDeoxSxq5O0QFWmeKV4oLVAUefLi3WTtUCtmBEHKeO1QK+w+vS27LVAmk1psVsltkDngCQqNwK2QILvcUC4DrVAJ0RcpgbWtUB1J7Me/di1QCWsBaSds7VAKD0v6H1etUBsBA2V9ti0QLuK88qqTrVA+DzR/JRMtEAhzJrjeKO1QIpk/+5Q5LNA76bnAH3tskBuAjqbdoWzQGtqvKE4ZLJANgEQfMlPskA=",
          "dtype": "f8"
         },
         "yaxis": "y"
        },
        {
         "hovertemplate": "country=Benin<br>year=%{x}<br>energy_use=%{y}<extra></extra>",
         "legendgroup": "Benin",
         "line": {
          "color": "#00cc96",
          "dash": "solid"
         },
         "marker": {
          "symbol": "circle"
         },
         "mode": "lines",
         "name": "Benin",
         "showlegend": true,
         "type": "scattergl",
         "x": {
          "bdata": "swe0B7UHtge3B7gHuQe6B7sHvAe9B74HvwfAB8EHwgfDB8QHxQfGB8cHyAfJB8oHywfMB80HzgfPB9AH0QfSB9MH1AfVB9YH1wfYB9kH2gfbB9wH3QfeBw==",
          "dtype": "i2"
         },
         "xaxis": "x",
         "y": {
          "bdata": "IDOaPdwHdkCQQq2oZo12QEpoqptSgXZASr/eoY50dkATqJnm6Y52QJ/31mraVXVAYXl8TjuJdUDk2p1v+s51QEO2IHAWmXVAK1YYIDqJdUAzlH2V2+V0QIcimbtSAXVAA+5h26n5dEAsfJ2A1950QGSdmUAVP3VAvh7MrF3RdED4OW+P0Xp0QCryRtYsYXRArcl2i2Hhc0CYLDrL4KhzQB3ihRN4WnNANPQfc0k6c0ApHreeW9NyQJ4d7rdch3JAGYdy2giKckDRpdgU0Qd1QPLyNLZQL3VA4imd8ExDdEB5svzWVH50QLvwuVa+KHFAKScUdhmzcUC3JZJIBWtyQKbteLdt13JA3cwPqeITc0Ab8UyvxYlyQHxiAym5M3VAE4dHvWBhdkBmT1mEcjJ2QND++1zemXZANb2BfDNOd0DHqUvZWD53QLKCslq8X3dAP7sqYoO4d0Cj4MWkVkt4QA==",
          "dtype": "f8"
         },
         "yaxis": "y"
        },
        {
         "hovertemplate": "country=Bhutan<br>year=%{x}<br>energy_use=%{y}<extra></extra>",
         "legendgroup": "Bhutan",
         "line": {
          "color": "#ab63fa",
          "dash": "solid"
         },
         "marker": {
          "symbol": "circle"
         },
         "mode": "lines",
         "name": "Bhutan",
         "showlegend": true,
         "type": "scattergl",
         "x": {
          "bdata": "xgfUB9UH1gfXBw==",
          "dtype": "i2"
         },
         "xaxis": "x",
         "y": {
          "bdata": "57KVkDS/V0CuXBRqEEtxQPdqt+6EQ3NAb/Km3c2oc0C7CyhhrHh2QA==",
          "dtype": "f8"
         },
         "yaxis": "y"
        },
        {
         "hovertemplate": "country=Bolivia<br>year=%{x}<br>energy_use=%{y}<extra></extra>",
         "legendgroup": "Bolivia",
         "line": {
          "color": "#FFA15A",
          "dash": "solid"
         },
         "marker": {
          "symbol": "circle"
         },
         "mode": "lines",
         "name": "Bolivia",
         "showlegend": true,
         "type": "scattergl",
         "x": {
          "bdata": "swe0B7UHtge3B7gHuQe6B7sHvAe9B74HvwfAB8EHwgfDB8QHxQfGB8cHyAfJB8oHywfMB80HzgfPB9AH0QfSB9MH1AfVB9YH1wfYB9kH2gfbB9wH3QfeBw==",
          "dtype": "i2"
         },
         "xaxis": "x",
         "y": {
          "bdata": "ii9z9mIta0CtvF6+vV9tQEaF63N1YG5Ar7Ossi3Ob0C2Vj2AUgNyQCpUpzWzSHNAbm6jYd8mdECqTk7ZcVl1QNRxp6t++nZAl8uJApGHekBwBiHTwzx7QGeJ2cw5BXxAI7exPrUDekBEclbx82R5QHh8DQMyjHhAiRl8N+e4dkAIckpGx5x0QAlzTv5MFnVAF4aX3Rn+dUAIqPzsJuJ2QGGUhX9vGndABNkw/f35d0A4PxdzSSF5QNvEkp64IXtA63zi8sHgfUBPYK4ApIh/QAu6AsZZ44BAXlbz7JvFgECP9BE1YTKAQKqT3PaKz4FACPcx7ZNAe0DlnKfofhCAQMiPxAGNbIBAHWVdem8rgEAPYOUlRleBQPetTTM/VoVApeQRJ9QWgUDY8D5m8t6BQCIcjJbJToJAqpLpjUGeg0AbLBqVc2KEQIMdWS1dEIdAo9rr4aDThkA4v613p/+HQA==",
          "dtype": "f8"
         },
         "yaxis": "y"
        },
        {
         "hovertemplate": "country=Bosnia and Herzegovina<br>year=%{x}<br>energy_use=%{y}<extra></extra>",
         "legendgroup": "Bosnia and Herzegovina",
         "line": {
          "color": "#19d3f3",
          "dash": "solid"
         },
         "marker": {
          "symbol": "circle"
         },
         "mode": "lines",
         "name": "Bosnia and Herzegovina",
         "showlegend": true,
         "type": "scattergl",
         "x": {
          "bdata": "xgfHB8gHyQfKB8sHzAfNB84HzwfQB9EH0gfTB9QH1QfWB9cH2AfZB9oH2wfcB90H3gc=",
          "dtype": "i2"
         },
         "xaxis": "x",
         "y": {
          "bdata": "CW3s49ylmECbHdVNPCOWQBbu8r5mapBA/hd09ESqjUDywlXPVxN4QL8NOqtJInlAGQKUaqklfECGfnqZWfSEQMyfYOY7l4lAKpVIlp0SiUAoT3AgTFOQQEyTPX6ZZ49AeizpKHJwkED8IkDjEHOQQF1abQZsJZJAjHYZnUI5k0DvXvWsg2GUQExHoVNYppRAe3+0qMGYl0CA42psGgqZQN+PqDPqkZpA5LemHKHWnUB9OqeZ0XScQPBMULuM7ZtATO5YTI4loUA=",
          "dtype": "f8"
         },
         "yaxis": "y"
        },
        {
         "hovertemplate": "country=Botswana<br>year=%{x}<br>energy_use=%{y}<extra></extra>",
         "legendgroup": "Botswana",
         "line": {
          "color": "#FF6692",
          "dash": "solid"
         },
         "marker": {
          "symbol": "circle"
         },
         "mode": "lines",
         "name": "Botswana",
         "showlegend": true,
         "type": "scattergl",
         "x": {
          "bdata": "vQe+B78HwAfBB8IHwwfEB8UHxgfHB8gHyQfKB8sHzAfNB84HzwfQB9EH0gfTB9QH1QfWB9cH2AfZB9oH2wfcB90H3gc=",
          "dtype": "i2"
         },
         "xaxis": "x",
         "y": {
          "bdata": "GJ6CJbxQiEDglyMPD36IQFIQEh9/2odA+jy/fNt/h0C8SYLIsvmHQKC3aYZ0YolAnpDHW95uiEDkUKUTleiLQDM2v+PPAY1AEZ3SVXsojUB95f55LOaMQOBAZgmSMJBAmD+OnFWPj0CWLaPQkD+OQJNO4m0SLY5AkxpWa9W6jEDiZkdmKXWNQGoABNsWQ5BACXRq6TdvkEBTPRWbPbmQQIJWr8Uzk5BAUUTFd+6FkEAsP5mqvy6QQLDpaVJSRo9A5De/VlSzj0DUiqbvBBSQQJ3lurstTJBA6Thgx27nkEAb33rP3uOOQFEFLheKjZBAGa9lf40vj0CGgF6hzWORQPoQRN6WHZJAwmRgcLaKk0A=",
          "dtype": "f8"
         },
         "yaxis": "y"
        },
        {
         "hovertemplate": "country=Brazil<br>year=%{x}<br>energy_use=%{y}<extra></extra>",
         "legendgroup": "Brazil",
         "line": {
          "color": "#B6E880",
          "dash": "solid"
         },
         "marker": {
          "symbol": "circle"
         },
         "mode": "lines",
         "name": "Brazil",
         "showlegend": true,
         "type": "scattergl",
         "x": {
          "bdata": "swe0B7UHtge3B7gHuQe6B7sHvAe9B74HvwfAB8EHwgfDB8QHxQfGB8cHyAfJB8oHywfMB80HzgfPB9AH0QfSB9MH1AfVB9YH1wfYB9kH2gfbB9wH3QfeBw==",
          "dtype": "i2"
         },
         "xaxis": "x",
         "y": {
          "bdata": "rSvBhrRPhkB9EzzE3VaHQIrdO30R+IhA5NsJtkDxiUA+v3JHH3OKQH/bMaU2HItAXVI+R0Vbi0B+kkgJRmyMQPVRhDn6go1AN95L33ZajUDEYEyy9oKLQFiDEMxmV4tAmM9BIoVni0DZVmKPeomMQMouycg51I1APcWSaHCWjkA8u+YCHCePQNO6WFvF+Y5A6v7wJ8MFj0AJRq8jqWCNQCeO81WEbI1Aans5xDU9jUDDS61QPX2NQDoqbHcWkI5AKThVjVMgj0Ca+1ESBSWQQOgevknBtpBATq8Dq7PckEDEqIhRtv6QQBzBvpqM1JBA8W/wCfTmkEAmE3AJqiKRQEu1ovl0NpFA8i3ivT33kUBHb/TCrzeSQIZNKrABp5JAVLc4ZRuDk0DUIy5xKGeUQGjyMKNdj5NAJQxQ6nFylUB6SBEZMpuVQH9N180wXJZAa1FEA54fl0DBf3sHQK6XQA==",
          "dtype": "f8"
         },
         "yaxis": "y"
        },
        {
         "hovertemplate": "country=Brunei Darussalam<br>year=%{x}<br>energy_use=%{y}<extra></extra>",
         "legendgroup": "Brunei Darussalam",
         "line": {
          "color": "#FF97FF",
          "dash": "solid"
         },
         "marker": {
          "symbol": "circle"
         },
         "mode": "lines",
         "name": "Brunei Darussalam",
         "showlegend": true,
         "type": "scattergl",
         "x": {
          "bdata": "swe0B7UHtge3B7gHuQe6B7sHvAe9B74HvwfAB8EHwgfDB8QHxQfGB8cHyAfLB9IH0wfUB9UH1gfXB9kH2wfcB90H3gc=",
          "dtype": "i2"
         },
         "xaxis": "x",
         "y": {
          "bdata": "D9JRj+IUlEDSaQhbtkeTQAJi5ImlQqJAEIfR8w1krkBZ504IwUuyQMD4p42rTrdA1kwTHqVauECqDg36Nwi2QGGoW2d+N7ZAkbIQawxUvEAx1n+WK3G6QHZMwKVTirtAwuVATXsnvECoiTq1cGG/QExooQwZzb9AyUkAP7z+ukBESpvXqNK6QB15k8ILpbVAQ6zUg41ouEAbpm8rXWy6QK7saLU3DL1AtQQ/CTJlvkCdq/3tfiS+QM7mcuhnx7hARmSpd2Q6vEAMh9PD5mu5QGWNaNp3I7hAHSw3RyThwEDvHOIx3f7AQIICNLBg4L5ABI2KKYPwwkC7qP8r9XHCQKuBR0s15rxAT7AsH+enwEA=",
          "dtype": "f8"
         },
         "yaxis": "y"
        },
        {
         "hovertemplate": "country=Bulgaria<br>year=%{x}<br>energy_use=%{y}<extra></extra>",
         "legendgroup": "Bulgaria",
         "line": {
          "color": "#FECB52",
          "dash": "solid"
         },
         "marker": {
          "symbol": "circle"
         },
         "mode": "lines",
         "name": "Bulgaria",
         "showlegend": true,
         "type": "scattergl",
         "x": {
          "bdata": "vAe9B74HvwfAB8EHwgfDB8QHxQfGB8cHyAfJB8oHywfMB80HzgfPB9AH0QfSB9MH1AfVB9YH1wfYB9kH2gfbB9wH3QfeBw==",
          "dtype": "i2"
         },
         "xaxis": "x",
         "y": {
          "bdata": "FtKeXjgHqUB02g/iBOOoQGoojbBp2qlA1o/xv0NUqkCWM/9mjHaqQHAK+gyJt6pAlGSOKOL1qkAhdACUJaaqQPzO0eOVQKtArNuzaOLFqkD1npOOtEqpQKjiB7tJ0aNAnPNquAO4okCrn9DCBTykQDl44uG3r6NAKx5A4VV1pUCdK32Fa3OlQGTW988+kKNAUR1YeuTzokCXxesSUm2hQN40NWa8yqFAc3DGbErqokDvSUdP8NWiQAvoLlbVdKNAPUwtdWURo0DqEl7WykukQBaGgb7rBqVAS7VZDznUpEBxrszuu7GkQIieJWNPX6JA3RGJZmjhokCang54QXKkQDHBR2u0oqNAzEDN3z4yokBwHq6QT1ujQA==",
          "dtype": "f8"
         },
         "yaxis": "y"
        },
        {
         "hovertemplate": "country=Cambodia<br>year=%{x}<br>energy_use=%{y}<extra></extra>",
         "legendgroup": "Cambodia",
         "line": {
          "color": "#636efa",
          "dash": "solid"
         },
         "marker": {
          "symbol": "circle"
         },
         "mode": "lines",
         "name": "Cambodia",
         "showlegend": true,
         "type": "scattergl",
         "x": {
          "bdata": "ywfMB80HzgfPB9AH0QfSB9MH1AfVB9YH1wfYB9kH2gfbB9wH3QfeBw==",
          "dtype": "i2"
         },
         "xaxis": "x",
         "y": {
          "bdata": "lGS7vkaycUCb1xKM3SpxQCkzvVH0SHBATtw6UCvKcUCw/sCurYJxQAqE2hcIHXFAnoLYfaDvcEDJFeehmmtzQK+iH8abtHNAxZ6BbKX8b0CVWYqyOPVvQHVbEbv4bW9AkKAA4sJob0Bmj7czvwdvQOGD6BvnPXZAQpsTbCTXdkCecvw/0Yh3QP78c/rEJ3hAH9ntFWOSeECMQcAhc9h5QA==",
          "dtype": "f8"
         },
         "yaxis": "y"
        },
        {
         "hovertemplate": "country=Cameroon<br>year=%{x}<br>energy_use=%{y}<extra></extra>",
         "legendgroup": "Cameroon",
         "line": {
          "color": "#EF553B",
          "dash": "solid"
         },
         "marker": {
          "symbol": "circle"
         },
         "mode": "lines",
         "name": "Cameroon",
         "showlegend": true,
         "type": "scattergl",
         "x": {
          "bdata": "swe0B7UHtge3B7gHuQe6B7sHvAe9B74HvwfAB8EHwgfDB8QHxQfGB8cHyAfJB8oHywfMB80HzgfPB9AH0QfSB9MH1AfVB9YH1wfYB9kH2gfbB9wH3QfeBw==",
          "dtype": "i2"
         },
         "xaxis": "x",
         "y": {
          "bdata": "mo8lLrVteUCH5xGkmkt5QF07etb1JnlAxPX8MYcieUB/G5xUDqZ5QNJNcqkpV3lAZ183OFhtekDhv8pZi5B6QNT6HwOlzXpAg4R+Df7WekChYBw4EDR7QKVmBtzbyHtA75y7iPcvfEAy3/eGbE58QCvc7HdwinxA0eq9mKUafEBSGcyMk8V7QG3HEjXGz3tAcdw7AC4BfEB9dGUIunh7QKJ3/8HY8HpAeQWXpuN2ekCre7cqu5x6QAl2tjHyxXpAq/67H9mAekAOJE2xz296QNy0u/NdenpAoYUVOoeHekAhf9vlBAl6QEYKO5y7cXpABT6vdBcQekBKfLyXcPl5QGuhnjB9TXpAtns7KBljekAwTAVCkNJ5QLxinewd8XdAesPaqLnzdUD32kWN7YR1QH265fmcm3ZAKrzFd4AjdkCTl0oJv710QC4lFqPny3RAsW2HkLE/dUAwDsXYb4p1QA==",
          "dtype": "f8"
         },
         "yaxis": "y"
        },
        {
         "hovertemplate": "country=Canada<br>year=%{x}<br>energy_use=%{y}<extra></extra>",
         "legendgroup": "Canada",
         "line": {
          "color": "#00cc96",
          "dash": "solid"
         },
         "marker": {
          "symbol": "circle"
         },
         "mode": "lines",
         "name": "Canada",
         "showlegend": true,
         "type": "scattergl",
         "x": {
          "bdata": "sgezB7QHtQe2B7cHuAe5B7oHuwe8B70Hvge/B8AHwQfCB8MHxAfFB8YHxwfIB8kHygfLB8wHzQfOB88H0AfRB9IH0wfUB9UH1gfXB9gH2QfaB9sH3AfdB94H3wc=",
          "dtype": "i2"
         },
         "xaxis": "x",
         "y": {
          "bdata": "F/CodmNMuUBNve7rOSS5QGDn6L9xz7pABjirqZ+su0DohmX//7G7QK0fcJtpArxAQ5cQ2LJ9vECFBV+ccAe9QO1FTbS+ib1AJZBJ1jS2vkB34hWG1pS+QDL40bM+g71A211CH44FvEA4gC34haS7QK0ngI29yLxAPZTyqRgsvUArqnAL42G9QJpY9Bgz971AFt0AkT7NvkAbLoVDTBu/QNjMXqEXzr1AO2PGjlRdvUDHm8Fnr7G9QHMo/eOLWr5AQZ7H4T4Vv0DTGYcA5iu/QD2+k3F0db9Ay45fXj54v0AR7Qe0ZQy/QOKuP+GDq79AxJb5OookwECiseKTXHi/QJtomIwaOr9AxH/1y+BKwEB1dhKkBITAQHPEM4cmc8BATvAthfgXwEDm1/5NtgrAQKQPTQ9rAcBARS10VNl0vkCRangqVGy+QG2yG0mU575ARZlvjJg1vkD1aCepKEC+QIk8YUWb2r5Ao2VdcQDPvUA=",
          "dtype": "f8"
         },
         "yaxis": "y"
        },
        {
         "hovertemplate": "country=Chile<br>year=%{x}<br>energy_use=%{y}<extra></extra>",
         "legendgroup": "Chile",
         "line": {
          "color": "#ab63fa",
          "dash": "solid"
         },
         "marker": {
          "symbol": "circle"
         },
         "mode": "lines",
         "name": "Chile",
         "showlegend": true,
         "type": "scattergl",
         "x": {
          "bdata": "swe0B7UHtge3B7gHuQe6B7sHvAe9B74HvwfAB8EHwgfDB8QHxQfGB8cHyAfJB8oHywfMB80HzgfPB9AH0QfSB9MH1AfVB9YH1wfYB9kH2gfbB9wH3QfeB98H",
          "dtype": "i2"
         },
         "xaxis": "x",
         "y": {
          "bdata": "5i+CwGgsi0DRp0VdTiWLQLqU30+MsIlAIDuLNVgaiUA8HJTskVmGQJPTC3hKTYdA2SgiEkrIh0C6WAbRDEOIQMPSbl+1R4lAAWBwKcK8iUCML+Uz98OJQP4u8fTJSIdAb1PJVwi5h0DNWmJeUJaIQL9d9ui5KIhAr7sLxsjaiECxPsDtAECJQN0wrM/1HoxAK8SvtucBj0Ay5qDAU0qQQCYRu3f6YZBA3ktVn8FukUD3xvWuHZeRQFCGBGs3oZJAj9YEb0K6k0DT7F7HZIuVQCa3gtHazZdA8PzI1nlUmEAgjVp8/YaZQDnq97dhXZlAz5ksJs+amEB53zt7JzGZQOitpVJcMJlAWOwtnUaOmkDOXmUYsxubQPmyDpA58ZtAcHqD2y2znEDqR4gxdiScQAg+uieFHptAhRcwH5sNnEAb4Lyty0OeQI9sQ/Kal6BAbCvNWHgXoUBS7F361ZOfQK7fjYVpM59A",
          "dtype": "f8"
         },
         "yaxis": "y"
        },
        {
         "hovertemplate": "country=China<br>year=%{x}<br>energy_use=%{y}<extra></extra>",
         "legendgroup": "China",
         "line": {
          "color": "#FFA15A",
          "dash": "solid"
         },
         "marker": {
          "symbol": "circle"
         },
         "mode": "lines",
         "name": "China",
         "showlegend": true,
         "type": "scattergl",
         "x": {
          "bdata": "swe0B7UHtge3B7gHuQe6B7sHvAe9B74HvwfAB8EHwgfDB8QHxQfGB8cHyAfJB8oHywfMB80HzgfPB9AH0QfSB9MH1AfVB9YH1wfYB9kH2gfbB9wH3QfeBw==",
          "dtype": "i2"
         },
         "xaxis": "x",
         "y": {
          "bdata": "SuoCNu4OfUDTEPEHs9J9QKVGjl56O35A8lfcEbBifkBOZ3cd6HuAQKPyotllyYBAF4RSJrAJgkByQ8g8PUmDQBqBoGtZWINA5R6rPaQLg0BDp1x2LKmCQDEgU7yk9oJAJxUXJklvg0CoZuuDmViEQDJSgfATjoRA7LwNEK35hEDHzET+YLOFQI8vJGK7goZAHFGGyO2ghkB7GEJv9veHQN7aPn3QBodADOM5gAeFh0BLqzigB6GIQPNbRZlNgYlAL5ZpzKwWi0BQsa/aOo2LQGRBfvMMPotABq+Fbd4qi0BzQK0/MnSLQBKDbgTmF4xAacX40H0GjUAfafJXfMaOQCAuoiK6eZFAAKsTGIjQk0BXJHTqw8aVQFpPlNixrJdAELUdIq94mUAvI57RnSOaQIM1Tuy7yZtA06zD5eOKnkCIr8+BKkqgQAeq7oM0y6BANoGxkXw4oUDfNUC1tWChQA==",
          "dtype": "f8"
         },
         "yaxis": "y"
        },
        {
         "hovertemplate": "country=Colombia<br>year=%{x}<br>energy_use=%{y}<extra></extra>",
         "legendgroup": "Colombia",
         "line": {
          "color": "#19d3f3",
          "dash": "solid"
         },
         "marker": {
          "symbol": "circle"
         },
         "mode": "lines",
         "name": "Colombia",
         "showlegend": true,
         "type": "scattergl",
         "x": {
          "bdata": "swe0B7UHtge3B7gHuQe6B7sHvAe9B74HvwfAB8EHwgfDB8QHxQfGB8cHyAfJB8oHywfMB80HzgfPB9AH0QfSB9MH1AfVB9YH1wfYB9kH2gfbB9wH3QfeBw==",
          "dtype": "i2"
         },
         "xaxis": "x",
         "y": {
          "bdata": "WL4Jm95NhECyrk0pR9uDQNxRV9dahYNArN4WMro2hEBZb8TunamEQMra14y7BYVAz40v8YAshUAfdKwft52EQL2c9wNkr4NA1jALszIyhUAXCleGDPuEQHJX2o9+FYVAH96zootEhUAIy5a80nqFQEKh5KXPV4VABUWC+/rChkC+MMTQtQ2HQMyUFW+/RIdAk8efqAf7hkCCxG6xgFWHQM5075GJHodAhZnGMfQuh0DfWRc5j8WHQFftG79hIYhAgJwFkoAWiEAhHPRQ3zqIQDjOlvK+F4dAPhFuqAzBh0BRzzj7huCEQAf2BNnlooRAVqfryx87hED/cNKPN4iDQNaFJ9HfpINAeGc0XpiOg0AET+kuAheEQMh/tnRM1oRAOYavz3lyhECrfdHcsiaFQF/zyeQvrIVAmhgtrL3GhUDzk7XP/JOFQPf8a2MzkIVAEKLP8qrJhkC3l0ydmtKGQA==",
          "dtype": "f8"
         },
         "yaxis": "y"
        },
        {
         "hovertemplate": "country=Costa Rica<br>year=%{x}<br>energy_use=%{y}<extra></extra>",
         "legendgroup": "Costa Rica",
         "line": {
          "color": "#FF6692",
          "dash": "solid"
         },
         "marker": {
          "symbol": "circle"
         },
         "mode": "lines",
         "name": "Costa Rica",
         "showlegend": true,
         "type": "scattergl",
         "x": {
          "bdata": "swe0B7UHtge3B7gHuQe6B7sHvAe9B74HvwfAB8EHwgfDB8QHxQfGB8cHyAfJB8oHywfMB80HzgfPB9AH0QfSB9MH1AfVB9YH1wfYB9kH2gfbB9wH3QfeBw==",
          "dtype": "i2"
         },
         "xaxis": "x",
         "y": {
          "bdata": "+n7HC529ekD2TexPSNN7QLNyy2UMhH1ATNuetCwlfEClUnWG8rd9QPJmWTYUNH1A/bUCCo+OgEB95NDhA3KBQHtHFiGzioFAd2lAh31tgEAmcJxLmgV+QPkbV8OSe3xAOTqzW5dCe0BiOB+53cR8QClGbXNhz3xAJkmgDQNlfUAPxHe/a4F+QAzZQ+f6dH5ACT+7IQ2IgEAiNMp8wsqAQEOlTK6vXoFAa4Pz39rdhUDSq+6j3sKFQCeBsMSM64RAQwzvnQ3XhEBFRGZ7onGEQPiOys22PYRAf1+MTmuxg0CbIw3nP0WFQIL+DN0JzoZAUDlCY5qIhkB7LR3ecVGHQD+HvaZnpYhAgDHGw5bFjEB27AzqeVmMQMEQQJhZP45A/mA9HBMVkEDHUpeFWSOQQJoFRn+mrI9AKbxGkEXej0BZ4BSTX46PQILYQyxVtY9A6GQUPYkLkEAsfIfzThSQQA==",
          "dtype": "f8"
         },
         "yaxis": "y"
        },
        {
         "hovertemplate": "country=Croatia<br>year=%{x}<br>energy_use=%{y}<extra></extra>",
         "legendgroup": "Croatia",
         "line": {
          "color": "#B6E880",
          "dash": "solid"
         },
         "marker": {
          "symbol": "circle"
         },
         "mode": "lines",
         "name": "Croatia",
         "showlegend": true,
         "type": "scattergl",
         "x": {
          "bdata": "xgfHB8gHyQfKB8sHzAfNB84HzwfQB9EH0gfTB9QH1QfWB9cH2AfZB9oH2wfcB90H3gc=",
          "dtype": "i2"
         },
         "xaxis": "x",
         "y": {
          "bdata": "VBjmw8H0nkAj+ZY5fTmbQNKhRZJCiplAXWtfSWVBmkBNo72qfXSZQH1fVb2icJpAXEtJpTCrm0CarIGctWedQFMOyem/ZZ5AkGGBOnopnkAORDIdOVOdQEIxvA0wop9AwAXMUTJDoEDH2Qij/HChQMi903LObaFArwXNsfeqoUBbxFGZwpChQFt8BDjlRKJAPcrdLyTQoUCG4XC/ND6hQI27odvkEqFAeQ7PTN+4oEDkrDSbpqCfQBLd2NBEKJ9AO8uD/dXpnUA=",
          "dtype": "f8"
         },
         "yaxis": "y"
        },
        {
         "hovertemplate": "country=Cuba<br>year=%{x}<br>energy_use=%{y}<extra></extra>",
         "legendgroup": "Cuba",
         "line": {
          "color": "#FF97FF",
          "dash": "solid"
         },
         "marker": {
          "symbol": "circle"
         },
         "mode": "lines",
         "name": "Cuba",
         "showlegend": true,
         "type": "scattergl",
         "x": {
          "bdata": "swe0B7UHtge3B7gHuQe6B7sHvAe9B74HvwfAB8EHwgfDB8QHxQfGB8cHyAfJB8oHywfMB80HzgfPB9AH0QfSB9MH1AfVB9YH1wfYB9kH2gfbB9wH3QfeBw==",
          "dtype": "i2"
         },
         "xaxis": "x",
         "y": {
          "bdata": "ZTQtHgpAkkDmm84FSUuRQHQZ1paVNZJAMthoy8cKk0DEJZZVslSTQFpwaVyEGpRA2qGwbI+vlUDK9LXbm9OWQA6p5v8sSJdA6+V0QTtVl0Dzi1k+hVyXQGb9dSOYhpdAsJffmdWYmEBIXWxAed6XQPq8YWvqhpdAs9eBViM/l0Bi5ZuIYgWYQBBpgezk/phACcOFXp4qm0BowIEofJWZQObxKvwOAJVA1WNr4YpIkkB5KgrfFGOOQH9aqNjPL49AiIpohhoRj0ABmQ40sueQQJyWvDXaT5FAgZsXA6EskEBC0cRtSMWQQNfQL01H6pFA7R1bK+BykUC6X2Gf6DWQQHbYeRaLFZBAImDDqcZbj0A1tRj605qNQOh8xnszhI1A9nY2JZcTjECPDISZeMyNQJrPPZ9ElI9AsLPnlSUSkUDgwCzMjQuQQK2c1x0BlJBA41Eapxrmj0Ac/Cf1fTKQQA==",
          "dtype": "f8"
         },
         "yaxis": "y"
        },
        {
         "hovertemplate": "country=Cyprus<br>year=%{x}<br>energy_use=%{y}<extra></extra>",
         "legendgroup": "Cyprus",
         "line": {
          "color": "#FECB52",
          "dash": "solid"
         },
         "marker": {
          "symbol": "circle"
         },
         "mode": "lines",
         "name": "Cyprus",
         "showlegend": true,
         "type": "scattergl",
         "x": {
          "bdata": "twe4B7kHuge7B7wHvQe+B78HwAfBB8IHwwfEB8UHxgfHB8gHyQfKB8sHzAfNB84HzwfQB9EH0gfTB9QH1QfWB9cH2AfZB9oH2wfcB90H3gc=",
          "dtype": "i2"
         },
         "xaxis": "x",
         "y": {
          "bdata": "FD+QKrHDikBRjMnASP2OQH9ujjJVv5BACA/nTsSUkUBAjydvWvKSQCGl3klEx5NADCq0nGhCk0DA4cj271yTQOGbN38WypNA1vOObVQdlEBFd+DV4qWTQN3zVWTO35VA5zxODQJ+mEBToTjsv6mYQNgNTLwXTJlALYzE02oOm0CaHUCVvD6bQEUJhAEaPZ5AZqc45mXZn0AFqVpMhcuhQLdEl0Bpsp5AMyQT0m+5oEAWDsuYaxKgQFzzPkrC4aBAiOIid8GqoEC7wM1R452hQBqXYkfNIaFAFRLFpVoPoUBbtlp8TDmiQPEaqXOPw6BAsSYyYc27oEDiUBDniRqhQKBpqEP7waFAhnPLgL5/okAgcP1sysihQLkh6yN866BAY0+DYvcioEBpMaP34NqdQEAAmk4Me5lAVQ4l/3ammUA=",
          "dtype": "f8"
         },
         "yaxis": "y"
        },
        {
         "hovertemplate": "country=Denmark<br>year=%{x}<br>energy_use=%{y}<extra></extra>",
         "legendgroup": "Denmark",
         "line": {
          "color": "#636efa",
          "dash": "solid"
         },
         "marker": {
          "symbol": "circle"
         },
         "mode": "lines",
         "name": "Denmark",
         "showlegend": true,
         "type": "scattergl",
         "x": {
          "bdata": "swe0B7UHtge3B7gHuQe6B7sHvAe9B74HvwfAB8EHwgfDB8QHxQfGB8cHyAfJB8oHywfMB80HzgfPB9AH0QfSB9MH1AfVB9YH1wfYB9kH2gfbB9wH3QfeB98H",
          "dtype": "i2"
         },
         "xaxis": "x",
         "y": {
          "bdata": "C4ildxMhrUBbPZEqLyWuQPAA36+Di61AM2/TgTZDq0ACtvsYavqqQEqLTakfQ61AnqedJjXsrUAE7oyIRm2uQMg8rrUSaK9AqUWaxUkurUB/00Fw3mqqQIvKa+a/vKpAtOSg+FFCqUB3BcYi7DKqQHiiyMczfK1A8QfN7ADfrUBrFccMqtetQO0vSkI9dKxAagqHV2ysqkDlv60NkWGqQNFpFQWjLa1AXQ6C3sfTq0DE0HbbB3usQGdwnYsnYa1AiOErYOH0rEDyBKKEQEqwQIdUu8pPEK5AsYAxdjh4rUCtweVdVyWsQJ+ik8Y6Q6tAch5/VOn/q0C0utouMp6rQJJkeBmrH61AfFVHjlgarECE00GKQz+rQEzVYpJXIK1A32gJlDFNrEALBeoWB1urQGjjBBFsAqpA3uOx/Jdtq0BMDphFYDypQMTm48QpJ6hAPFjk7qxqqEB1xv6nJXGmQIbnUKg6AaZA",
          "dtype": "f8"
         },
         "yaxis": "y"
        },
        {
         "hovertemplate": "country=Djibouti<br>year=%{x}<br>energy_use=%{y}<extra></extra>",
         "legendgroup": "Djibouti",
         "line": {
          "color": "#EF553B",
          "dash": "solid"
         },
         "marker": {
          "symbol": "circle"
         },
         "mode": "lines",
         "name": "Djibouti",
         "showlegend": true,
         "type": "scattergl",
         "x": {
          "bdata": "xgfUB9UH1gfXBw==",
          "dtype": "i2"
         },
         "xaxis": "x",
         "y": {
          "bdata": "Cvb1akINbECU3R/cxB9kQMstPJJ+tGRAOKmOxUTjZEAZJQZwiXBkQA==",
          "dtype": "f8"
         },
         "yaxis": "y"
        },
        {
         "hovertemplate": "country=Dominican Republic<br>year=%{x}<br>energy_use=%{y}<extra></extra>",
         "legendgroup": "Dominican Republic",
         "line": {
          "color": "#00cc96",
          "dash": "solid"
         },
         "marker": {
          "symbol": "circle"
         },
         "mode": "lines",
         "name": "Dominican Republic",
         "showlegend": true,
         "type": "scattergl",
         "x": {
          "bdata": "swe0B7UHtge3B7gHuQe6B7sHvAe9B74HvwfAB8EHwgfDB8QHxQfGB8cHyAfJB8oHywfMB80HzgfPB9AH0QfSB9MH1AfVB9YH1wfYB9kH2gfbB9wH3QfeBw==",
          "dtype": "i2"
         },
         "xaxis": "x",
         "y": {
          "bdata": "SeQ+CLoqgEBg5svGhlWCQFixKHSsu4JAo33FG40ug0C0xvnWmRODQNLxkbTKNINAmitAofgmg0AB5xsCCyaDQIDOY9MkaINA3SeQ3CO8gkAEPugaMeyCQIc9pmV44IJAHO+t0/ucg0DC41OjATGEQFsKi+UMdYBA6p6LlZG3gEACtiCdkomCQJW+DJIuYIFALBVfMuvGgEARdxCSYouBQMJnKGoIU4FAeJPIC8/UgkA5p77S7OWBQOMqhOfhKoRAxvRwNtPJhEDem0sFiE6FQOIxOH52XYdAzRhIOL9JiEAGXc09Q9uIQFrbtLVaSIpABts7sIsXiUC4L4f7ADuKQA9ic1m7eIhAjpqWVbDUhUAwrApSgmyHQHRGSMIP84dAfz8a7ScQiECt1MlFktWHQCrG6B5YGIdAqqxBm2L2h0D/h8qJhxiIQNSFzsDDIIlAODurXL1mh0DrT8n/syaHQA==",
          "dtype": "f8"
         },
         "yaxis": "y"
        },
        {
         "hovertemplate": "country=Ecuador<br>year=%{x}<br>energy_use=%{y}<extra></extra>",
         "legendgroup": "Ecuador",
         "line": {
          "color": "#ab63fa",
          "dash": "solid"
         },
         "marker": {
          "symbol": "circle"
         },
         "mode": "lines",
         "name": "Ecuador",
         "showlegend": true,
         "type": "scattergl",
         "x": {
          "bdata": "swe0B7UHtge3B7gHuQe6B7sHvAe9B74HvwfAB8EHwgfDB8QHxQfGB8cHyAfJB8oHywfMB80HzgfPB9AH0QfSB9MH1AfVB9YH1wfYB9kH2gfbB9wH3QfeBw==",
          "dtype": "i2"
         },
         "xaxis": "x",
         "y": {
          "bdata": "JyO+ATINdkDU0vD+8zB2QB0oxqrB3XVAzHyN12u9eUAqbkQdUZZ7QAV3P0sX1n1AHZ55JnZkgUCQjuXHz22BQMxE6el66IFAO2D6kMUeg0CW75rzVF2DQLOhLvrZTYRAJtHJ9zNWgkBCNoCEpSCDQIsEBQOu2IJAJ2X1VSlOgkC5L/jXJUyCQBWPViQYuIJA4rwCp1l+gUCsxyNeAOOCQLd5LjxGbYNAV3gc7GRCg0Cg+mz6X5iBQDyNecYYeIJAVaZU7Hw4hUDayPzUCu+FQPjtTXGRWoZA6+7by2WOhkAYV/DlGvCDQMx6t2XvtYVAOMOEhrqkhkAq4TSf67aFQDoLwDfxpoVAKrrzLCKMhECJQWwxAhOFQJUMzm+yzoRAZpRerSkkh0BPmzTCS/WEQBL9zCC/iohAD7Z89CFliEACn0nKiGmJQNlx0HASsYhA0ZWUoUI1ikChR071x6KLQA==",
          "dtype": "f8"
         },
         "yaxis": "y"
        },
        {
         "hovertemplate": "country=El Salvador<br>year=%{x}<br>energy_use=%{y}<extra></extra>",
         "legendgroup": "El Salvador",
         "line": {
          "color": "#FFA15A",
          "dash": "solid"
         },
         "marker": {
          "symbol": "circle"
         },
         "mode": "lines",
         "name": "El Salvador",
         "showlegend": true,
         "type": "scattergl",
         "x": {
          "bdata": "swe0B7UHtge3B7gHuQe6B7sHvAe9B74HvwfAB8EHwgfDB8QHxQfGB8cHyAfJB8oHywfMB80HzgfPB9AH0QfSB9MH1AfVB9YH1wfYB9kH2gfbB9wH3QfeBw==",
          "dtype": "i2"
         },
         "xaxis": "x",
         "y": {
          "bdata": "7HJu1kckfUCOYFkgWm5+QMtcF3Xman9AIWWFNdZkf0Bb4HnBESSBQJRhWeEFX4NAUvm28u2Qg0CXI021ekeEQEajxZzvZYNA7Mt04E9WgUAr9/w24ZuCQLAn61OwAINAOAVXeZnvgUBfq2o/OPaBQBoIzC9GwYBAqtt+fh2IfEBYZHePjTd/QGMH2YAVjHxA1UNnYvWxfEBk/8kHEpN8QJwg/w5Q335AJtdERw+0f0AVGDuOiXeAQCVdEolvRoFASenNcU03gkCvaVIqnUeBQDg6QoKw/oJAErMpyFJrg0A9hZcXkgmEQCFF77Pq24RAIbi0gY67hUCO2B4TshaGQHaYYbUiA4dAekVl5EXNhkBt1vCxinSHQJyCebWspYhAkJp8lKVJh0CNmOnauk+HQPf4Rx75w4VAET5ffAnjhUB74zNo2ASGQPXENFt6mIVA/nVyeyJOhEDDbq/z0p2EQA==",
          "dtype": "f8"
         },
         "yaxis": "y"
        },
        {
         "hovertemplate": "country=Equatorial Guinea<br>year=%{x}<br>energy_use=%{y}<extra></extra>",
         "legendgroup": "Equatorial Guinea",
         "line": {
          "color": "#19d3f3",
          "dash": "solid"
         },
         "marker": {
          "symbol": "circle"
         },
         "mode": "lines",
         "name": "Equatorial Guinea",
         "showlegend": true,
         "type": "scattergl",
         "x": {
          "bdata": "1AfVB9YH1wc=",
          "dtype": "i2"
         },
         "xaxis": "x",
         "y": {
          "bdata": "fPJKQvV1ikAtIE0/kJmUQI5Lhb+ftpdA7pL/pDeHmkA=",
          "dtype": "f8"
         },
         "yaxis": "y"
        },
        {
         "hovertemplate": "country=Eritrea<br>year=%{x}<br>energy_use=%{y}<extra></extra>",
         "legendgroup": "Eritrea",
         "line": {
          "color": "#FF6692",
          "dash": "solid"
         },
         "marker": {
          "symbol": "circle"
         },
         "mode": "lines",
         "name": "Eritrea",
         "showlegend": true,
         "type": "scattergl",
         "x": {
          "bdata": "yAfJB8oHywfMB80HzgfPB9AH0QfSB9MH1AfVB9YH1wfYB9kH2gfbBw==",
          "dtype": "i2"
         },
         "xaxis": "x",
         "y": {
          "bdata": "QJ4s6ON7fkCZsumZMAR/QNkkfTGOBn9AzYWG1w3KfkDy52KMlcB+QKyncEHcOH5AAMFlHXpkc0AxoHulL9BzQAM9B/eKsHNA21zPKOIMdEClU/V0IoxzQKN1hLoJFnRADxv7YNbicUA35D8PHeVxQME5wEUwDHBA3mg6vmNVcECse9+NUO9tQORWmroiPm9A3uXCxvZwb0DIH4mahqpvQA==",
          "dtype": "f8"
         },
         "yaxis": "y"
        },
        {
         "hovertemplate": "country=Estonia<br>year=%{x}<br>energy_use=%{y}<extra></extra>",
         "legendgroup": "Estonia",
         "line": {
          "color": "#B6E880",
          "dash": "solid"
         },
         "marker": {
          "symbol": "circle"
         },
         "mode": "lines",
         "name": "Estonia",
         "showlegend": true,
         "type": "scattergl",
         "x": {
          "bdata": "yQfKB8sHzAfNB84HzwfQB9EH0gfTB9QH1QfWB9cH2AfZB9oH2wfcB90H3gffBw==",
          "dtype": "i2"
         },
         "xaxis": "x",
         "y": {
          "bdata": "ykaY04lurEDqwMxPxlCtQB68zL3cUKxAAxnudJSWr0AtPZrf1FWvQE4GgmJX3qxADqv3r4gNq0BLLhOyal2qQMkrfCsGq6tAdJGYrY+vqkDC1nSWE6ytQLEhRXvKaq5AzDPjL8kMrkDHxGL2EX6tQIX1S+Olk7BAVDi38GoJsEAAItgq9YGsQLIqe7i8frBA1lJIrLqNsEBcIJtEY06wQC0h5XNHD7JAWEga0J3wsUD5VeqaU02wQA==",
          "dtype": "f8"
         },
         "yaxis": "y"
        },
        {
         "hovertemplate": "country=Ethiopia<br>year=%{x}<br>energy_use=%{y}<extra></extra>",
         "legendgroup": "Ethiopia",
         "line": {
          "color": "#FF97FF",
          "dash": "solid"
         },
         "marker": {
          "symbol": "circle"
         },
         "mode": "lines",
         "name": "Ethiopia",
         "showlegend": true,
         "type": "scattergl",
         "x": {
          "bdata": "swe0B7UHtge3B7gHuQe6B7sHvAe9B74HvwfAB8EHwgfDB8QHxQfGB8cHyAfJB8oHywfMB80HzgfPB9AH0QfSB9MH1AfVB9YH1wfYB9kH2gfbB9wH3QfeBw==",
          "dtype": "i2"
         },
         "xaxis": "x",
         "y": {
          "bdata": "M4uS7TtmfkB3nf5rIWJ+QDNExYbyfX5A06ycH+N5fkBisjAXCUh+QApWosdcC35AnlGxaC/efUAEDb2HvdR9QGRym11M4H1Ato+L/mNPfkBpvWOxslB+QMEUyv6L5n1A+QQqDnsAfkBudXUagxd+QMehgr4/Mn5A/73TUldefkBLhGa1Ynl+QOLX/a5ZQH5A09qNcS8gfkBb5+19NBt+QNeZBwGL0X1AmGzyV2BJfUD1OBUjMXV9QLiIpxPhjX1AFtDUv2WffUBHy73qN6N9QPFhkLRPhn1A1/OBpRZ9fUA525f9IWJ9QK9dHcgeYX1AZncxPfCSfUBkHOj1Aop9QBhkcv5ekn1AFBeDqMWOfUATDNMmOGd9QPD/AcWYan1AVjMIUXh2fUAnG/zD9nx9QGBno01Edn1ApPSW+L5xfUC6TAY45ZV9QMCnBkYgmH1Ar+gEMhzOfUDdii4/U+Z9QA==",
          "dtype": "f8"
         },
         "yaxis": "y"
        },
        {
         "hovertemplate": "country=Fiji<br>year=%{x}<br>energy_use=%{y}<extra></extra>",
         "legendgroup": "Fiji",
         "line": {
          "color": "#FECB52",
          "dash": "solid"
         },
         "marker": {
          "symbol": "circle"
         },
         "mode": "lines",
         "name": "Fiji",
         "showlegend": true,
         "type": "scattergl",
         "x": {
          "bdata": "xgfUB9UH1gfXBw==",
          "dtype": "i2"
         },
         "xaxis": "x",
         "y": {
          "bdata": "lpx5QF0Zd0BdjQTejs2HQAF9zOlgeIRAZr1gxKieg0DbEnliBj2CQA==",
          "dtype": "f8"
         },
         "yaxis": "y"
        },
        {
         "hovertemplate": "country=Finland<br>year=%{x}<br>energy_use=%{y}<extra></extra>",
         "legendgroup": "Finland",
         "line": {
          "color": "#636efa",
          "dash": "solid"
         },
         "marker": {
          "symbol": "circle"
         },
         "mode": "lines",
         "name": "Finland",
         "showlegend": true,
         "type": "scattergl",
         "x": {
          "bdata": "sgezB7QHtQe2B7cHuAe5B7oHuwe8B70Hvge/B8AHwQfCB8MHxAfFB8YHxwfIB8kHygfLB8wHzQfOB88H0AfRB9IH0wfUB9UH1gfXB9gH2QfaB9sH3AfdB94H3wc=",
          "dtype": "i2"
         },
         "xaxis": "x",
         "y": {
          "bdata": "LJSaL3JArkCbt7kTbMauQHvlGCIpXLBAttGClo6bsUBN3joe2R+xQLwfMYfPVbBAqlVYD9xrsUC1i1uBP6SxQNKt2u6FOLJAA8AOF4ljs0AhILNtpBq0QG5/0qWWRrNA5N0Lb37FskALV1Tc29eyQOUQf+SFLrNAwWhrcuSVtEBh3YITlGq1QFYqU02xSLdA375nv2/WtUDepAmoo3m2QMr0PDmSO7ZAEU06w8hutkBOTrE5/gS1QB5+AiM38bVAIJTQ5I1Ut0Cu2W5k5x22QMj3xks2trdAgbwWovOEuED10iCcU6+4QPNlaVD1i7hAwPQZLDF2uEBFH1kPoAq5QJbA/NaUSLpAvEh50galu0BQQ3Kt2t67QAj9M7YForlAxoCoWNvHu0DJ3CeS5T67QN7ejmAsDbpAwJKH8Ex8uEC3zwukyKy6QJBp+SWjiblAlCvgXcWDuEBqn/cvOuS3QGSaj5ZbRbhAY2NiO7Mkt0A=",
          "dtype": "f8"
         },
         "yaxis": "y"
        },
        {
         "hovertemplate": "country=France<br>year=%{x}<br>energy_use=%{y}<extra></extra>",
         "legendgroup": "France",
         "line": {
          "color": "#EF553B",
          "dash": "solid"
         },
         "marker": {
          "symbol": "circle"
         },
         "mode": "lines",
         "name": "France",
         "showlegend": true,
         "type": "scattergl",
         "x": {
          "bdata": "sgezB7QHtQe2B7cHuAe5B7oHuwe8B70Hvge/B8AHwQfCB8MHxAfFB8YHxwfIB8kHygfLB8wHzQfOB88H0AfRB9IH0wfUB9UH1gfXB9gH2QfaB9sH3AfdB94H3wc=",
          "dtype": "i2"
         },
         "xaxis": "x",
         "y": {
          "bdata": "bhgwAVgJp0BRihfX2ZinQKf9C388sahA4EvKpaFbqkCy93Fx+lepQPeb8uhg3adAmdadZANeqUAiNRmIcceoQACCH5d8TapAuEvs3NBHq0DFnaBH3xqrQDPv379LUapADpJDKDKWqUCx9GrE+RyqQPu9zfBy66pAnwYaTecZrED2E+2eamSsQIcnxOQy8axApmlSlNGmrEBv6AzkbKetQFDongTpCa5AGbI45+WWr0CdYkgFoeSuQI+sRfNMRK9AmWuDoYb4rUA/WZQyyRqvQO9xbknTX7BA5QdC5Qeir0DO9YDwUjewQMXdjs8qG7BA2cEMNQ8nsEDTAqI1hpWwQEsplXz/gLBAaHvhyJuusEAo7Kpvjc2wQIyXcDAOv7BAyS+0l8dcsEDWAtYPfBOwQJ5AVsWTDrBAdwrBA/2SrkCjzGsj22GvQPwmLwVgDq5AJZHSf5D5rUDj/kvvJ/OtQEvFbPMslqxAA5tyIQnYrEA=",
          "dtype": "f8"
         },
         "yaxis": "y"
        },
        {
         "hovertemplate": "country=Gabon<br>year=%{x}<br>energy_use=%{y}<extra></extra>",
         "legendgroup": "Gabon",
         "line": {
          "color": "#00cc96",
          "dash": "solid"
         },
         "marker": {
          "symbol": "circle"
         },
         "mode": "lines",
         "name": "Gabon",
         "showlegend": true,
         "type": "scattergl",
         "x": {
          "bdata": "swe0B7UHtge3B7gHuQe6B7sHvAe9B74HvwfAB8EHwgfDB8QHxQfGB8cHyAfJB8oHywfMB80HzgfPB9AH0QfSB9MH1AfVB9YH1wfYB9kH2gfbB9wH3QfeBw==",
          "dtype": "i2"
         },
         "xaxis": "x",
         "y": {
          "bdata": "Jjp8un1+m0CC83TbGVeaQApHL0lpxaFAduL7g7H6okAaej+seaSeQCNPXXO2uJxAqP4rF1OUnkBt7XQUce6gQBvSgTP+Op1AV2OmVoCwnEA7Y1fpqVqfQKbVQDf9a59Aacdd1kJ0n0BQ7P1xgnicQFGM2uNKzZhAW/zWK9wbmECubFEAzT+WQAzd4deY4ZZAzzjGMiq6lEBLc3cHwsOSQHgaPUaT25JAyIikqXWfk0ABSy83aDeUQN//6V3tdJFA6eo+jUmokkBA8NdHJPGSQNBDK/S3spJAwNbmdHNkk0AdkIEDsGaSQIHGTkurA5JAaJjAvN7VkkBg+lAn6SKWQMlBwvPVUplAAcvaPt6TnEA2N33mzwigQLxkK9nif6FAdURtBi/kokCgBV/2TRqkQNbGKvauRaVAHshISMoVp0BD0R3dA/GhQB7QB7Qyrp5AK0BL9FGfpUACyRlHwwqkQA==",
          "dtype": "f8"
         },
         "yaxis": "y"
        },
        {
         "hovertemplate": "country=Georgia<br>year=%{x}<br>energy_use=%{y}<extra></extra>",
         "legendgroup": "Georgia",
         "line": {
          "color": "#ab63fa",
          "dash": "solid"
         },
         "marker": {
          "symbol": "circle"
         },
         "mode": "lines",
         "name": "Georgia",
         "showlegend": true,
         "type": "scattergl",
         "x": {
          "bdata": "xgfHB8gHyQfKB8sHzAfNB84HzwfQB9EH0gfTB9QH1QfWB9cH2AfZB9oH2wfcB90H3gc=",
          "dtype": "i2"
         },
         "xaxis": "x",
         "y": {
          "bdata": "EUtAxYYypEBwfrHhGj6gQD91+kASw5tABO+2JksxmEDLapWly0WOQMfR1Ty7/ohAG4EiQjEQikCYtod8m56HQIZLFwHdYYZAa+gpNKLqhECpNW5Dxv2FQDNRP+9oAoRArtyKlVr7g0Bx7e1HqGSFQNYjCoLkH4ZAa+c/vgu/hkCoVE8z+2mIQAF1xhG+DItAtZfScMFliED9kzt+QVyJQF4eaCRYxIlADot26Vl8jUBdzyRi6w2PQCtI/z1dYZBAUAt4TBdxkkA=",
          "dtype": "f8"
         },
         "yaxis": "y"
        },
        {
         "hovertemplate": "country=Germany<br>year=%{x}<br>energy_use=%{y}<extra></extra>",
         "legendgroup": "Germany",
         "line": {
          "color": "#FFA15A",
          "dash": "solid"
         },
         "marker": {
          "symbol": "circle"
         },
         "mode": "lines",
         "name": "Germany",
         "showlegend": true,
         "type": "scattergl",
         "x": {
          "bdata": "sgezB7QHtQe2B7cHuAe5B7oHuwe8B70Hvge/B8AHwQfCB8MHxAfFB8YHxwfIB8kHygfLB8wHzQfOB88H0AfRB9IH0wfUB9UH1gfXB9gH2QfaB9sH3AfdB94H3wc=",
          "dtype": "i2"
         },
         "xaxis": "x",
         "y": {
          "bdata": "mibw2LoprkCbZBuKh26uQCZsv72sYq9A7uAr1g+QsECSaEOJRT6wQNWPfM/yIa9AbU8w5pTasEC4Ix9gFvCwQF86L3/hg7FAbEFY9ktNskAVX9/ES9KxQDM3bfR/L7FA6ffMSd2hsEDsFIKFDKywQDkoAg9RX7FACRtkdCP2sUCOmPxVJ+2xQCUq3KVlCLJA+GKGey0VskB0hqRntKKxQO0b5VFdRbFAvowQJOTOsEC1eN/1+16wQPBdARyyGrBAhJV5pJjxr0CHo+VesBewQKJe8p2NlrBAgZlgfFtrsEDv/g5MS1GwQPiXUd/d369AbMBx5x78r0CEflXMy3GwQFXbhbtmDLBAAGKEtgHpr0DfGUrSYxKwQJWVmb4B7a9AbNi6madssECP6Iu4nyOvQGVeIFypia9AS2LwlgCdrUAVKdipKDqvQHobxuihO65Ai1TmbeVJrkAX49ciD8euQO2U4YDshq1A/k/dTBnTrUA=",
          "dtype": "f8"
         },
         "yaxis": "y"
        },
        {
         "hovertemplate": "country=Ghana<br>year=%{x}<br>energy_use=%{y}<extra></extra>",
         "legendgroup": "Ghana",
         "line": {
          "color": "#19d3f3",
          "dash": "solid"
         },
         "marker": {
          "symbol": "circle"
         },
         "mode": "lines",
         "name": "Ghana",
         "showlegend": true,
         "type": "scattergl",
         "x": {
          "bdata": "swe0B7UHtge3B7gHuQe6B7sHvAe9B74HvwfAB8EHwgfDB8QHxQfGB8cHyAfJB8oHywfMB80HzgfPB9AH0QfSB9MH1AfVB9YH1wfYB9kH2gfbB9wH3QfeBw==",
          "dtype": "i2"
         },
         "xaxis": "x",
         "y": {
          "bdata": "3vaRMahodEAc9aIdJv10QPqOb/TTpXVAV2TucdMUdkAY+elUDTh2QGHDAbYCm3VASxvgMltEdkB9+E8jiIx1QCxc4V2ZEXVAD6nBWPAOdUDFjTu67Gt1QJm+W+ppZHVAuCNYTniccUChj4uQy1dyQF6Dq61J6XNARWc/tBxBdEBEJ9biJHR1QPu0jdKofnRAs3/MRHyNdUDP8NmXFnt1QOQKLNPKrHVAvoXryeXldUDy7civmmJ2QNDklYVQvXZAZxofMvE+d0DMTOqmXX53QC0D09+E+XdALkUEgj+7eECpnbcr8RB5QIUuuTrj+XNAbdXjYHOTc0DagmApDe5yQOM1zjkpb3FAmHGvB/T3cEDAesEldWJwQFMij+32AXFAxar+8YWTcEBJ61a7cSlwQBmg6dmLEnFAtc4avAwsckC0Mf2Mz+9yQHfCMgIwAXRAsEpYGHFudED2tOjYhiJ0QA==",
          "dtype": "f8"
         },
         "yaxis": "y"
        },
        {
         "hovertemplate": "country=Greece<br>year=%{x}<br>energy_use=%{y}<extra></extra>",
         "legendgroup": "Greece",
         "line": {
          "color": "#FF6692",
          "dash": "solid"
         },
         "marker": {
          "symbol": "circle"
         },
         "mode": "lines",
         "name": "Greece",
         "showlegend": true,
         "type": "scattergl",
         "x": {
          "bdata": "sgezB7QHtQe2B7cHuAe5B7oHuwe8B70Hvge/B8AHwQfCB8MHxAfFB8YHxwfIB8kHygfLB8wHzQfOB88H0AfRB9IH0wfUB9UH1gfXB9gH2QfaB9sH3AfdB94H3wc=",
          "dtype": "i2"
         },
         "xaxis": "x",
         "y": {
          "bdata": "q4wrE0VGi0B4UwUsVsCOQPk5jF4lu5FAazjvRg6rlEAwJ7UaZaGTQKWHpETRSJRA/mSn4GaolUAwBomdMvaWQBXjQy7G1ZdATXjFJbT3mEBkk+lfIEeYQDc6hRcehZdAhWCeXBwFmECy+arnR/yYQLhmLIDr0plA6LaTihCbm0DRZiyuRSeaQGjuHWNV/5tAnEf4Zai7nUCiWHWLOlqgQJAqkflabaBAS3qYNT5doEBe+g7+yaOgQF/RplSGVaBADG8BAIG0oEDfiongRcagQD2ttTE1PKFAbyxoKUbUoUBvJRcYlquiQK4YbW0qrKJAM6g5p0eVo0AIGOJlOSSkQA4rxR9/S6RAm2olQ+jUpEBubhX/7i6lQM/k+TYagqVAVqM4ikJtpUC+K8D8gl2lQIJHmKb8cqVAAqzkiFKzpECuFSFhOGSjQAaIV4WGz6JA08VwAHbGokAF+nR2BaCgQAnQYrjLl6BAL6FcZiQMoUA=",
          "dtype": "f8"
         },
         "yaxis": "y"
        },
        {
         "hovertemplate": "country=Guatemala<br>year=%{x}<br>energy_use=%{y}<extra></extra>",
         "legendgroup": "Guatemala",
         "line": {
          "color": "#B6E880",
          "dash": "solid"
         },
         "marker": {
          "symbol": "circle"
         },
         "mode": "lines",
         "name": "Guatemala",
         "showlegend": true,
         "type": "scattergl",
         "x": {
          "bdata": "swe0B7UHtge3B7gHuQe6B7sHvAe9B74HvwfAB8EHwgfDB8QHxQfGB8cHyAfJB8oHywfMB80HzgfPB9AH0QfSB9MH1AfVB9YH1wfYB9kH2gfbB9wH3QfeBw==",
          "dtype": "i2"
         },
         "xaxis": "x",
         "y": {
          "bdata": "9FFDtNnbfkAGF49HhgN/QMZMgkzMkX9AazQ6r+egf0As/8M7kv2AQJ2uigCvyIFAiFs/j8dygkDn3xJf8W6CQMsTt5QqEoNAusOi8cwsgUCPQo3PdkqAQKm4t9YySX9AWw0LC2CAfUAFQKC0LU9+QMagixBWBH5AZteSHZ4HfEDSI31azc98QHqmhxc4JH1AVnFFh2ZqfUDO5MlceIx+QJFy0IN6kn5AcBEV93Bmf0Ch8Ot/6Xh+QPYkXEeKRH9A5AKgACEfgEDTVBl+nSWAQGgaOsIMeIBAjKtaVwx1gUDZxAoYJLOCQGo8jPwpz4JAgkiX6m/EgkDVPqz8lX2CQDTY0TMny4JAlhptZQPugkC2qjv/x5+CQCCixUn2hIJAKbJAJ8R7g0D2v2yEAEuCQKYN4cxKlYRA2f87bnP4hUCaoBeXBAeHQBhSS1Qp7oZAVwNiZUp2iED1AxpzKleKQA==",
          "dtype": "f8"
         },
         "yaxis": "y"
        },
        {
         "hovertemplate": "country=Guinea-Bissau<br>year=%{x}<br>energy_use=%{y}<extra></extra>",
         "legendgroup": "Guinea-Bissau",
         "line": {
          "color": "#FF97FF",
          "dash": "solid"
         },
         "marker": {
          "symbol": "circle"
         },
         "mode": "lines",
         "name": "Guinea-Bissau",
         "showlegend": true,
         "type": "scattergl",
         "x": {
          "bdata": "xgfUB9UH1gfXBw==",
          "dtype": "i2"
         },
         "xaxis": "x",
         "y": {
          "bdata": "q0eqLsopU0BNfxDlttxPQIZASrtOfE9AXpTDi5nLT0CfnhcLQV5QQA==",
          "dtype": "f8"
         },
         "yaxis": "y"
        },
        {
         "hovertemplate": "country=Guyana<br>year=%{x}<br>energy_use=%{y}<extra></extra>",
         "legendgroup": "Guyana",
         "line": {
          "color": "#FECB52",
          "dash": "solid"
         },
         "marker": {
          "symbol": "circle"
         },
         "mode": "lines",
         "name": "Guyana",
         "showlegend": true,
         "type": "scattergl",
         "x": {
          "bdata": "xgfUB9UH1gfXBw==",
          "dtype": "i2"
         },
         "xaxis": "x",
         "y": {
          "bdata": "LgN6UFHYf0C3a7NBHaKDQKZd1npEVIRAjmN1DFSWhEBIYMV8/KSEQA==",
          "dtype": "f8"
         },
         "yaxis": "y"
        },
        {
         "hovertemplate": "country=Honduras<br>year=%{x}<br>energy_use=%{y}<extra></extra>",
         "legendgroup": "Honduras",
         "line": {
          "color": "#636efa",
          "dash": "solid"
         },
         "marker": {
          "symbol": "circle"
         },
         "mode": "lines",
         "name": "Honduras",
         "showlegend": true,
         "type": "scattergl",
         "x": {
          "bdata": "swe0B7UHtge3B7gHuQe6B7sHvAe9B74HvwfAB8EHwgfDB8QHxQfGB8cHyAfJB8oHywfMB80HzgfPB9AH0QfSB9MH1AfVB9YH1wfYB9kH2gfbB9wH3QfeBw==",
          "dtype": "i2"
         },
         "xaxis": "x",
         "y": {
          "bdata": "rZufcAGhfkCLOCekdmJ+QKqRbWQSnn5AtuDah1o1fkBjcPFU9CN+QCegKckMZH5ArSVIgXksf0DQcrRPmAB/QM4vYytZFH9Aq8ny1K9df0AbOF1UQEF+QM5Ef5EWyH9Ak8BWJVNAfkA0BqgpTAp+QERyeZga7nxAbvQMBQzZfEBe12+EIpB9QOyUUBK/HH5AnxHl5yt9fkD5YAPHeNx9QHDWngK6R31AImB9H5aufUCVZOmax3x9QDJJniZCwX1Ab8c/zD3AfkDobRElAgR+QFY18H8M4n9AzRkhIRargEDMbeVImYx8QPo19/ZTa3xAhz3vZuTUfUAb6Ew6tDp+QMO8ia+EA4BA60iwbtjVgEC5TWV/qSyBQBfH4cGYTIBAv2XEPJi0gkB22ERYGCSCQPk/9hWFAYFAXj2s8nIMgUCnz7UH8YOCQFC9JmcSYIJA5nuYcFdHgkAoTnFgrnaCQA==",
          "dtype": "f8"
         },
         "yaxis": "y"
        },
        {
         "hovertemplate": "country=Hungary<br>year=%{x}<br>energy_use=%{y}<extra></extra>",
         "legendgroup": "Hungary",
         "line": {
          "color": "#EF553B",
          "dash": "solid"
         },
         "marker": {
          "symbol": "circle"
         },
         "mode": "lines",
         "name": "Hungary",
         "showlegend": true,
         "type": "scattergl",
         "x": {
          "bdata": "sgezB7QHtQe2B7cHuAe5B7oHuwe8B70Hvge/B8AHwQfCB8MHxAfFB8YHxwfIB8kHygfLB8wHzQfOB88H0AfRB9IH0wfUB9UH1gfXB9gH2QfaB9sH3AfdB94H3wc=",
          "dtype": "i2"
         },
         "xaxis": "x",
         "y": {
          "bdata": "Zd5+xqYIm0AKKmslZrGcQOfxiLonYp1AxuIn1nfdn0Dv0dxh+WugQPpOn3J++qBA9Wd2w1gOokDMgvKdqPmiQGnPAmEe5KRA+QHB8WicpEAwU3K+m6ykQAyqs/kVjKRAniWvV4SNpEBQ6oAgykSkQO/zes3JEqVAcpHJ/oDUpUBHzcNLXselQD2M8KennaZAPAvJ1fNfpkDFpyynynWmQElLCev7rKVAK1FAW9ilpEBeFZrgW+6iQNEBQJblYqNA6Uqvb2DNokAwPozVJ46jQABaZN/yGaRAf664bpq+o0CTAdB4aIyjQOaiXtpsdaNAL35x2kcgo0BtIfiFWaGjQI1X/g9OsKNAo2HlPGoopEC0AXJclSakQOLR7VMUVqVA8fmJoIMypUCYEn+fEsSkQPrI3iVLmaRABQD6ETRco0Am+zPi5RGkQPSFHImkiKNA3IIcfht7okDsDBL45L+hQIJ/kSz+FKJACBfO6oABo0A=",
          "dtype": "f8"
         },
         "yaxis": "y"
        },
        {
         "hovertemplate": "country=Iceland<br>year=%{x}<br>energy_use=%{y}<extra></extra>",
         "legendgroup": "Iceland",
         "line": {
          "color": "#00cc96",
          "dash": "solid"
         },
         "marker": {
          "symbol": "circle"
         },
         "mode": "lines",
         "name": "Iceland",
         "showlegend": true,
         "type": "scattergl",
         "x": {
          "bdata": "sgezB7QHtQe2B7cHuAe5B7oHuwe8B70Hvge/B8AHwQfCB8MHxAfFB8YHxwfIB8kHygfLB8wHzQfOB88H0AfRB9IH0wfUB9UH1gfXB9gH2QfaB9sH3AfdB94H3wc=",
          "dtype": "i2"
         },
         "xaxis": "x",
         "y": {
          "bdata": "cd72+f2HsEDvsQZxTxqxQDj6wzr4M7FAZQ0KO/eUtEDGY2lzMgy0QM2CtaWiz7NAr5SSvJTds0DD0jbD3uK1QEscDci1TrZAYkQZSA9zuUBWYOyH/6C5QIwUnY7eCrxAylCuPjWku0BDSbVJSVa8QMX9QxxFa71AYNHF5OamvEDWbeFTkLW9QMbrMHN0sb5AulErSXnKvkAXnyGaCS+/QCqKt1/lZcFATxArUlt2v0CIt274ZEu+QIH5W6rEHMBALL7C2rQywEDklslr4h/AQA/s14DkR8FAi9cj3QzEwEAOEv2/U6bBQB57Ju0nm8NAyZ5fQcapxUBK5viru67EQB3HvCNSGsVAqdn3EKr1xEBxIQ4XII7EQN4d6VFwjsRAkC4H2QDfyEDaF+YCBM3MQEmVL2fq8M9A7bYsG8WD0EDfQkCtyp/QQL2gQUdmu9FAZFfikoQ30UC4fZ7liMDRQM9d+LQHf9FAJDeEJ7kR0UA=",
          "dtype": "f8"
         },
         "yaxis": "y"
        },
        {
         "hovertemplate": "country=India<br>year=%{x}<br>energy_use=%{y}<extra></extra>",
         "legendgroup": "India",
         "line": {
          "color": "#ab63fa",
          "dash": "solid"
         },
         "marker": {
          "symbol": "circle"
         },
         "mode": "lines",
         "name": "India",
         "showlegend": true,
         "type": "scattergl",
         "x": {
          "bdata": "swe0B7UHtge3B7gHuQe6B7sHvAe9B74HvwfAB8EHwgfDB8QHxQfGB8cHyAfJB8oHywfMB80HzgfPB9AH0QfSB9MH1AfVB9YH1wfYB9kH2gfbB9wH3QfeBw==",
          "dtype": "i2"
         },
         "xaxis": "x",
         "y": {
          "bdata": "OhBty3QAcUBxl0JycgRxQG18Q/DoHHFAtLe9VV9hcUBbkBR9sJNxQNlCaCOK23FAnErYGOHwcUCqQ0QrV8ZxQAGjTY0yKXJAYzQBN+IvckBE4LFv76lyQOszpsVO8HJAq2w1n+YZc0CNT69BpG5zQIb/Hzu++nNAQI5X07E2dEBFzp9WAIN0QME8krmQJXVA1L8kSXWndUB4XNzM/hZ2QAEk5H5ihXZAjvs6QRvadkAwIn9kqel2QAYpVXafT3dA1LW/ybQoeEDu5RGV6Wd4QOKvNWxK4XhAwjzyBR79eEC/+6HgU+55QM15B2oZDHpAJ66QFlXueUCu+DpgBjp6QIP172WdZHpAPRB5es9Te0C5g9vJNvB7QIQSvBM083xACvT0GewgfkD8DEvItih/QAQZO4lJ6YBAg91Id/trgUADTlCQ2+eBQLa9w9PoiIJA9FQZz0y2gkDomAW026ODQA==",
          "dtype": "f8"
         },
         "yaxis": "y"
        },
        {
         "hovertemplate": "country=Indonesia<br>year=%{x}<br>energy_use=%{y}<extra></extra>",
         "legendgroup": "Indonesia",
         "line": {
          "color": "#FFA15A",
          "dash": "solid"
         },
         "marker": {
          "symbol": "circle"
         },
         "mode": "lines",
         "name": "Indonesia",
         "showlegend": true,
         "type": "scattergl",
         "x": {
          "bdata": "swe0B7UHtge3B7gHuQe6B7sHvAe9B74HvwfAB8EHwgfDB8QHxQfGB8cHyAfJB8oHywfMB80HzgfPB9AH0QfSB9MH1AfVB9YH1wfYB9kH2gfbB9wH3QfeBw==",
          "dtype": "i2"
         },
         "xaxis": "x",
         "y": {
          "bdata": "IKF2ELpuckCF3SLc/q5yQDbHv9k1CHNAvcP0bvM6c0BIr3OhN39zQG++ObX84HNATeEARziNdUDeRLjlnYJ2QEI+vuDC/nZAKAMl2KFfd0CBcnikOwd4QERFobK4D3hAhx6SczPzd0DFaM6j11Z4QDBENZwaq3hAS+hJgCOrekBwhoeW8AJ7QBzE+EAbOXtA7BFJ14k7fEAC/v5HtcyAQHC0ayU2UIFAlGXf+su8gUAB3og0XyeDQOLiR27H24JAwoYzafJ0hEDywTNVVdqEQIBxNWW6NIVAwd1yIb5qhEDK1DBygBGFQEHQNtj0goZAWa47IhC5hkCjf76ezT+HQD7r95A2AodAKSRJ59w3iEBaLEwTJVWIQEV/GTi2k4hAyZVTLecjiEAWyadj8UyIQB9BC4r974lAudE9ITzpikD3TPWZHZiJQPa6o335NopAE0DE4UGRikCrsMIU9TiLQA==",
          "dtype": "f8"
         },
         "yaxis": "y"
        },
        {
         "hovertemplate": "country=Iraq<br>year=%{x}<br>energy_use=%{y}<extra></extra>",
         "legendgroup": "Iraq",
         "line": {
          "color": "#19d3f3",
          "dash": "solid"
         },
         "marker": {
          "symbol": "circle"
         },
         "mode": "lines",
         "name": "Iraq",
         "showlegend": true,
         "type": "scattergl",
         "x": {
          "bdata": "swe0B7UHtge3B7gHuQe6B7sHvAe9B74HvwfAB8EHwgfDB8QHxQfGB8cHyAfJB8oHywfMB80HzgfPB9AH0QfSB9MH1AfVB9YH1wfYB9kH2gfbB9wH3QfeBw==",
          "dtype": "i2"
         },
         "xaxis": "x",
         "y": {
          "bdata": "OJECuBTneECO461K37B5QKvRD7Y273pAOahYMQFPfEA25+Dd7nuAQC9Ee+csv4NACZdz3g/Bg0D5eBBtHcSFQLFGzTLyIIlAQLoz3d9ahkDyK5KgBHWFQM6pKCSynoVAJoUeD49NiUAsKrDLU++JQMmqVsieVI1AabnSobHxjkDNqtYsQeONQL3CJN4dm5FAk4fy64jjkkBlJh5fLtCRQNPuhVdgEIxAc8X/h5w9lEDRdtMEGxyZQERpLuO/H5tALZPmpm8ymUBw+3CYU2+YQObOAuxLMJxAyXlVIA19k0DhfZT8mimNQPtULxoUnJBAJlwUXrj/kUDtxpIvV5WQQI4pXOcYko1ATjd4kZ+TjUBUcBFPNBONQCB2TZLUO4tAUxx14Ffui0BFCRTQTKaNQN1t72D1H5FAR5BcqhThkkCuM1cSX/CTQGWAQiEJS5VAnEMEi6PblUAHLs3/JCeVQA==",
          "dtype": "f8"
         },
         "yaxis": "y"
        },
        {
         "hovertemplate": "country=Ireland<br>year=%{x}<br>energy_use=%{y}<extra></extra>",
         "legendgroup": "Ireland",
         "line": {
          "color": "#FF6692",
          "dash": "solid"
         },
         "marker": {
          "symbol": "circle"
         },
         "mode": "lines",
         "name": "Ireland",
         "showlegend": true,
         "type": "scattergl",
         "x": {
          "bdata": "sgezB7QHtQe2B7cHuAe5B7oHuwe8B70Hvge/B8AHwQfCB8MHxAfFB8YHxwfIB8kHygfLB8wHzQfOB88H0AfRB9IH0wfUB9UH1gfXB9gH2QfaB9sH3AfdB94H3wc=",
          "dtype": "i2"
         },
         "xaxis": "x",
         "y": {
          "bdata": "GMjUOIaen0B2mvyZpYqhQH+vZLAGJaFAPDKYjfF8oUDkY9AELrihQB8kRmb9R6BAxGeARWJ8oEB9HI2epDehQPMNuCNxBaFAeiG9Yq3Mo0CELXENUNqiQLfliWzosaJAhZUD3MlpokCHtlz7XUCiQCq0OmhbVKJAekGNdeAMo0C40gdv/46jQPR+O/icYaRASLlKY61BpEDtpDJtfb6kQEo/jQHSCKZABIQQYrAXpkBNyCWeb66lQC+aBcJr+6VA5QzN+jn7pkBsV/uA0w+nQAJI59SrZKhATWj/NP9uqUCmS/kVI7OqQMJ8onXGsKtA+cLUi35VrECrDsoZBwOtQE2juPykmqxA22XBYjB2q0DSvYIALMyrQDmucCVJX6tAWis0W1LAqkAFzBrYD7CqQMzF4u7Eu6lA+ysfWiGbqEAJcojYAaCoQBjh5t2/YqZArfMMNiFKpkBfHhgj9/2lQC+hMFcma6VAORWib8AHpkA=",
          "dtype": "f8"
         },
         "yaxis": "y"
        },
        {
         "hovertemplate": "country=Israel<br>year=%{x}<br>energy_use=%{y}<extra></extra>",
         "legendgroup": "Israel",
         "line": {
          "color": "#B6E880",
          "dash": "solid"
         },
         "marker": {
          "symbol": "circle"
         },
         "mode": "lines",
         "name": "Israel",
         "showlegend": true,
         "type": "scattergl",
         "x": {
          "bdata": "swe0B8EHwgfDB8QHxQfGB8cHyAfJB8oHywfMB80HzgfPB9AH0QfSB9MH1AfVB9YH1wfYB9kH2gfbB9wH3QfeB98H",
          "dtype": "i2"
         },
         "xaxis": "x",
         "y": {
          "bdata": "yFGcxm84nUCJzKnyUnGbQIKy/5z885tA/DTS4n1soEAAZfVk9cyhQObQHN59J6NAT74rythxo0Dg+YtP7jijQOtUPh8UKaJArlMnT/AppEAXrKsYWZWkQIzn9KXMZKVAU9XUzoDYpUBlK4GuauKlQGdr9LVBgqZAw8lP+XOLpkDgDJcqeWOlQIt1qW3apqZAhUvj3RU6p0BfdP9ql12mQKXHQ9CZCqdAoPzAa/4LpkBKN6L75cqkQIeo9EzMhKZAhnNLhk6kpkD8dEFqQXKoQEABVZHAc6ZApCX1N97Ep0AU8j8xWkinQCKUMSh896dAsflhkTJspkCe+r8JA5WlQAIEbSrAs6VA",
          "dtype": "f8"
         },
         "yaxis": "y"
        },
        {
         "hovertemplate": "country=Italy<br>year=%{x}<br>energy_use=%{y}<extra></extra>",
         "legendgroup": "Italy",
         "line": {
          "color": "#FF97FF",
          "dash": "solid"
         },
         "marker": {
          "symbol": "circle"
         },
         "mode": "lines",
         "name": "Italy",
         "showlegend": true,
         "type": "scattergl",
         "x": {
          "bdata": "sgezB7QHtQe2B7cHuAe5B7oHuwe8B70Hvge/B8AHwQfCB8MHxAfFB8YHxwfIB8kHygfLB8wHzQfOB88H0AfRB9IH0wfUB9UH1gfXB9gH2QfaB9sH3AfdB94H3wc=",
          "dtype": "i2"
         },
         "xaxis": "x",
         "y": {
          "bdata": "Aq+7sd6on0CcWe5KmHSeQFCBB8t5BaBAZkzI0iz/oEAM0Y3TaUihQOstuFEodKBAujidRx2woUAJnJ4PXDihQFtXbIshj6FA34CqhRVIokCEbRXH2hyiQDJ3yLfcs6FAV6s+4RU9oUAbANB2ujehQJfsxRZwm6FAjAxuYp/ZoUBpvvScGA+iQDkouECDzqJA61E585c9o0CH0PjENwykQDuTF7LGL6RAfiGQslirpEA5qX8VroakQEsYoRr7Z6RAto26lO4kpECdI9FjwN6lQNqbiTlP2KVA5JzyTs4kpkAAAQ8N5cGmQD3oFHufGqdAYBQG12OIp0BjCzYNPpmnQJ4Oma+IuqdAMODb2w7BqEDd6zOD3cOoQI83ViZZHalATK2siJnPqECe9wMyJ5uoQO3xI/YhH6hAuxGSZ9drpkCavwhTLeWmQJfQ7E3PGKZAkmPRb5gqpUCvbhvx8SakQPE1Ds/33KJAA8fjYIJjo0A=",
          "dtype": "f8"
         },
         "yaxis": "y"
        },
        {
         "hovertemplate": "country=Jamaica<br>year=%{x}<br>energy_use=%{y}<extra></extra>",
         "legendgroup": "Jamaica",
         "line": {
          "color": "#FECB52",
          "dash": "solid"
         },
         "marker": {
          "symbol": "circle"
         },
         "mode": "lines",
         "name": "Jamaica",
         "showlegend": true,
         "type": "scattergl",
         "x": {
          "bdata": "swe0B7UHtge3B7gHuQe6B7sHvAe9B74HvwfAB8EHwgfDB8QHxQfGB8cHyAfJB8oHywfMB80HzgfPB9AH0QfSB9MH1AfVB9YH1wfYB9kH2gfbB9wH3QfeBw==",
          "dtype": "i2"
         },
         "xaxis": "x",
         "y": {
          "bdata": "ic9HYDWAkEA9tCOIWL6UQCDtWwN+PJdAWqmEBAtulUBIVOn7EMGUQJMPxDyIk5JAmqsLRtzskUCrfSrv/WmSQOJsEHtf1pJAwlrRd4+XkEDB6PX2xrCQQElnyNIXOpBAnSyeyv38i0Bqznx5SK+LQPQ+huKNhodARY9RO8Kuh0ASe1HyViKIQEXWi2dScIhA1zLF4uNwjkCPyizRR0iSQB7l3IjGMJJAAAh9eZz1kkBD9QmR/dGSQHkcDvrZ/ZJAszWSbCEDlEBhb4wYPuOUQJjEvQzFsZRAN/EUGwNTlUAoPZBT8L+VQM/HVGL/2JZAi6elpjfGlkBwhYRCiBuVQHitiEto25VAcVWeMqn6lUCzO4yg7ZeVQJbJlu30EZhAGbZQSp0XmEAfeuQ48y6UQDYw7CyBPZFAI40QOa1mjkBiRAVwGSWQQJqnAMGyN49ACgT+gFEnkEA5W8N7h2qPQA==",
          "dtype": "f8"
         },
         "yaxis": "y"
        },
        {
         "hovertemplate": "country=Japan<br>year=%{x}<br>energy_use=%{y}<extra></extra>",
         "legendgroup": "Japan",
         "line": {
          "color": "#636efa",
          "dash": "solid"
         },
         "marker": {
          "symbol": "circle"
         },
         "mode": "lines",
         "name": "Japan",
         "showlegend": true,
         "type": "scattergl",
         "x": {
          "bdata": "sgezB7QHtQe2B7cHuAe5B7oHuwe8B70Hvge/B8AHwQfCB8MHxAfFB8YHxwfIB8kHygfLB8wHzQfOB88H0AfRB9IH0wfUB9UH1gfXB9gH2QfaB9sH3AfdB94H3wc=",
          "dtype": "i2"
         },
         "xaxis": "x",
         "y": {
          "bdata": "ZM1WYYFho0DjfppULcajQLp8ke8X1qRAR4aUASsGp0CsatDNfdimQOFFiRw/XKVAwpE9y2V5pkCjzVycWaemQBJ7csTro6ZAu6ejFQ7Hp0CwwJ0DAgunQD0iubYaYKZAKAWc+7ovpkDS5rdiew2mQGvHggVdkKdAKXCmBll2p0DVv39FnpmnQImYbNJTyadAzcRJizVXqUCeiXgJAzCqQBGLEpi3watA+fIkCQPsq0Cpq5G3Y3isQKGk/wXvj6xADsiwx5IIrkC/N4pL672uQMqiMdXzUK9AZK/d2FWSr0D8eUVYQeeuQJVwPhZzVq9Ai58/1Knnr0CuUH07iVCvQKZ/ooP0L69AsgvXd17irkC4ZBrMa9yvQDbG4UX1va9AacPmUcSrr0AroS/5TlmvQPnieHneJK5AChwtswW9rEAVh1iAiGquQJmKndSfNaxAKsdk8bmiq0B2l6o6Qt+rQIdl1riGHatAYYZqSx3JqkA=",
          "dtype": "f8"
         },
         "yaxis": "y"
        },
        {
         "hovertemplate": "country=Jordan<br>year=%{x}<br>energy_use=%{y}<extra></extra>",
         "legendgroup": "Jordan",
         "line": {
          "color": "#EF553B",
          "dash": "solid"
         },
         "marker": {
          "symbol": "circle"
         },
         "mode": "lines",
         "name": "Jordan",
         "showlegend": true,
         "type": "scattergl",
         "x": {
          "bdata": "swe0B7UHtge3B7gHuQe6B7sHvAe9B74HvwfAB8EHxAfFB8YHxwfIB8kHygfLB8wHzQfOB88H0AfRB9IH0wfUB9UH1gfXB9gH2QfaB9sH3AfdB94H",
          "dtype": "i2"
         },
         "xaxis": "x",
         "y": {
          "bdata": "w9dQE060ckBLiDBxwatzQPxznVFMm3VAARvhrQEQdkDFX7vnFst4QCsgaegV6H5AzsCPvZKpfkCrAsxa2DiCQCc+7gCJGYJAlJRZo/NKhUBiD0ND8XmJQASu7DhXxItAWPsJkVnWjEAuGobR2lCOQCkfp/JXb41AV/bjkRDhjEBnUkIPFbqLQD6ULyB2P4xAkobko6cCi0AHUu6iHsiMQMNXazrdEItAZDm1vfuoi0ByDwuQdkmMQJERnvUwE4xAns60ENHri0CGytkGdjaMQFjEKAfqhotApkn9suI5jED0qmKnPGCLQDJ6zw+xJ4xAyJdpquYnjECCx1OogoSQQLY4BCMSTZFAPQm/s0KpkECh6OZMqH+QQHThzACKmo9AaAIPKx1RkECLyGarjWuOQNAalGCyhI1Al3xy6IAqkECwM2GwUjeOQJ7FKeAHE41A",
          "dtype": "f8"
         },
         "yaxis": "y"
        },
        {
         "hovertemplate": "country=Kazakhstan<br>year=%{x}<br>energy_use=%{y}<extra></extra>",
         "legendgroup": "Kazakhstan",
         "line": {
          "color": "#00cc96",
          "dash": "solid"
         },
         "marker": {
          "symbol": "circle"
         },
         "mode": "lines",
         "name": "Kazakhstan",
         "showlegend": true,
         "type": "scattergl",
         "x": {
          "bdata": "xgfHB8gHyQfKB8sHzAfNB84HzwfQB9EH0gfTB9QH1QfWB9cH2AfZB9oH2wfcB90H3gc=",
          "dtype": "i2"
         },
         "xaxis": "x",
         "y": {
          "bdata": "P4Oe4ry5sECIQvbOjPGwQHE3WNLkxLFAVUPESLatrUCyb0xqNaaqQNae5rZBZahALfYtJ2iVpUBtLuwGgzujQF1eRvzWo6NAOuUrK0QookBZ/JUnbPuhQCO2RCMEU6FA3N+sVv/To0BcTEZaWmKlQBCz+DnGCKlA33DhpYDkqEAkfueNDc2tQPvasb0awq9AEcVnbPqcsECdrXT3bNatQI1BPQZVCbBA5CfZEZGzsUBpp4gLSqywQNu4nZ+PJLJAZsjECjfPsEA=",
          "dtype": "f8"
         },
         "yaxis": "y"
        },
        {
         "hovertemplate": "country=Kenya<br>year=%{x}<br>energy_use=%{y}<extra></extra>",
         "legendgroup": "Kenya",
         "line": {
          "color": "#ab63fa",
          "dash": "solid"
         },
         "marker": {
          "symbol": "circle"
         },
         "mode": "lines",
         "name": "Kenya",
         "showlegend": true,
         "type": "scattergl",
         "x": {
          "bdata": "swe0B7UHtge3B7gHuQe6B7sHvAe9B74HvwfAB8EHwgfDB8QHxQfGB8cHyAfJB8oHywfMB80HzgfPB9AH0QfSB9MH1AfVB9YH1wfYB9kH2gfbB9wH3QfeBw==",
          "dtype": "i2"
         },
         "xaxis": "x",
         "y": {
          "bdata": "xgo2LhcOfECjnPsix1V8QH0daNbpGnxALk3SGdYzfEA0fXFARPR7QHjYdO4RY3xA1Zc2a1vTfEDo6dJTObN8QJavc1qPu3xA9MEFlQ/GfEBbYnikXI58QBKiXAmJEnxArMJ8CqGMe0DfioMgQRp8QG0rAb2bR3xAvT8ZaXq7fUASfidJ1+V9QBCdxFeYmH1AWX+XdauhfUChdFpOtj59QI5QBl8c2HxAPeIgk6u1fEDMsZ/yoZB8QLrPRF2YDXxAEWtZ9yWSfEBvMuKThc98QFAPqtAvXnxAxYNK14SgfEBFptN8ZWx8QIeOkgWyjXxAcJ3bwnAMfEBMRrypoYp7QLPoVgw7SntAxqo7hErQe0AGpgn7nfB7QNL8PovLQXxApe6H/YADfEB9hkVopSJ8QE/ZneFf6HxAwt1aVc1TfUCUGTZc8R99QFnszX/YuHxApC5vTA6jfUDwfQud/AiAQA==",
          "dtype": "f8"
         },
         "yaxis": "y"
        },
        {
         "hovertemplate": "country=Kosovo<br>year=%{x}<br>energy_use=%{y}<extra></extra>",
         "legendgroup": "Kosovo",
         "line": {
          "color": "#FFA15A",
          "dash": "solid"
         },
         "marker": {
          "symbol": "circle"
         },
         "mode": "lines",
         "name": "Kosovo",
         "showlegend": true,
         "type": "scattergl",
         "x": {
          "bdata": "2AfZB9oH2wfcB90H3gc=",
          "dtype": "i2"
         },
         "xaxis": "x",
         "y": {
          "bdata": "UTsn4mM4k0Al9QFNjDGVQB/W9L0ey5VAAcWs0+YKlkDrHQHrinmUQHf1UjjHQpRAAeUryUINk0A=",
          "dtype": "f8"
         },
         "yaxis": "y"
        },
        {
         "hovertemplate": "country=Kuwait<br>year=%{x}<br>energy_use=%{y}<extra></extra>",
         "legendgroup": "Kuwait",
         "line": {
          "color": "#19d3f3",
          "dash": "solid"
         },
         "marker": {
          "symbol": "circle"
         },
         "mode": "lines",
         "name": "Kuwait",
         "showlegend": true,
         "type": "scattergl",
         "x": {
          "bdata": "swe0B7UHtge3B7gHuQe6B7sHvAe9B74HvwfAB8EHwgfDB8QHxQfGB8cHyAfJB8oHywfMB80H0AfRB9MH1gfXB9gH2QfbB9wH3QfeBw==",
          "dtype": "i2"
         },
         "xaxis": "x",
         "y": {
          "bdata": "ExPnRBulu0BBamAwTbS8QFwbaE7Ee7xAu61V2nmguUCk/PL8cOq2QPhUbCWNTbdAv2fP3QGUt0AmsU2uqyC4QJshK9ranbxAznBJRAEju0DNrBm1tGe5QDYFuP4H8LpAQbJ+CY9Fu0AES0Molwi7QMzNRNc07bxA7reYVncTvkDywL9LyXG/QM1gA61VdcJAoJSzkXzBxED/pB0Moh61QMlCDWvcHp9AieMIz48UtUBnkJU5i7u8QEb/zbil7sBASOx3oWkuwUBvFEzbymvAQFJrB1X9DcBABIaxdaazwkDBfMzUv23DQFahUPH1RcRAFtymLzkyxUAeqQldbnTEQLL79jvCJsVAlpIkcgbyxUCnF57WFTDEQJxXgfKHxMVAKcLYOm1zw0Dis+GS0gzCQA==",
          "dtype": "f8"
         },
         "yaxis": "y"
        },
        {
         "hovertemplate": "country=Latvia<br>year=%{x}<br>energy_use=%{y}<extra></extra>",
         "legendgroup": "Latvia",
         "line": {
          "color": "#FF6692",
          "dash": "solid"
         },
         "marker": {
          "symbol": "circle"
         },
         "mode": "lines",
         "name": "Latvia",
         "showlegend": true,
         "type": "scattergl",
         "x": {
          "bdata": "ywfMB80HzgfPB9AH0QfSB9MH1AfVB9YH1wfYB9kH2gfbB9wH3QfeBw==",
          "dtype": "i2"
         },
         "xaxis": "x",
         "y": {
          "bdata": "AWTlU1fmnEBhF3gh77+cQKEH925odZxAjCFcM7kQnEBSNXAFqf+ZQCLDOg3XSZlAhV7suaR8m0CVFP+8B42bQCRKSAfRh51AgwxeIGuknkBiBMrfQZqfQNIqKuVrg6BATpFWtqAHoUC+4XA1unSgQEERRz2mD6BAmOZJnk7JoEChwmdvRiWgQEu5OfIr9aBAWNnp8lLYoEAvZMjFrwGhQA==",
          "dtype": "f8"
         },
         "yaxis": "y"
        },
        {
         "hovertemplate": "country=Lebanon<br>year=%{x}<br>energy_use=%{y}<extra></extra>",
         "legendgroup": "Lebanon",
         "line": {
          "color": "#B6E880",
          "dash": "solid"
         },
         "marker": {
          "symbol": "circle"
         },
         "mode": "lines",
         "name": "Lebanon",
         "showlegend": true,
         "type": "scattergl",
         "x": {
          "bdata": "xAfFB8YHxwfIB8kHygfLB8wHzQfOB88H0AfRB9IH0wfUB9UH1gfXB9gH2QfaB9sH3AfdB94H",
          "dtype": "i2"
         },
         "xaxis": "x",
         "y": {
          "bdata": "35kKnuPngUDNLXcWb2KBQNIkifDQ+4BAMiYGtCGZhED2D5Dlkm+EQOjD4pBOtoxAZuZt7zfmjkCfVisTBGWRQPXUyNeSAZJApRsVein4k0C+ivrawUeTQDJ7RrRI0pNAZdtdL8S1kUCtyHUnOqySQMHR9QUpTJJApNdbq+IQkkCPW5sdG/aRQM8Tl47V3ZBAYHHXcY+Ij0D6Zmm8t0GLQGq0HyBmOpFAbPHpQ+zOlEBSUKcS88STQN+LaWR6dZNAqaYPDo5mlUAVzJSa1zyTQFk3n3ujcpJA",
          "dtype": "f8"
         },
         "yaxis": "y"
        },
        {
         "hovertemplate": "country=Lesotho<br>year=%{x}<br>energy_use=%{y}<extra></extra>",
         "legendgroup": "Lesotho",
         "line": {
          "color": "#FF97FF",
          "dash": "solid"
         },
         "marker": {
          "symbol": "circle"
         },
         "mode": "lines",
         "name": "Lesotho",
         "showlegend": true,
         "type": "scattergl",
         "x": {
          "bdata": "1AfVB9YH1wc=",
          "dtype": "i2"
         },
         "xaxis": "x",
         "y": {
          "bdata": "rgaUPv1oLECCClsJfOUwQA8pE2NhiSNAkMtCEV90I0A=",
          "dtype": "f8"
         },
         "yaxis": "y"
        },
        {
         "hovertemplate": "country=Libya<br>year=%{x}<br>energy_use=%{y}<extra></extra>",
         "legendgroup": "Libya",
         "line": {
          "color": "#FECB52",
          "dash": "solid"
         },
         "marker": {
          "symbol": "circle"
         },
         "mode": "lines",
         "name": "Libya",
         "showlegend": true,
         "type": "scattergl",
         "x": {
          "bdata": "swe0B7UHtge3B7gHuQe6B7sHvAe9B74HvwfAB8EHwgfDB8QHxQfGB8cHyAfJB8oHywfMB80HzgfPB9AH0QfSB9MH1AfVB9YH1wfYB9kH2gfbB9wH3QfeBw==",
          "dtype": "i2"
         },
         "xaxis": "x",
         "y": {
          "bdata": "aVMMBOPIhkCdvKYgwdmOQKj7V6i8ipFA3yRed7ydkkCstPIgekSWQF+ThDuLFpNABlniaDVplkAOU1gcIPuXQAOgAUsEX5lAhfoIBuQUoEAEw49KLmygQGJ77ARIWqFAEel7PAm/oUCsJyrtTsWiQOxt6ZvRTaRAsfpE5a2co0DoSGuic9OkQG4ufhsOgqNAvwA8eNuqpEDq7NZFfaCjQNvda20IeqNAcu+lUmD6okAQDscU00+jQLeBp90xZ6VABlePUbhEpkBmWAGcwUWnQIyq/mnOS6dAM7kC1dY6p0A47e4oN5WmQMIt5fMLT6dATTXtgaaTp0CSWV5BmQ2oQFto1I1MQqhAkpbjLc9tqEAAcL2FHrOnQCPxzceQeadASBuY8yxipUBEZoOUyEymQARaCUBirqdAKd7J6jb9qEB4rlKNeNugQOBTSdOLzqVAgwRmj/cOqEDm3Ja/TLilQA==",
          "dtype": "f8"
         },
         "yaxis": "y"
        },
        {
         "hovertemplate": "country=Lithuania<br>year=%{x}<br>energy_use=%{y}<extra></extra>",
         "legendgroup": "Lithuania",
         "line": {
          "color": "#636efa",
          "dash": "solid"
         },
         "marker": {
          "symbol": "circle"
         },
         "mode": "lines",
         "name": "Lithuania",
         "showlegend": true,
         "type": "scattergl",
         "x": {
          "bdata": "ywfMB80HzgfPB9AH0QfSB9MH1AfVB9YH1wfYB9kH2gfbB9wH3QfeBw==",
          "dtype": "i2"
         },
         "xaxis": "x",
         "y": {
          "bdata": "/aeEhj3CokDh19N5FWSkQL22Nv6xdKNAFIpUFIaSpEC223MVUKehQK0FmW161p9AQ05iR3yhokBsB8rntBykQF4NheB/KqVAS+s8TWS2pUA7e+v5mc2kQGxy6tMG1KRAJ0KQgXvepkDEhi/x0j+nQNqA5CqqpaVAlfGKNIXHoUAJMYge9tiiQLZt1WT/SaNAgXW7PUppokAAC0jmjKaiQA==",
          "dtype": "f8"
         },
         "yaxis": "y"
        },
        {
         "hovertemplate": "country=Luxembourg<br>year=%{x}<br>energy_use=%{y}<extra></extra>",
         "legendgroup": "Luxembourg",
         "line": {
          "color": "#EF553B",
          "dash": "solid"
         },
         "marker": {
          "symbol": "circle"
         },
         "mode": "lines",
         "name": "Luxembourg",
         "showlegend": true,
         "type": "scattergl",
         "x": {
          "bdata": "sgezB7QHtQe2B7cHuAe5B7oHuwe8B70Hvge/B8AHwQfCB8MHxAfFB8YHxwfIB8kHygfLB8wHzQfOB88H0AfRB9IH0wfUB9UH1gfXB9gH2QfaB9sH3AfdB94H3wc=",
          "dtype": "i2"
         },
         "xaxis": "x",
         "y": {
          "bdata": "ZBKnkxOlx0CXNKN3iyvHQPNBWvnIdMdAuBvru0e0yEBNFS/e8W/JQH6BzZd9hMRAkNnDoUjWxEATDuBdRxPEQB4VNXgArMVAt/Uzcg5txEBaBGxFUxfDQECxrcgEp8BAOHwdXM95v0C0BOIFNZi9QNfHMuyssL9AVG3zlHZNwEDKGup6jOO/QC0UQbXyBr9As42C+27ev0CX0oba9/3AQG4oInENVcFAs1CC6bVEwkDyP0d+ChfCQKY5TKZ4GcJAlijRUKA7wUCaRIQ7aBm+QA60wb8tH75Az9HU2tnxvEDPsC2G4pq7QIanv/f4YrxAf6crSNb8vUAo2Guw2S6/QHWBQAldBsBAgedoX8CywEAMPQPzt1XCQE0bNdhnasJAvl4YK0TpwUABHCfH8iLBQGCFDOod0sBAxFBkVLkPv0AtYh44vUTAQPxkPoBneL9A+eozsTAqvkD7TtpsJ5C8QHv0ik4bzbpAsRm20meUuUA=",
          "dtype": "f8"
         },
         "yaxis": "y"
        },
        {
         "hovertemplate": "country=Malaysia<br>year=%{x}<br>energy_use=%{y}<extra></extra>",
         "legendgroup": "Malaysia",
         "line": {
          "color": "#00cc96",
          "dash": "solid"
         },
         "marker": {
          "symbol": "circle"
         },
         "mode": "lines",
         "name": "Malaysia",
         "showlegend": true,
         "type": "scattergl",
         "x": {
          "bdata": "swe0B7UHtge3B7gHuQe6B7sHvAe9B74HvwfAB8EHwgfDB8QHxQfGB8cHyAfJB8oHywfMB80HzgfPB9AH0QfSB9MH1AfVB9YH1wfYB9kH2gfbB9wH3QfeBw==",
          "dtype": "i2"
         },
         "xaxis": "x",
         "y": {
          "bdata": "pnJnj7slgkCFT7DAlu6BQHLv9NtDWIFAwPGuI0ckg0BU7sOXeamDQHuS8MgQ2IRA8gUNy6CFhEBZj0FkccOJQN2a0d50d41A8JRk0Z2gjEAdj3xogY2NQB45kQ9oBo1AcJCvzWFgkEC9nL0BvliQQFWaYuk1249AE2FY60JOkUB27h7APfOQQPk0t8+jOpFAyCSQ+JlYkkDOA9+3SCGTQMb2Q4hm8pZAsD5LT6CjmEBKP0dwcviZQNRzYHoyMJlAHvP9VoeRmkBnpSbyt6qcQETpjraoRaBAHRCvJXUvnkA8+8XrWdudQDViys8woaBAR3xAgzzloEA+eVEl9wuhQJksboUv1qFAxxz/pV6+okBGiwqZLuCjQNVb2Npsi6NAADQM4yfxpEBm9igbBHClQE9k0Yaw96NAFYgVwpoBpEDXaIS5sX+kQLPwsLWrgaRA2k9MJfy7pkCACU5kktSmQA==",
          "dtype": "f8"
         },
         "yaxis": "y"
        },
        {
         "hovertemplate": "country=Mauritius<br>year=%{x}<br>energy_use=%{y}<extra></extra>",
         "legendgroup": "Mauritius",
         "line": {
          "color": "#ab63fa",
          "dash": "solid"
         },
         "marker": {
          "symbol": "circle"
         },
         "mode": "lines",
         "name": "Mauritius",
         "showlegend": true,
         "type": "scattergl",
         "x": {
          "bdata": "swe0B7UHtge3B7gHuQe6B7sHvAe9B74HvwfAB8EHwgfDB8QHxQfGB8cHyAfJB8oHywfMB80HzgfPB9AH0QfSB9MH1AfVB9YH1wfYB9kH2gfbB9wH3QfeBw==",
          "dtype": "i2"
         },
         "xaxis": "x",
         "y": {
          "bdata": "i0m3TiEje0BoWVTyyzZ7QC2BLG1XcHtAEl5Er74WfECiDKv1Fgx8QHUYOttUwHxAw0vOw4yofUCp8QzgFMV9QMgOjxH/Pn1Ax6Q1Nb/ke0AdavvaVzB7QO9bSQCh6XlALR9MeZ+mekB8o3LgOP56QG8YCEk0E3tAP0/tiM2rfkBEJ3PAFwCAQMDjbI69D4BA4DXOdEuJgUCbvyN6DquDQJNzabBf04NA7G3MaUuOhEB+YoNeuzaFQIA7oYP9jIRAE45bKAjIhUDxCs0M4PGFQFsHqWiTRIZAbE99lotzh0DdfPrd/jqIQPG4WfPFmYpAGUmKQBy2i0CRLY0AkUmLQM7xhmiBaIxA3IFqG2K+jEAluXlGyo2NQORsyVwDdI9A+N0sRpl8j0CcQ/xisgyQQIK7SUPlO49A2PDmWs91kEBR5osgCnaQQJuXtPoer5BAYzpUT/MZkUBMDNsLuVyRQA==",
          "dtype": "f8"
         },
         "yaxis": "y"
        },
        {
         "hovertemplate": "country=Mexico<br>year=%{x}<br>energy_use=%{y}<extra></extra>",
         "legendgroup": "Mexico",
         "line": {
          "color": "#FFA15A",
          "dash": "solid"
         },
         "marker": {
          "symbol": "circle"
         },
         "mode": "lines",
         "name": "Mexico",
         "showlegend": true,
         "type": "scattergl",
         "x": {
          "bdata": "swe0B7UHtge3B7gHuQe6B7sHvAe9B74HvwfAB8EHwgfDB8QHxQfGB8cHyAfJB8oHywfMB80HzgfPB9AH0QfSB9MH1AfVB9YH1wfYB9kH2gfbB9wH3QfeB98H",
          "dtype": "i2"
         },
         "xaxis": "x",
         "y": {
          "bdata": "l4r7YCSfiUCM3+Lrb36LQI6RtqPagI1Ac9qAz7J+jkDEqqqK/FWPQBmpze5rTpBALskzs7IpkUC1zImJ4LCSQKxjXCT8+5NAYt39gCEVlkAOj56hpwiXQBFKbcwmlJdAAXRSFcu5lUBAsVS10zmWQK+nn0BvnZZALX/9EfaOlUA9YW/bOjmWQGrSteIRDpZAUXtfmXmZlkD6TC4xd1WXQCPzJ8zMB5hABVWVCLzGl0B5TsdbeLuXQB4exE131JdAQoQGgkWplkAxazkCLMOWQLvaXoSYjZdA2I67Z/rQl0CycLM2dx2YQGzPEVlqw5dA5P8DjpQ9mECSekj4HQOYQCdKXd0iFplAnZPFBAwEmUDrvs/ZvGCaQIlmg8LBnZpA3BzfW6ESmkBLuGRO+G6ZQF6RAiaVGJlAMAJKWVIImEAypodjL+WYQAGXVZlPpJlA6lDj2eBcmUCAjPOhRIWYQJSzBl/2LJhA",
          "dtype": "f8"
         },
         "yaxis": "y"
        },
        {
         "hovertemplate": "country=Moldova<br>year=%{x}<br>energy_use=%{y}<extra></extra>",
         "legendgroup": "Moldova",
         "line": {
          "color": "#19d3f3",
          "dash": "solid"
         },
         "marker": {
          "symbol": "circle"
         },
         "mode": "lines",
         "name": "Moldova",
         "showlegend": true,
         "type": "scattergl",
         "x": {
          "bdata": "yAfJB8oHywfMB80HzgfPB9AH0QfSB9MH1AfVB9YH1wfYB9kH2gfbB9wH3QfeBw==",
          "dtype": "i2"
         },
         "xaxis": "x",
         "y": {
          "bdata": "9jfhxRrxoUAz4vKgUAGgQMVgOztyzppAQzUAlnb2mEBKvYQwSX+VQD+uxkqvmJRAvkzGPWcFk0AkG2XegJyQQA2pdAzXzY5Av8FSjJRXkEBKsD7OHJ2QQHIX2td7FZJAQN8t9AM4kkDfEuxVGOqSQCoOGEqVtpJAumQawyFAkkAjL665uzeSQFx3XHNaU5FA+ZApT0Alk0BtPZpd19qSQMEe9f5fqJJApN00ZyDGkEAjVYj6DA2SQA==",
          "dtype": "f8"
         },
         "yaxis": "y"
        },
        {
         "hovertemplate": "country=Mongolia<br>year=%{x}<br>energy_use=%{y}<extra></extra>",
         "legendgroup": "Mongolia",
         "line": {
          "color": "#FF6692",
          "dash": "solid"
         },
         "marker": {
          "symbol": "circle"
         },
         "mode": "lines",
         "name": "Mongolia",
         "showlegend": true,
         "type": "scattergl",
         "x": {
          "bdata": "wQfCB8MHxAfFB8YHxwfIB8kHygfLB8wHzQfOB88H0AfRB9IH0wfUB9UH1gfXB9gH2QfaB9sH3AfdB94H",
          "dtype": "i2"
         },
         "xaxis": "x",
         "y": {
          "bdata": "N/MgR51jmUBz0p5DNa+aQF0/21VgbZtA1gAgOdR4nEArWqmJ7GGaQHsmK18EYJlAvw41dVuIm0AqICVWhxKYQPLTDsPVipZA0xRH/g1Hk0DqL6oGq+ySQF0p1/9/ZI9AiN2NWNNQjkAoD3e32iKOQLoeUvIqwY1ASNYj78Nbj0BgjoW2DTaPQB43cb4cf5BAOtbd5TDRj0DUVhT/0DKQQFayz3kPdJJAnjnkL0m+lEDBtwTNvnCVQCYGpT5qL5VAtVZPxf+dlUBcDmPuPX6WQFvlLnpoMJhAhX5TY79CmkAFwNcnrlicQMd1zhSkV5xA",
          "dtype": "f8"
         },
         "yaxis": "y"
        },
        {
         "hovertemplate": "country=Montenegro<br>year=%{x}<br>energy_use=%{y}<extra></extra>",
         "legendgroup": "Montenegro",
         "line": {
          "color": "#B6E880",
          "dash": "solid"
         },
         "marker": {
          "symbol": "circle"
         },
         "mode": "lines",
         "name": "Montenegro",
         "showlegend": true,
         "type": "scattergl",
         "x": {
          "bdata": "1QfWB9cH2AfZB9oH2wfcB90H3gc=",
          "dtype": "i2"
         },
         "xaxis": "x",
         "y": {
          "bdata": "2MVB0eVHm0Cz2022OeadQNoOnmLqH55AmxsLfu8noEA0mkXEP7mZQCP80FcnqZ1A/OD1rB5enEDnZlY+ML+aQDSNcHyssZhAVbc4cA4JmEA=",
          "dtype": "f8"
         },
         "yaxis": "y"
        },
        {
         "hovertemplate": "country=Morocco<br>year=%{x}<br>energy_use=%{y}<extra></extra>",
         "legendgroup": "Morocco",
         "line": {
          "color": "#FF97FF",
          "dash": "solid"
         },
         "marker": {
          "symbol": "circle"
         },
         "mode": "lines",
         "name": "Morocco",
         "showlegend": true,
         "type": "scattergl",
         "x": {
          "bdata": "swe0B7UHtge3B7gHuQe6B7sHvAe9B74HvwfAB8EHwgfDB8QHxQfGB8cHyAfJB8oHywfMB80HzgfPB9AH0QfSB9MH1AfVB9YH1wfYB9kH2gfbB9wH3QfeBw==",
          "dtype": "i2"
         },
         "xaxis": "x",
         "y": {
          "bdata": "IvWo5yvJZ0CCZNDEO/xoQKVgY0Jb+2pAyFfxFd+KbEB8pXiuKt5sQPQ1O141cW5A3yLvCpFTcECWvsPXj99wQFvHZAPvi3FAj2GTToRdcUA6gQeDr/twQNZCRiN8N3FAbk2JR0NzcUASvdtySY1xQNVboXuJd3FAWdDtnH2fcUDlEdqyfLhxQNkcGxGAP3JA1QCyuPJzc0B0O/QTu4hzQLc40ZtnLXRAJXwbFbAFdUB+fS9pQHl1QAsTmITAp3ZA9iQmq30bdkBVsyygSOF2QHcEWuC/O3dA7E1fvDNUd0CICeRcxnF4QLQ4FIiwOnhAAl/YXg5WeUAtju7aC2p5QE+aGrSt+3hAGLQITwpDfUC9Hd4ffI9+QAG/ajUiqX5Aqo7PuqIzf0DtxES2kvd/QITJ3BJ3xX9A5Aw7eb5wgEA9wkMTjnmBQN5Y446KfIFAwj4lAApWgUBFRLUefVeBQA==",
          "dtype": "f8"
         },
         "yaxis": "y"
        },
        {
         "hovertemplate": "country=Mozambique<br>year=%{x}<br>energy_use=%{y}<extra></extra>",
         "legendgroup": "Mozambique",
         "line": {
          "color": "#FECB52",
          "dash": "solid"
         },
         "marker": {
          "symbol": "circle"
         },
         "mode": "lines",
         "name": "Mozambique",
         "showlegend": true,
         "type": "scattergl",
         "x": {
          "bdata": "xwfIB8kHygfLB8wHzQfOB88H0AfRB9IH0wfUB9UH1gfXB9gH2QfaB9sH3AfdB94H",
          "dtype": "i2"
         },
         "xaxis": "x",
         "y": {
          "bdata": "uv555FiXe0A0moReHmh7QA1WzEGdEntAQEoU1tCReUCLWRrl25t4QKL+HuBlQnhA1dgWeYhOeEAasGxf0f53QK/GfZbG7HdAzUY/Dh66eECsqpbjjnF5QPlnit04NHlAjoEtOxX8eUAftpziqWF6QCQoYYcjIXpAVL+ahQFJekARSZg+DcV6QFxON3HQn3pAcn9vpb3mekDclMYnCBF7QGWi63eaYXtAFjJeQpsae0DSFKgXwUV7QBUmMJFUM3xA",
          "dtype": "f8"
         },
         "yaxis": "y"
        },
        {
         "hovertemplate": "country=Myanmar<br>year=%{x}<br>energy_use=%{y}<extra></extra>",
         "legendgroup": "Myanmar",
         "line": {
          "color": "#636efa",
          "dash": "solid"
         },
         "marker": {
          "symbol": "circle"
         },
         "mode": "lines",
         "name": "Myanmar",
         "showlegend": true,
         "type": "scattergl",
         "x": {
          "bdata": "swe0B7UHtge3B7gHuQe6B7sHvAe9B74HvwfAB8EHwgfDB8QHxQfGB8cHyAfJB8oHywfMB80HzgfPB9AH0QfSB9MH1AfVB9YH1wfYB9kH2gfbB9wH3QfeBw==",
          "dtype": "i2"
         },
         "xaxis": "x",
         "y": {
          "bdata": "ArlKZojEcUCSMoe3Bq1xQBSJxiJCDHFAQms8hPpmcUB6ZoFQIFxxQLF51LNJqXFAaYELFSWxcUB7wI02GZNxQPk3cYeek3FALtVlCCG5cUDTmHu/MqRxQI0/VrVxrnFAkWFgOqWOcUBXVBozMc5xQClntinlwXJAbEw2QMrGckAdlOTlmLtxQLw0ZN9QQHFA79FZj/tucUDbbYrYXsNwQESK+RKZP3BA4r5edWqGcECTb0CBqSxwQCA6sNSy93BA2R7D4q1ScUBeWhn8jyJxQDgQosf4RXFABbIZaZWFcUDpLKaM9V9xQLhQ953NuHFAqCroUvAicUDJXCTY14lxQI61zt5q2HJAIgopAny2c0A6RKNrJaBzQC49ibROwnNAnyv9qjdbdEBwD33UMIRzQOakI1MvY3JAT52plwvgcUC5nCGUgR1yQBQN/gN+onNAU9hNwwiodED5rvJUxs93QA==",
          "dtype": "f8"
         },
         "yaxis": "y"
        },
        {
         "hovertemplate": "country=Namibia<br>year=%{x}<br>energy_use=%{y}<extra></extra>",
         "legendgroup": "Namibia",
         "line": {
          "color": "#EF553B",
          "dash": "solid"
         },
         "marker": {
          "symbol": "circle"
         },
         "mode": "lines",
         "name": "Namibia",
         "showlegend": true,
         "type": "scattergl",
         "x": {
          "bdata": "xwfIB8kHygfLB8wHzQfOB88H0AfRB9IH0wfUB9UH1gfXB9gH2QfaB9sH3AfdB94H",
          "dtype": "i2"
         },
         "xaxis": "x",
         "y": {
          "bdata": "5l4bMDSqfkAbCjGaz51/QP7mICfKe4BAwzJOMFY4gUAHtR6eWVGCQJcIUsM4J4NAiGAGri8Ug0BVC7FWYWiDQGH/3HPI3YJA7YSH7ZaFgUDzQNJCW1iEQLV4lMSrgYJAnnwrZ7oCg0Ac2eGBDK6DQHbOJNmZEIVAohRjbYnVhEBf+V1DICiFQJqffDEUOIZAccJDkAtKhkCQXhJWnMmGQAdzkIlSIIdAUpnBieNvh0DvzN0KZxiIQDoAgikCaIhA",
          "dtype": "f8"
         },
         "yaxis": "y"
        },
        {
         "hovertemplate": "country=Nepal<br>year=%{x}<br>energy_use=%{y}<extra></extra>",
         "legendgroup": "Nepal",
         "line": {
          "color": "#00cc96",
          "dash": "solid"
         },
         "marker": {
          "symbol": "circle"
         },
         "mode": "lines",
         "name": "Nepal",
         "showlegend": true,
         "type": "scattergl",
         "x": {
          "bdata": "swe0B7UHtge3B7gHuQe6B7sHvAe9B74HvwfAB8EHwgfDB8QHxQfGB8cHyAfJB8oHywfMB80HzgfPB9AH0QfSB9MH1AfVB9YH1wfYB9kH2gfbB9wH3QfeBw==",
          "dtype": "i2"
         },
         "xaxis": "x",
         "y": {
          "bdata": "3/KE0oL8cUD62qbItBVyQNNx18uzO3JAF5WJOwUzckAGLuzmZCNyQFy6FBQ/EXJAgjIqbuodckDqGWWjRRhyQAKUVnzNRHJAoBe9dtNUckA51mf89zZyQF0G7aA/SXJAWj+z5LFxckD0QpLFhXhyQImq9069OHJAH0P+RP5rckBQ25VQgV9yQG8F7dFTaXJAQBNeo9w+ckBYFMm2G4hyQBbvbEShpHJAxQTJfO+QckCEXG75CYtyQOuaCkvRuXJA8EdPy2HbckCFhr/EjONyQDaX/7Y3GXNAxCCOeJk2c0D8rCvejeVzQFGBQVDNpHRAnCMSQSz7dEDN8Txox+R0QBM3A+wOL3VAqgZp3+A3dUC5yYFvXLF1QCjmVwh4e3VA2faIv263dUDsqcYc9E52QP/Rpd5O0HZA34pFDQ5Xd0B+Ik7o3Qx4QFJcUsA27nZAaqf2/vRxeUDS79eH6WZ6QA==",
          "dtype": "f8"
         },
         "yaxis": "y"
        },
        {
         "hovertemplate": "country=Netherlands<br>year=%{x}<br>energy_use=%{y}<extra></extra>",
         "legendgroup": "Netherlands",
         "line": {
          "color": "#ab63fa",
          "dash": "solid"
         },
         "marker": {
          "symbol": "circle"
         },
         "mode": "lines",
         "name": "Netherlands",
         "showlegend": true,
         "type": "scattergl",
         "x": {
          "bdata": "sgezB7UHtge3B7gHuQe6B7sHvAe9B74HvwfAB8EHwgfDB8QHxQfGB8cHyAfJB8oHywfMB80HzgfPB9AH0QfSB9MH1AfVB9YH1wfYB9kH2gfbB9wH3QfeB98H",
          "dtype": "i2"
         },
         "xaxis": "x",
         "y": {
          "bdata": "PYu7fSJrrUAJorAadB6uQONEe3ZFBbJAcyCqEGqVsUAR0hwAut6wQKDya1P7hrJAS7kv60XQsUCRlHrzmjayQL6bSbaiBLNAku1fJdPEsUAZ470Daq2wQDV/6Fs7kq1AnAAR7Om/rkDcF1GXszOwQNnlUAhuWLBAd7aLylDdsEBdgkiyqyOxQKZrTrwZ4bBAZryzsdvjsEBleGTGiiqxQOn3YrG7+7FAFNOyQoqWsUB3s+sHlZ6xQPR1rILLn7FAJNTfn2msskBWnfwj/ZazQNhHIvC947JAMW7mpXHqskCNBHnMOnqyQOK1eeAQg7JAsEX7LHfnskDZV+/5QgmzQGOMScZhnLNA7/RJveLds0BSoTrKd32zQGCIV8ccPbNA1wdo9OUss0C51SuBA/CyQAdeXSUbcrJAYk+RJ1Khs0D8m/uvsxyyQE8gdFdBJrJAPiN81y74sUAeUPYRhuWwQAMYPToLibBA",
          "dtype": "f8"
         },
         "yaxis": "y"
        },
        {
         "hovertemplate": "country=New Zealand<br>year=%{x}<br>energy_use=%{y}<extra></extra>",
         "legendgroup": "New Zealand",
         "line": {
          "color": "#FFA15A",
          "dash": "solid"
         },
         "marker": {
          "symbol": "circle"
         },
         "mode": "lines",
         "name": "New Zealand",
         "showlegend": true,
         "type": "scattergl",
         "x": {
          "bdata": "sgezB7QHtQe2B7cHuAe5B7oHuwe8B70Hvge/B8AHwQfCB8MHxAfFB8YHxwfIB8kHygfLB8wHzQfOB88H0AfRB9IH0wfUB9UH1gfXB9gH2QfaB9sH3AfdB94H3wc=",
          "dtype": "i2"
         },
         "xaxis": "x",
         "y": {
          "bdata": "uTgtcaIzo0C6ETLqNrKiQOcoXHZScqRAaHDzABrMpEALfYfhGoWmQF7z2nGQqKVAzN694mLhpkBc4emDKd6nQDWK5D6Zr6dASK9DguokpkDU3C/kpYymQIy3gKD4Q6ZAvGXdWfGJp0DxTd1vhAmoQJH/WAMGZqlAos4VHqjwqkC/pi0tMRCrQAHUauTs+apAliJYbFwzrEBNzveWQA2uQBtKBWi7HK5AT+vuA6FnrUD3PEJW9MCtQL/APyC+/65Ao8LQrmaur0DqpomUYauvQP9caYA8I7BADVUfvMGisEBS8eyD3kKwQF6syzDu07BAqu7EVDpOsUCJbddtnjexQNeHCWph8bBAYLBSB5hlsEDDZ9JPpY+wQLJbd0JJ/q9AhMfw06Ker0BRxzpx/ayvQIOvMl1y5a9AAe6n4HnSr0CVto42GIGwQOMBR4oGUbBA/ZhpSc8FsUDxwNhRTgixQJf0AeMGybFA6kRlxYNPsUA=",
          "dtype": "f8"
         },
         "yaxis": "y"
        },
        {
         "hovertemplate": "country=Nicaragua<br>year=%{x}<br>energy_use=%{y}<extra></extra>",
         "legendgroup": "Nicaragua",
         "line": {
          "color": "#19d3f3",
          "dash": "solid"
         },
         "marker": {
          "symbol": "circle"
         },
         "mode": "lines",
         "name": "Nicaragua",
         "showlegend": true,
         "type": "scattergl",
         "x": {
          "bdata": "swe0B7UHtge3B7gHuQe6B7sHvAe9B74HvwfAB8EHwgfDB8QHxQfGB8cHyAfJB8oHywfMB80HzgfPB9AH0QfSB9MH1AfVB9YH1wfYB9kH2gfbB9wH3QfeBw==",
          "dtype": "i2"
         },
         "xaxis": "x",
         "y": {
          "bdata": "Ai/f4bdwfkDFdsOFNzd+QOEif3oT1X9AjKLvrUczgEAsIovVNVaAQGdObrs8A4FAPGtl9AkrgkAWORxsew6BQHpIr2oN/ntAsPo2did+fUD6gpe48XF9QMBdnINFTX1A9KCzkbPAfUDNj2cIB+l/QPTr3/SaSIBAr0JgNW7Qf0Ck2uYYvWd/QLu8TRfEBX1AAwY4UzxlfkDhjQXH/FB+QNXE0V8FcH9Aie7JHjmtf0B8umjUV35+QOLr/bGlK35AmahgmglpfkAgDSOUT2Z+QN0hj3RWSn9AitykSar8fkDIu+PMFvx+QL7ab3fwUH9AZ+q34EMvf0CrES1FWe5/QCKTuyABJoBAMhBiYAewgEAjM+aFHb2AQNJZ+wX8WIBAfRBGXtxhgEBXW68IWlSAQCTRzkhuMYBApq1cQuYZgEDobawltWyAQMtavcrXZ4FA/pu7peNggkBxbkjS5d2CQA==",
          "dtype": "f8"
         },
         "yaxis": "y"
        },
        {
         "hovertemplate": "country=Niger<br>year=%{x}<br>energy_use=%{y}<extra></extra>",
         "legendgroup": "Niger",
         "line": {
          "color": "#FF6692",
          "dash": "solid"
         },
         "marker": {
          "symbol": "circle"
         },
         "mode": "lines",
         "name": "Niger",
         "showlegend": true,
         "type": "scattergl",
         "x": {
          "bdata": "0AfRB9IH0wfUB9UH1gfXB9gH2QfaB9sH3AfdB94H",
          "dtype": "i2"
         },
         "xaxis": "x",
         "y": {
          "bdata": "06zJJTTpX0BFW1xG97hfQM3eeADzyl9AbzZ7qBgFYEDlRObZ/ihgQEf+vbfAgF9Ae5yKRaUlX0BTvCRJ7GhfQGDZ+R4usV9AdZfbg7QvYEBWeFNuNdVgQJwG7D3eK1xAKG8V/gvnX0Aoq/Ek/VpjQLr7qy2AxmJA",
          "dtype": "f8"
         },
         "yaxis": "y"
        },
        {
         "hovertemplate": "country=Nigeria<br>year=%{x}<br>energy_use=%{y}<extra></extra>",
         "legendgroup": "Nigeria",
         "line": {
          "color": "#B6E880",
          "dash": "solid"
         },
         "marker": {
          "symbol": "circle"
         },
         "mode": "lines",
         "name": "Nigeria",
         "showlegend": true,
         "type": "scattergl",
         "x": {
          "bdata": "swe0B7UHtge3B7gHuQe6B7sHvAe9B74HvwfAB8EHwgfDB8QHxQfGB8cHyAfJB8oHywfMB80HzgfPB9AH0QfSB9MH1AfVB9YH1wfYB9kH2gfbB9wH3QfeBw==",
          "dtype": "i2"
         },
         "xaxis": "x",
         "y": {
          "bdata": "2ZSskEofgkDpmXu+flCCQDSrEfxaq4JAIs5IFvrCgkDr8jV0yQCDQJUMHeLob4NA2zEmA3ngg0CG6TJIriyEQLq+hal+YYRAMgm22OCyhEATo80/cfmEQPoncCJKXoVAQkFCuCBphUCa/LXJiOqEQDFQ6nflA4VAgbIslbSkhECqAd4BysyEQDh6OVIz2oRAikyqa+MBhUCA3YBUPV+FQHglU84O0IVAUyHl3GQWhkCyxWy9/dqFQCKVxOiDw4RAPKczXNvHhEAVupYgyRqFQBvhU4dCQoVAf35dwDjahEDsrZPddwmFQEwVlBWKRoVAndTc/z29hUBcj1SDMNSFQM8By482cYZAkp15IV1yhkDI2bZiibGGQMf/isIfQoZA2FMXD9FphkBN8HOE5HGGQAROA/5Be4VAbG5x/jl7hkAi7gytAh+HQKb72L24r4dAnQJSEhghh0D7YtujH6WGQA==",
          "dtype": "f8"
         },
         "yaxis": "y"
        },
        {
         "hovertemplate": "country=Norway<br>year=%{x}<br>energy_use=%{y}<extra></extra>",
         "legendgroup": "Norway",
         "line": {
          "color": "#FF97FF",
          "dash": "solid"
         },
         "marker": {
          "symbol": "circle"
         },
         "mode": "lines",
         "name": "Norway",
         "showlegend": true,
         "type": "scattergl",
         "x": {
          "bdata": "sgezB7QHtQe2B7cHuAe5B7oHuwe8B70Hvge/B8AHwQfCB8MHxAfFB8YHxwfIB8kHygfLB8wHzQfOB88H0AfRB9IH0wfUB9UH1gfXB9gH2QfaB9sH3AfdB94H3wc=",
          "dtype": "i2"
         },
         "xaxis": "x",
         "y": {
          "bdata": "dGVDbVmzqkD4pX4eoqyqQOi4KyLcXqtAko530zMwrED6oSv4MvmrQKeMuZNch6xA80VxQXf0rkC74PJpNrivQDb2LIB4CLFAUmm6kTFzsUCPUukv6IuxQEA+2cz2PrFAqqEmR2SmsECGKR79ykuxQNSpfzYjQLJACmuEW1DPskDOGxWBE6CzQMSNudJ/uLNACQox2ifRskC2Eri3MnizQHZ/c8HkZrNApttPsxvxs0AVjuQLpie0QI/Jr5efU7VAJV7Hrz7DtEBCMDkBag+1QM8wOBoMUrRApj8zUTBjtUBlmUThyTS2QEBulF1NGbdAk0Or6BPCtkDF64ixCkK3QKiLeCQefbVABOpiQTctt0BvDBWjU4m2QORGy163qrZAZUWTIMbJtkA4IWaeN+a2QPN21n+1YLpAQHebWx5UuUBiVkkXlxa7QEz/CJ6yEbZA0oDAGyQSt0DRU3Of/Q+5QMplf5Wn27VAbkZk+KK5tkA=",
          "dtype": "f8"
         },
         "yaxis": "y"
        },
        {
         "hovertemplate": "country=Oman<br>year=%{x}<br>energy_use=%{y}<extra></extra>",
         "legendgroup": "Oman",
         "line": {
          "color": "#FECB52",
          "dash": "solid"
         },
         "marker": {
          "symbol": "circle"
         },
         "mode": "lines",
         "name": "Oman",
         "showlegend": true,
         "type": "scattergl",
         "x": {
          "bdata": "swe0B7YHtwe4B7kHuge7B7wHvQfAB8EHwwfEB8cHyQfMB80HzgfPB9AH0QfSB9MH1AfXB9gH2QfaB9sH3QfeBw==",
          "dtype": "i2"
         },
         "xaxis": "x",
         "y": {
          "bdata": "oCaF2A4rX0BUdiJpRwtfQBzVejTP8GhArz0Vnzorc0Ca0OTeBfl8QG9IMwrwNYtAHx3sXoBIg0AaUkjY0sKLQELAnt259ZFAANCaz0T3jED1Og8SoyecQA0Lxi0L4ZhAwC4ba5rTl0DB3PCZs7eVQHYIgplWpKhAywVihKLtpkCltg4gCremQJLT7ezADahALXYOC+zgp0B6WPUJEmqoQGi7OoQ16alAGkXZB7v2qUAN+alMdfyqQF1vDT+KbaxAT+e92eKcrEC0PKDSw+W6QAlgn17AR7dAr3QKGoUDt0CHD3LFUoS6QJKWPgbi8rtABHh4QTrluEDMT2PUEb63QA==",
          "dtype": "f8"
         },
         "yaxis": "y"
        },
        {
         "hovertemplate": "country=Pakistan<br>year=%{x}<br>energy_use=%{y}<extra></extra>",
         "legendgroup": "Pakistan",
         "line": {
          "color": "#636efa",
          "dash": "solid"
         },
         "marker": {
          "symbol": "circle"
         },
         "mode": "lines",
         "name": "Pakistan",
         "showlegend": true,
         "type": "scattergl",
         "x": {
          "bdata": "swe0B7UHtge3B7gHuQe6B7sHvAe9B74HvwfAB8EHwgfDB8QHxQfGB8cHyAfJB8oHywfMB80HzgfPB9AH0QfSB9MH1AfVB9YH1wfYB9kH2gfbB9wH3QfeBw==",
          "dtype": "i2"
         },
         "xaxis": "x",
         "y": {
          "bdata": "jaJWZ7c3cUAIqYVOvzFxQLa0VaCViXFAgZOhvYgLckDdNuqwcE9yQJdiqLmF93FAZze3O9InckByit/JHVByQI9ZjZQCtXJAHHIWSRLOckCYmp3T0lRzQC5xrvUsuHNAsfl3eAMXdECIn9Tt+x50QBLbrKjFh3RAOn2HzHi2dEBnIIUJXf51QKbEA8/8UnZAmE9ByrTSdkAGXW0SSBV3QEEtP2xb5nZAQer7Fxm0d0A8oJU5EDp4QBqoDLLHgHhAhcYFOPDceEALY2raX2p5QGKST44ZXXlAi9nhdfg0eUCcT04GieZ5QNhADKEZ2nlAdyYL/ZmMeUCTALbQ9DV5QLblXdvkvXlAMNSRCpDsekCXON7BR0F7QFpRQMlvuXtAKeWCaslyfECgQQFLYTt7QPAKbvOk8npA+MSVWpqrekBwRybVzEZ6QAAjiQYiFHpAd3q5acBHekCaAs7rODh6QA==",
          "dtype": "f8"
         },
         "yaxis": "y"
        },
        {
         "hovertemplate": "country=Panama<br>year=%{x}<br>energy_use=%{y}<extra></extra>",
         "legendgroup": "Panama",
         "line": {
          "color": "#EF553B",
          "dash": "solid"
         },
         "marker": {
          "symbol": "circle"
         },
         "mode": "lines",
         "name": "Panama",
         "showlegend": true,
         "type": "scattergl",
         "x": {
          "bdata": "swe0B7UHtge3B7gHuQe6B7sHvAe9B74HvwfAB8EHwgfDB8QHxQfGB8cHyAfJB8oHywfMB80HzgfPB9AH0QfSB9MH1AfVB9YH1wfYB9kH2gfbB9wH3QfeBw==",
          "dtype": "i2"
         },
         "xaxis": "x",
         "y": {
          "bdata": "13tG37KgkECErJyXRzaSQO2V8BhDV5NA2giuiq6FkkBoBCMlaoGOQN2RGhHAdY1AtUgvRb1ejEDU4N+2hiGLQJ+y8otqWoxALPrboTaMhkAN1PaBRoOHQBsPeoyuJolAzMsLKH45ikBs8Xn8rXiHQOZsKNbFJYZAUcPSFAcBhkBKbWZ1PQCHQFr5qJ2s9YRAEVoyWMBRg0ADis/UGvmCQF8P4Ei/IoRAoNela1Z6hkC5FEkiUlWGQOzql9TPCYdAcFM4rl/nhkBbPlul3v2HQIKhrCchcYhAxcKtddfIi0Cta5Gmb9mKQPtCdeMPq4pAii75+JumjUAJhmSLKW2KQB1knr189IlAPy+GmF4eiUDq6W+6S32LQKp6KEL91IxAfLgq/F61i0ANf5EjD0eLQAZl+OgGkY1AFNHgKUwUj0Aga40duZCQQG4xUADbzZBA3NJ690I5kEATJ0mds+mQQA==",
          "dtype": "f8"
         },
         "yaxis": "y"
        },
        {
         "hovertemplate": "country=Paraguay<br>year=%{x}<br>energy_use=%{y}<extra></extra>",
         "legendgroup": "Paraguay",
         "line": {
          "color": "#00cc96",
          "dash": "solid"
         },
         "marker": {
          "symbol": "circle"
         },
         "mode": "lines",
         "name": "Paraguay",
         "showlegend": true,
         "type": "scattergl",
         "x": {
          "bdata": "swe0B7UHtge3B7gHuQe6B7sHvAe9B74HvwfAB8EHwgfDB8QHxQfGB8cHyAfJB8oHywfMB80HzgfPB9AH0QfSB9MH1AfVB9YH1wfYB9kH2gfbB9wH3QfeBw==",
          "dtype": "i2"
         },
         "xaxis": "x",
         "y": {
          "bdata": "IhJ2HCeCgUA1T5N8RYyBQE126DPkiYJAzpxGBk3vgUCrIUuBzxyBQDFtLB/BwIFA7pYOK8zUgkDSyQCgan+EQDA8yJjORYRAtshhICpWhUDg+OiugLqEQK0QE1j3kIRAj1YOlPZ0hECM2CkhjkGEQJm+p8dAG4RATZZK4P1chEBmOVEtlNmGQFSd+R/6v4dAfpUp4aEriUDHR2PADMuHQNo6TAhj64dA2YqMxaU1h0A6Pu/vJn+HQLK7Q0ONDolAGEAy7jrJikABkMMR5seKQOVUGZx2eIxAVS1VAkZ/i0C9R1XzfLKJQHLhoYUPmIdASg1NNXech0D8/JrVtxSHQGBFnnIqRIdA6la26Pk3h0A82UdDHraGQJt6UjkrKYdAFxcmUibFh0AAMG2R4quIQF+Saa5xvYhA8K27KygvikDJ/bMWWDSKQNQnDewPe4pAyxj6leDOiUAn/jr8WpuKQA==",
          "dtype": "f8"
         },
         "yaxis": "y"
        },
        {
         "hovertemplate": "country=Peru<br>year=%{x}<br>energy_use=%{y}<extra></extra>",
         "legendgroup": "Peru",
         "line": {
          "color": "#ab63fa",
          "dash": "solid"
         },
         "marker": {
          "symbol": "circle"
         },
         "mode": "lines",
         "name": "Peru",
         "showlegend": true,
         "type": "scattergl",
         "x": {
          "bdata": "swe0B7UHtge3B7gHuQe6B7sHvAe9B74HvwfAB8EHwgfDB8QHxQfGB8cHyAfJB8oHywfMB80HzgfPB9AH0QfSB9MH1AfVB9YH1wfYB9kH2gfbB9wH3QfeBw==",
          "dtype": "i2"
         },
         "xaxis": "x",
         "y": {
          "bdata": "qHUKWhqdhEBxh2l6LRSEQBZVhqy3YYRAHfZrJu4FhUAtdOT8axqFQPh81IYS6YRA/ZpE6LwjhUDLc3iClQOEQBWz9ZkAdINAF8mEGZ9DhEDa/HrJX+ODQD8de1YKwINAOejRruW2gUAHpoJTfbSBQFzpypvO04BAv0xpLTS9gECTZbf5VMyAQHIDzn2RJoBAHjEmkpcmfUCWcS0mt6J7QMeQlsYqi3pA+Wn15lNLeUBGi675qXZ6QNXcVfl04HpA+mLRm1ApfEAQV1tk3HZ8QDdZ/jlVDHtAVTmETSnwe0BjS965GUF9QBZ7Ry3Xt3xAssOipddWe0CW7Uf9uTF7QIt5d5daX3pAdC5TygvkfEAhFP466Vh+QCribY/jO31AxyEubyBnf0D5kaEQMVyAQMuEpJOgC4FArxWn+DQOhEDNx9pLAEOEQC7pnOJ0n4VA9Z4oNStZhUDT6W9DZKyIQA==",
          "dtype": "f8"
         },
         "yaxis": "y"
        },
        {
         "hovertemplate": "country=Philippines<br>year=%{x}<br>energy_use=%{y}<extra></extra>",
         "legendgroup": "Philippines",
         "line": {
          "color": "#FFA15A",
          "dash": "solid"
         },
         "marker": {
          "symbol": "circle"
         },
         "mode": "lines",
         "name": "Philippines",
         "showlegend": true,
         "type": "scattergl",
         "x": {
          "bdata": "swe0B7UHtge3B7gHuQe6B7sHvAe9B74HvwfAB8EHwgfDB8QHxQfGB8cHyAfJB8oHywfMB80HzgfPB9AH0QfSB9MH1AfVB9YH1wfYB9kH2gfbB9wH3QfeBw==",
          "dtype": "i2"
         },
         "xaxis": "x",
         "y": {
          "bdata": "VpwSW2beeEClChm6UnN4QGoIob2/oXpAMhHSvZ0iekCDP2uHahd7QLX4LHLarntAX3LeU+sVfEAOZcj7Lsx7QNwLnqPAqnxA2Y1c0cUofUAXFGLhN498QDnhtSYWg3xAkz9ejdgefkCrARb+slB6QIH+Ploj5npAkN/gElU3ekBuqwBzCrF6QIPIWq7ce3tAmMiExvktfEDscTnsDIx8QPaGIjBh1HtAMV93BwpqfEAzsKWu5rd7QOTE7239D31ABDQu1nrJfUDa9QLjhRp+QGj3RjTk8X5A1ANCWVYLf0Dm5rMTCxB/QFk7OfaiY39ArZX+uGFmfUDNnHH7HzR9QPDvwb8ftHxArmkg4KwPfECBBcf3Apd7QKQ/KWJk7npAYOdz2W+FekAYC30XMQp7QF2HONpiSXlAyRDdeks1ekDexeXhqd55QI9YLUCh/HpABmbJiF9te0CWtP7+yrZ8QA==",
          "dtype": "f8"
         },
         "yaxis": "y"
        },
        {
         "hovertemplate": "country=Poland<br>year=%{x}<br>energy_use=%{y}<extra></extra>",
         "legendgroup": "Poland",
         "line": {
          "color": "#19d3f3",
          "dash": "solid"
         },
         "marker": {
          "symbol": "circle"
         },
         "mode": "lines",
         "name": "Poland",
         "showlegend": true,
         "type": "scattergl",
         "x": {
          "bdata": "xgfHB8gHyQfKB8sHzAfNB84HzwfQB9EH0gfTB9QH1QfWB9cH2AfZB9oH2wfcB90H3gffBw==",
          "dtype": "i2"
         },
         "xaxis": "x",
         "y": {
          "bdata": "76Y5rTcjpUD7adoTD6KkQDjbc8VZEqRAxegfNUyBpEB4nSBtWICjQLCyvjIPI6RAAQuOQjTwpEBPfhhAP6akQAdO00irN6NAMZYEXmK5okDzmTPhwCCiQMTm8ETkQKJAVBSOuGcUokDp1qkjA46iQDUfDIIcnqJAbk0U1lLcokD+dFvC9NGjQOs5VBvRvqNAdrLkII0JpED7LBhPDEWjQFstiVJ6oKRAILsUrM66pEB/4F8MJg2kQFix8kVXC6RA0EcGU9BSo0CFysKvaXSjQA==",
          "dtype": "f8"
         },
         "yaxis": "y"
        },
        {
         "hovertemplate": "country=Portugal<br>year=%{x}<br>energy_use=%{y}<extra></extra>",
         "legendgroup": "Portugal",
         "line": {
          "color": "#FF6692",
          "dash": "solid"
         },
         "marker": {
          "symbol": "circle"
         },
         "mode": "lines",
         "name": "Portugal",
         "showlegend": true,
         "type": "scattergl",
         "x": {
          "bdata": "sgezB7QHtQe2B7cHuAe5B7oHuwe8B70Hvge/B8AHwQfCB8MHxAfFB8YHxwfIB8kHygfLB8wHzQfOB88H0AfRB9IH0wfUB9UH1gfXB9gH2QfaB9sH3AfdB94H3wc=",
          "dtype": "i2"
         },
         "xaxis": "x",
         "y": {
          "bdata": "h895XeS+hEBbH11WZ7CGQBig+IlFSodAVlNPc672iEAG8ZvG48KJQJlGrUfmaopA4fDGhMtCi0Arq32Z82qKQMtGvbQnpoxA3rAqG0kxj0CTgVmNtfOPQMNyEvnzc49AD7qqitF8kUDqAMEKp3eRQGQNPruTb5FAuxtvLW8XkUA2irup5eGSQMLXe1zIZJNAo3wEKFdOlEAE2puhBJ+YQFZrDH3ZQ5pADkpGCESdmkBnez0bi1ecQL+Jv8nO6ZtAwu6gZMmOnEB8pO/9FHifQP9F7A5ZC59A1+e2sPlGoEA3zHN3IoChQDP3bU39rKJAEPMHJTKsokBxA67VdK6iQFvxfsD6WqNAbdBpJojBokDDmptZ+D2jQDsXi4UCrqNAiQXIM6asokBahIFQ2sSiQJmEOfOKQqJAozVlqA0AokCojAhnQl2hQHWmjdf256BATVFzLgzcn0Cj2kgAuROgQIx6xO4Myp9A5XNgIF2noEA=",
          "dtype": "f8"
         },
         "yaxis": "y"
        },
        {
         "hovertemplate": "country=Qatar<br>year=%{x}<br>energy_use=%{y}<extra></extra>",
         "legendgroup": "Qatar",
         "line": {
          "color": "#B6E880",
          "dash": "solid"
         },
         "marker": {
          "symbol": "circle"
         },
         "mode": "lines",
         "name": "Qatar",
         "showlegend": true,
         "type": "scattergl",
         "x": {
          "bdata": "swe2B7cHuge8B74HvwfAB8cHyAfJB8sHzQfOB88H0AfRB9QH1QfXB9gH2QfdB94H",
          "dtype": "i2"
         },
         "xaxis": "x",
         "y": {
          "bdata": "4ji5RJKJu0BuwfILjRy7QBI7dhcgpcRAAQ05GJoyukBVBnkxf3HHQKiYf6NIJ85AeCbdI5przUBHB4FEVZXPQO5DmWelAs9A+MQNy0Znz0CNSGnVYZXPQOI1wS3/8c5AvB2AvZUM0kDvjW2+uPPRQDfbL8OKC9JA9Eq47L+I0EAHgmm4OmLRQNZCpFkWC9VANU+q/G+300BPDfu/3+LRQMsB2nUBIs9A7sraISlrzUDa9bRu3o7UQAweOlboANRA",
          "dtype": "f8"
         },
         "yaxis": "y"
        },
        {
         "hovertemplate": "country=Romania<br>year=%{x}<br>energy_use=%{y}<extra></extra>",
         "legendgroup": "Romania",
         "line": {
          "color": "#FF97FF",
          "dash": "solid"
         },
         "marker": {
          "symbol": "circle"
         },
         "mode": "lines",
         "name": "Romania",
         "showlegend": true,
         "type": "scattergl",
         "x": {
          "bdata": "wwfEB8UHxgfHB8gHyQfKB8sHzAfNB84HzwfQB9EH0gfTB9QH1QfWB9cH2AfZB9oH2wfcB90H3gc=",
          "dtype": "i2"
         },
         "xaxis": "x",
         "y": {
          "bdata": "yhsFZCGnp0Ag9JGOXrOnQOI5VD0eVqdAqw4kmFv2pEDW3aG+nG+hQNBDxQTtCaBAr2162txOn0ByU9vcuZKdQOKUAFriC6BAAJLAe4t7oEDVyNUK+hefQFsl4jLWfZxAjWJJGiE3mUDn3krN1jiZQAUFzAf1/plATOVrJYVsm0ConkVLHaGcQJkfLVzaLZxAoNEaHk9JnEDbgic0LnKdQMxXIDZjwJ1ATEa4jd0jnkDgWPG4GsKaQDh0zsdZCJtAE2Kts2zEm0Dxa/Dy4zabQFWJoyL175hAprzTrqvemEA=",
          "dtype": "f8"
         },
         "yaxis": "y"
        },
        {
         "hovertemplate": "country=Saudi Arabia<br>year=%{x}<br>energy_use=%{y}<extra></extra>",
         "legendgroup": "Saudi Arabia",
         "line": {
          "color": "#FECB52",
          "dash": "solid"
         },
         "marker": {
          "symbol": "circle"
         },
         "mode": "lines",
         "name": "Saudi Arabia",
         "showlegend": true,
         "type": "scattergl",
         "x": {
          "bdata": "swe0B7UHtge3B7gHuQe6B7sHvAe9B74HvwfAB8EHwgfDB8QHxQfGB8cHyAfJB8oHywfMB80HzgfPB9AH0QfSB9MH1AfVB9YH1wfYB9kH2gfbB9wH3QfeBw==",
          "dtype": "i2"
         },
         "xaxis": "x",
         "y": {
          "bdata": "qxY031zfnkA6mJPGqgGZQKKjSs2MhZtAlcAjN0w/nUAcM+OvTRKeQAbY4TeRhaBAaSvnSyx0oUAGVjVb68qoQIkUP+T3v65AwXjT5kUWtEBox2HphL25QP66BPw5I7tATFDnVCXru0DH28h1uTG3QJjJu1EoCrZAlI3tGsfMtEC3c9Ntcn+3QIpbhcyxgblAP91LV3ZAuEDKCm2UMku1QJMX3BbgobdAb/SILm+2uUDU5tgIUIm5QD8yT1F4vrlATAKisgLXuEBoZibgQ4y5QK3JA5YBcbdAn1qqtKoQuECW0PfD96C3QMZiTdDdoLdAvPmrAG0Gt0CUGczjXEO4QJeSe2IxaLdALheqksjKt0D3p0xrkEi3QD/T1BUZuLhA2Hi6oDeBuEBihxfJ9UG6QCeaR8EO4bpAUY1kXaU3vkCcMZs2z7q7QD0wR5f/571AbCOq/Qgtu0CaRzgB4nW9QA==",
          "dtype": "f8"
         },
         "yaxis": "y"
        },
        {
         "hovertemplate": "country=Senegal<br>year=%{x}<br>energy_use=%{y}<extra></extra>",
         "legendgroup": "Senegal",
         "line": {
          "color": "#636efa",
          "dash": "solid"
         },
         "marker": {
          "symbol": "circle"
         },
         "mode": "lines",
         "name": "Senegal",
         "showlegend": true,
         "type": "scattergl",
         "x": {
          "bdata": "swe0B7UHtge3B7gHuQe6B7sHvAe9B74HvwfAB8EHwgfDB8QHxQfGB8cHyAfJB8oHywfMB80HzgfPB9AH0QfSB9MH1AfVB9YH1wfYB9kH2gfbB9wH3QfeBw==",
          "dtype": "i2"
         },
         "xaxis": "x",
         "y": {
          "bdata": "Y4Ez647dcEDU6hvah5pwQHpCs3Sw33BAmZpnN3rXcEDOQi983sZwQF6JmpzwsnBAsu1zJfW1cEDHJQE8FV1wQOxDVJIltHBAaLCIHj6wcEAfeLCh8SZwQNVcPg3rKm9Avey7JfBobkABG5ubrCRvQEGCgOi6MG1AgyTMlqqtbUB1bhXM27huQNrQLBBTYWxAQetfTPZna0AnwmPaxE1rQCSiBpRsVmpALW7R/Vs5a0C2NT1hJWVqQIMHG2sMhmlAO+H0d1pYakAg2uT/cVRqQI7FUHiIRGtAgD/tM6YgbEBLCiLFfPVsQDgInfaOEW5AbVnYZaC4b0BkqQeepG5vQCeBxZniz21AjLkpTKMpb0Buc5qQ9A5vQKr74JfJa25AapeGXorjb0CIQlYcUkJwQNTBRE5IC3NAfdVauHDzckB2+xV3/5BzQE7megc45nJAEuKrK3brcEBltLM/g3pxQA==",
          "dtype": "f8"
         },
         "yaxis": "y"
        },
        {
         "hovertemplate": "country=Serbia<br>year=%{x}<br>energy_use=%{y}<extra></extra>",
         "legendgroup": "Serbia",
         "line": {
          "color": "#EF553B",
          "dash": "solid"
         },
         "marker": {
          "symbol": "circle"
         },
         "mode": "lines",
         "name": "Serbia",
         "showlegend": true,
         "type": "scattergl",
         "x": {
          "bdata": "ywfMB80HzgfPB9AH0QfSB9MH1AfVB9YH1wfYB9kH2gfbB9wH3QfeBw==",
          "dtype": "i2"
         },
         "xaxis": "x",
         "y": {
          "bdata": "ITf57ec/nEALNLkSFf2gQPidFE6T9qFAEWhAsvf9oUBkki+Nt1uaQJEdNDtuiZxAGGI/l9opn0D8mWGjlI2gQANJOPWQX6FAy95VE8/wokAjAerMJd+gQJfYG3p3+aFATKPVYE+QoUCKQ8Gs/eOhQNfzGmR1LKBA2q/VQxy6oEAoGyAMbXmhQM+U4l3djp9AO16+AopAoEDL18ndcwydQA==",
          "dtype": "f8"
         },
         "yaxis": "y"
        },
        {
         "hovertemplate": "country=Singapore<br>year=%{x}<br>energy_use=%{y}<extra></extra>",
         "legendgroup": "Singapore",
         "line": {
          "color": "#00cc96",
          "dash": "solid"
         },
         "marker": {
          "symbol": "circle"
         },
         "mode": "lines",
         "name": "Singapore",
         "showlegend": true,
         "type": "scattergl",
         "x": {
          "bdata": "swe0B7UHtge3B7gHuQe6B7sHvge/B8IHwwfEB8UHxgfHB8gHyQfKB8sHzAfNB84HzwfQB9EH0gfTB9QH1QfWB9cH2AfZB9oH2wfcB90H3gc=",
          "dtype": "i2"
         },
         "xaxis": "x",
         "y": {
          "bdata": "uwqrQ/cwlEC0mH4f4oWYQJAEyeZXv5pAgFcCguoPnECoR+QY9KGZQAvBbTj9dJpAFXfMpOuMm0Car7G9Qk2hQATHulavpaBA6HtNZ1kMn0B+GwzdxyehQBuOez6CjaRAc3K16cKLpUAJJdHZQUqnQBUyVgsAoaZAsYcDyHCNrUB/zviWXUewQE1bHHPY7LFA1o/e4ZtvtUBdHi5jezy5QK0R1yTg4rRAe4rS6GjvtEDXxcRZWbq2QE7EQ+c/27NA+I+BVX7rsUCCJ0/RuRqyQG9rw8DiGbRA04eeCPzJs0BwLrE6vUi4QO0a9iKnyrxA2uW6YPe/s0DVyHUOZpC0QL4cYU00RbJAHMIuviLms0Cckxm6xqGwQHdyTvmejrNAk+m1+ivNs0C6IFmZVCKzQOQ0O/RnELNAsFDE580BtEA=",
          "dtype": "f8"
         },
         "yaxis": "y"
        },
        {
         "hovertemplate": "country=Slovenia<br>year=%{x}<br>energy_use=%{y}<extra></extra>",
         "legendgroup": "Slovenia",
         "line": {
          "color": "#ab63fa",
          "dash": "solid"
         },
         "marker": {
          "symbol": "circle"
         },
         "mode": "lines",
         "name": "Slovenia",
         "showlegend": true,
         "type": "scattergl",
         "x": {
          "bdata": "xgfHB8gHyQfKB8sHzAfNB84HzwfQB9EH0gfTB9QH1QfWB9cH2AfZB9oH2wfcB90H3gffBw==",
          "dtype": "i2"
         },
         "xaxis": "x",
         "y": {
          "bdata": "zycnCiFTpkDj6o+Z5rWlQJikhJurMKRAnrLUosc2pUA4cheW1RemQE5fnO/F0qdAXVnHjGnYqEAxCM0fzdypQL5VESOea6lAB2Ii7PhUqUBf7AROwjCpQCuU/Vk5aqpA8fW03+fAqkAiua7DDA+rQBS0XMVj5qtAhQR7xKx7rEDB0bc994GsQE7lWnIhYaxAzAObWj75rUC3BqaFdVCrQIn4pRkl9qtAP5+FUPffq0AyGtiNFMCqQOZiPev6BapA7Mbi2nhIqUA31XLDvs2oQA==",
          "dtype": "f8"
         },
         "yaxis": "y"
        },
        {
         "hovertemplate": "country=South Africa<br>year=%{x}<br>energy_use=%{y}<extra></extra>",
         "legendgroup": "South Africa",
         "line": {
          "color": "#FFA15A",
          "dash": "solid"
         },
         "marker": {
          "symbol": "circle"
         },
         "mode": "lines",
         "name": "South Africa",
         "showlegend": true,
         "type": "scattergl",
         "x": {
          "bdata": "swe0B7UHtge3B7gHuQe6B7sHvAe9B74HvwfAB8EHwgfDB8QHxQfGB8cHyAfJB8oHywfMB80HzgfPB9AH0QfSB9MH1AfVB9YH1wfYB9kH2gfbB9wH3QfeBw==",
          "dtype": "i2"
         },
         "xaxis": "x",
         "y": {
          "bdata": "SlozFJzwnkBw/HsyeZKeQEXy+aUDop9ApIzUa2zjn0D02PRymGmgQLcu7o2rhqBAVwPfZC1roEAHKJ6OXOGgQF4a0Pt396BAKVSeP99NoUAkL4FF4GWiQMYbjez7U6NAIn53QDcBo0C2Myeh2eqjQAuuyXE3Q6NA7By4nuFto0D/ygPo3oOjQCJM+WMQsqNA8lMUvp1QokDdh7OagnChQJDZyz7BzKFAcSPL0E1OoEB7+wOnaSGhQFwuAb7HbaFAz18/NU0pokCXJr1Y1FGiQGk9CmU9l6JAPstgZyo/okCHIE6mYkSiQBS+eORXEKJAIYkK+o9rokAGMrnnu+ahQLGv5nqy86JAfSE37Rh8pECTnzmU5D6kQDw8pFwc5aNAl82iC3QUpUBKp6yKMHKmQKbr2H8vvqVAyt9Qh/sopUC73M27ttOkQF+B/C07PKRAC4femUf3o0C1qkFIIamkQA==",
          "dtype": "f8"
         },
         "yaxis": "y"
        },
        {
         "hovertemplate": "country=Spain<br>year=%{x}<br>energy_use=%{y}<extra></extra>",
         "legendgroup": "Spain",
         "line": {
          "color": "#19d3f3",
          "dash": "solid"
         },
         "marker": {
          "symbol": "circle"
         },
         "mode": "lines",
         "name": "Spain",
         "showlegend": true,
         "type": "scattergl",
         "x": {
          "bdata": "sgezB7QHtQe2B7cHuAe5B7oHuwe8B70Hvge/B8AHwQfCB8MHxAfFB8YHxwfIB8kHygfLB8wHzQfOB88H0AfRB9IH0wfUB9UH1gfXB9gH2QfaB9sH3AfdB94H3wc=",
          "dtype": "i2"
         },
         "xaxis": "x",
         "y": {
          "bdata": "8tQ0d2mMkUAQvzTnnHOTQCpZ5U9wPpRAOfbuL88Hl0BelwgLgbCYQFXmDBr3HplA0VUEdYuvmkDdFCdft/SZQGc5GsaVdZtAw48qPS2jm0Ata3XoXDacQBLme59qcJxAUm5GgZmBm0AuOgOL49WbQPreRqGyVZxATQtb5MXMnED2uLHcHE+dQNCOJ/gR851An5BB5HEjoEB1uOLSBrqhQCOJthv0GqJAhYAQqG27okB4ZnfBv/yiQB6DUkr3HaJAt+pUVAYIo0CJOVU2JdKjQGZuwUuucqNAu1WCWkyVpEBxTIoUcIilQJVt8v72e6ZABeXg+YV3p0BaxYd8w+mnQIGyIhS8R6hA0A/0W3SqqEApkMVAAU2pQJ3w+VTLZqlAj4AamSn0qEC5dV4cEdioQJZC1UOtpKdAKwezAGKLpUB5NwcewW2lQNR7cmFeA6VAx3zzYbz2pEBtIAw7NqCjQOZRPVdIQaNAiv6Vkq4WpEA=",
          "dtype": "f8"
         },
         "yaxis": "y"
        },
        {
         "hovertemplate": "country=Sri Lanka<br>year=%{x}<br>energy_use=%{y}<extra></extra>",
         "legendgroup": "Sri Lanka",
         "line": {
          "color": "#FF6692",
          "dash": "solid"
         },
         "marker": {
          "symbol": "circle"
         },
         "mode": "lines",
         "name": "Sri Lanka",
         "showlegend": true,
         "type": "scattergl",
         "x": {
          "bdata": "swe0B7UHtge3B7gHuQe6B7sHvAe9B74HvwfAB8EHwgfDB8QHxQfGB8cHyAfJB8oHywfMB80HzgfPB9AH0QfSB9MH1AfVB9YH1wfYB9kH2gfbB9wH3QfeBw==",
          "dtype": "i2"
         },
         "xaxis": "x",
         "y": {
          "bdata": "nQaveDPpckCmpOGaGL1zQEWxGKzQx3NA9z9iD95yckA1bZ7aMPRyQPc04I/tvHJALpbjnWk5ckBm55qx0N5yQPwfWqzYOnNAIMgFiVAWc0BLWIbe2CRzQLICBT1vAXRA8V+sGRT5c0DNmtF3NIF0QHPlCZYXFnRAPXEjiyGBdEAQ4FEpxgx1QAlPM3LdInVAm2m1YR77dEAf9O2ESRV1QKi59nsFPnVAMufEqgx0dUBIbZaSmzx2QOyJtHR0C3VAQGDNkWRedUA2o209IHV3QBOlmrtQ2ndA6CCLW3DLd0A8gDyTAfF4QDHR5UpF+XpA5ymKWeGqeUBkDsPaft55QDjvx4JtMntArqTeCrlfe0B+pnlcZtN7QDrqrw835HtAM8WLAEc+fECn+1CaNJ17QJgiphEbPXtAHrTRF+cofUARxdkqeBx/QLqFTDwlnYBAXzWODQ52fkCVJ1KSFhyAQA==",
          "dtype": "f8"
         },
         "yaxis": "y"
        },
        {
         "hovertemplate": "country=Sudan<br>year=%{x}<br>energy_use=%{y}<extra></extra>",
         "legendgroup": "Sudan",
         "line": {
          "color": "#B6E880",
          "dash": "solid"
         },
         "marker": {
          "symbol": "circle"
         },
         "mode": "lines",
         "name": "Sudan",
         "showlegend": true,
         "type": "scattergl",
         "x": {
          "bdata": "swe0B7UHtge3B7gHuQe6B7sHvAe9B74HvwfAB8EHwgfDB8QHxQfGB8cHyAfJB8oHywfMB80HzgfPB9AH0QfSB9MH1AfVB9YH1wfYB9kH2gfbB9wH3QfeBw==",
          "dtype": "i2"
         },
         "xaxis": "x",
         "y": {
          "bdata": "5Ws3A18kgkDCUGwp19WBQCZRRefKo4FAKH2/W5QggUBVH8+0MZeAQOS9DRbTCIBA05+bZlXof0ArIyRI0iR/QMMzBtdqLX5Aav2rdN+lfkBxmb7HTLB9QNLL3Wu31n1AgVWYUQHMfUCeEQGyTQt9QJp+caS9un1AS0i9RgGXfUAFJ6N+aIp8QKKJy2nes31ATSd4eZIVfUCnfkJb7Cp+QLRlz6H3gX1ATLa964HmfEAPa1zVbnJ7QKwqQAvCBX9AXgAyvoRYfkB7xc8weWV+QMGtWfxxXn5AKEHxBifyfUANtYoBezaAQHquRU8+5X1AHN2kHzqMfkCqold3dC2AQG3pzTgiwH5AHG87iB8TfkDqMvriEfJ9QLlbBpOAbn9ALyULrRCufUAjhD/z32J9QJIt/fsWkX1AnwnpiRZ9fUAHGvWra858QFru0ZR8PXhAgUnQnoMyeEBufeA4siB4QA==",
          "dtype": "f8"
         },
         "yaxis": "y"
        },
        {
         "hovertemplate": "country=Suriname<br>year=%{x}<br>energy_use=%{y}<extra></extra>",
         "legendgroup": "Suriname",
         "line": {
          "color": "#FF97FF",
          "dash": "solid"
         },
         "marker": {
          "symbol": "circle"
         },
         "mode": "lines",
         "name": "Suriname",
         "showlegend": true,
         "type": "scattergl",
         "x": {
          "bdata": "0AfRB9IH0wfUB9UH1gfXB9gH2QfaB9sH3AfdB94H",
          "dtype": "i2"
         },
         "xaxis": "x",
         "y": {
          "bdata": "hQFd+7KslEDWzF9O/a+VQA/g5aZss41A9+p9gKIRj0DF8FusocWQQIn/Rnd2BJNAUwhsaiXhkUDRh2tfg7mQQBMQisTkdZFAsupbMnFUkUBN9BRZgGGUQKL2M8szoJNAwOyQ15imlUCUDnqh4v+SQJCdDiunvZJA",
          "dtype": "f8"
         },
         "yaxis": "y"
        },
        {
         "hovertemplate": "country=Sweden<br>year=%{x}<br>energy_use=%{y}<extra></extra>",
         "legendgroup": "Sweden",
         "line": {
          "color": "#FECB52",
          "dash": "solid"
         },
         "marker": {
          "symbol": "circle"
         },
         "mode": "lines",
         "name": "Sweden",
         "showlegend": true,
         "type": "scattergl",
         "x": {
          "bdata": "sgezB7QHtQe2B7cHuAe5B7oHuwe8B70Hvge/B8AHwQfCB8MHxAfFB8YHxwfIB8kHygfLB8wHzQfOB88H0AfRB9IH0wfUB9UH1gfXB9gH2QfaB9sH3AfdB94H3wc=",
          "dtype": "i2"
         },
         "xaxis": "x",
         "y": {
          "bdata": "SJQIwkxJskBD3TnsYWKxQFTTXrY2r7FAdzcTuM+lskAnmStpcZ6xQDq7T79/nLJAtNSbWUAftEDo05Rx1b6zQFMqJIy9mLNAZ9/8Rp5ttED1ZVmCiAezQC1k4Yon6bNAROQExswNs0BpadxaRE2zQJ2ITgBCYLRAZP/ZYTEYtkAXe+kszfa2QPFzaAgSg7ZAGlvb6X/etkCry6uPjdq1QLqSTrqOirVA8Yqxl4oStkAz9LLPXvm0QNO9op8q1rRAeKcBfEUctkA8Uj1AKka2QOwi1hAZwbZAup3mFwIotkB6A7jvsYm2QDKRSdB9HbZAqo9aKCXwtEAp2fzNRzC2QK4v2i8cqrZAxVIHJHAStkAYcxUbWNe2QDzJmJUgT7ZA0r2+9BOZtUCDSwipImC1QIz/vYf1A7VAxFNIUzMTs0AGp9DP7DO1QOtK1cOkmrRAXJ5YanyVtEBPSFqZiBq0QAlLiJhvZrNA3AepG8nus0A=",
          "dtype": "f8"
         },
         "yaxis": "y"
        },
        {
         "hovertemplate": "country=Switzerland<br>year=%{x}<br>energy_use=%{y}<extra></extra>",
         "legendgroup": "Switzerland",
         "line": {
          "color": "#636efa",
          "dash": "solid"
         },
         "marker": {
          "symbol": "circle"
         },
         "mode": "lines",
         "name": "Switzerland",
         "showlegend": true,
         "type": "scattergl",
         "x": {
          "bdata": "sgezB7QHtQe2B7cHuAe5B7oHuwe8B70Hvge/B8AHwQfCB8MHxAfFB8YHxwfIB8kHygfLB8wHzQfOB88H0AfRB9IH0wfUB9UH1gfXB9gH2QfaB9sH3AfdB94H3wc=",
          "dtype": "i2"
         },
         "xaxis": "x",
         "y": {
          "bdata": "DPYQQlH5o0BdSMFwV5ukQDGvQD1wT6VAoLBopwJsp0CohldxB7+lQHSQrbyLLaVAX7QImQYKpkC9CTn4lXumQMwGSJ0IZqdAXXZEulvEp0DYjjekJsWoQGb4ZYSlKqhADleNT3JQp0BGvdB6ncqoQAmZD2y9TqlArct6P8ioqkAwDnhLC7GrQMMFvAW2zapA2ospbcDZqkDiZty8KhaqQMppJ7hiV6xAWou9Y2NqrECS7Z6TkTqsQIRneOrFRatAWTK+8ORMq0A/HjFVTbuqQGARqaBpIqtAaH+fWMiLq0B9mkXr+surQLgRceu+tqtANR6B4i4xq0DZNBfMlbKsQCmI/gJ7w6tAPA2sliGsq0A12ckcKJWrQHbKUstvQKtAl1iWo01GrEBwcanHo6WqQBpWn/uUV6tAcNgfqLQzq0Bl7x2ZPCeqQM2JHxOoCqlAgUI8LqsFqUDViqgaO9CpQKmYkZ3f56dAElZLkyUgp0A=",
          "dtype": "f8"
         },
         "yaxis": "y"
        },
        {
         "hovertemplate": "country=Syrian Arab Republic<br>year=%{x}<br>energy_use=%{y}<extra></extra>",
         "legendgroup": "Syrian Arab Republic",
         "line": {
          "color": "#EF553B",
          "dash": "solid"
         },
         "marker": {
          "symbol": "circle"
         },
         "mode": "lines",
         "name": "Syrian Arab Republic",
         "showlegend": true,
         "type": "scattergl",
         "x": {
          "bdata": "tAe1B7YHtwe4B7kHuge7B7wHvQe+B78HwAfBB8IHwwfEB8UHxgfHB8gHyQfKB8sHzAfNB84HzwfQB9EH0gfTB9QH1QfWB9cH2AfZB9oH3QfeBw==",
          "dtype": "i2"
         },
         "xaxis": "x",
         "y": {
          "bdata": "2SIGbOofckD3Xug42ThyQPcRRUF4p3ZAxR5AOwVCeUChl6+HYKR7QNffNyWssH1AKUFxYgJdf0BwnpW7f6iDQF8rH1ihJ39AWk3U9g/+gUCN9onSmuCEQJRIpKL0IodA0x42wI+2iUCJzvs7sgiHQNKJmAy+2IZAjEULj6yLiEAp+ruk7pKIQOAiWq/W3IdATNRgSJ//iUADLopoFHOLQIhCw6Ked4lAMTrQdqvViEDdgNPfxyiJQFxo8tFv3YlAPqpGHzWUikDSec3TlxyMQNbu/VcYh45AkjgNOUOhjUAOYYtjXwCNQDcoTh36B41A4W+EoBxyjUA3K5QotOWMQLoOuG69do1AsC+4KHpEkUBmBL/X2TWRQGitDnV18JBALLPLNaaukEC4oe8MR4+OQN1GhzZLG45ABBWEkYvIgEDdOZhFpKaAQA==",
          "dtype": "f8"
         },
         "yaxis": "y"
        },
        {
         "hovertemplate": "country=Tajikistan<br>year=%{x}<br>energy_use=%{y}<extra></extra>",
         "legendgroup": "Tajikistan",
         "line": {
          "color": "#00cc96",
          "dash": "solid"
         },
         "marker": {
          "symbol": "circle"
         },
         "mode": "lines",
         "name": "Tajikistan",
         "showlegend": true,
         "type": "scattergl",
         "x": {
          "bdata": "xgfHB8gHyQfKB8sHzAfNB84HzwfQB9EH0gfTB9QH1QfWB9cH2AfZB9oH2wfcB90H3gc=",
          "dtype": "i2"
         },
         "xaxis": "x",
         "y": {
          "bdata": "pCYStCC5jkCIINIKxJiMQEwRuzkS64ZAH50u/ES1gUCoJabQ2bF6QB6oF3vUYHdAPHF51NUhdkAcLFCkVct1QE0S5RrVxnZA8R30qaaIdkCe23h2LF51QHSXzZDmr3RAbVNTGTlbdECeUHOWmVl0QMhvVf9ylHVACqHR4PAedUCJ5NXMHF51QGKPaf0ZZ3ZAdynGghrmdEC8QBRZ2spxQP953czExXFAaoCETxxucUCKoKSiSk1yQCsAXAknyXNAPMxbeirOdEA=",
          "dtype": "f8"
         },
         "yaxis": "y"
        },
        {
         "hovertemplate": "country=Tanzania<br>year=%{x}<br>energy_use=%{y}<extra></extra>",
         "legendgroup": "Tanzania",
         "line": {
          "color": "#ab63fa",
          "dash": "solid"
         },
         "marker": {
          "symbol": "circle"
         },
         "mode": "lines",
         "name": "Tanzania",
         "showlegend": true,
         "type": "scattergl",
         "x": {
          "bdata": "swe0B7UHtge3B7gHuQe6B7sHvAe9B74HvwfAB8EHwgfDB8QHxQfGB8cHyAfJB8oHywfMB80HzgfPB9AH0QfSB9MH1AfVB9YH1wfYB9kH2gfbB9wH3QfeBw==",
          "dtype": "i2"
         },
         "xaxis": "x",
         "y": {
          "bdata": "rC6RNV7ygEBx75MpWYCAQL1/yIU+BIBAT/4ZmDHLfkC7vYJ2bbV9QCODiuxv73xAtzkuH33qe0BSbZxosEB7QJ8kYXsqmXpANdKuzOsaekBHbQrKM655QE8eZCyTR3lAxUpocXH3eEBZXxb6WaN4QFAACUVgWnhAtS71pV4ieEBv2ugTgcl3QIpZa551fndAnuYyzM1gd0BvKSPdXUx3QMYpsr9MLndAA6ktRK7mdkCEzLBFr8t2QDxnwGK9VHZAJMbF4jKsdkCeeOU9PYl2QITZ4m8oTHZAsByrQnwgd0CWFkFamu93QBFJPwvzjnhAcXRuZFc+eUARQf3pyNh5QGLnxx2RKnpAfUBgnVUBe0A1feyAM4F7QFYcWZQ0tXtALGp1E+vle0Alq5ewGxJ8QCgl8O/3J3xAIkfsnEHafECzGYe6lKh9QCWsA6shlX5A8i2Ml16/fkDs5MvQW9N+QA==",
          "dtype": "f8"
         },
         "yaxis": "y"
        },
        {
         "hovertemplate": "country=Thailand<br>year=%{x}<br>energy_use=%{y}<extra></extra>",
         "legendgroup": "Thailand",
         "line": {
          "color": "#FFA15A",
          "dash": "solid"
         },
         "marker": {
          "symbol": "circle"
         },
         "mode": "lines",
         "name": "Thailand",
         "showlegend": true,
         "type": "scattergl",
         "x": {
          "bdata": "swe0B7UHtge3B7gHuQe6B7sHvAe9B74HvwfAB8EHwgfDB8QHxQfGB8cHyAfJB8oHywfMB80HzgfPB9AH0QfSB9MH1AfVB9YH1wfYB9kH2gfbB9wH3QfeBw==",
          "dtype": "i2"
         },
         "xaxis": "x",
         "y": {
          "bdata": "5MADkr0pd0Cf7dVQ3Kx3QCIV6dCZC3lA5QkyC9PveEDWz+Xn8Hh6QLuLLQX2GHxA0flXIT1BfUBj40Scab59QCm/UjQ1xH5AfuHYjowffkDyxe7S4td9QGqM6iLTl31Ak4Yst4WqekBvVUEGDuR8QEbIeJemwX5ACNr1+vm7f0AIy6F5wjmBQDaICLk1T4NAQIx6Wd0/hUDxjG5JF/KHQF6AEV8/lYlASCe3y7LTikBhES1fv9+LQCM4aEorX45AwB+CfEFfkECFd5HhPw6SQM3tKIMBJpJA/UvLZrHLkED/kXEdIrWRQFT50Oj57JFAQJDB2L1CkkCaXu8x9v+TQP5j3gPpdpVAVBjqQe/8lkAfMXQbv26XQDU4VtxfspdA4vKS9BGBmEAWycVvqfqYQMfLFTkctJhA96KJqjPZmkBKkM5thaaaQDYLfKfJZZxACNG1CmhcnkDOErELnfydQA==",
          "dtype": "f8"
         },
         "yaxis": "y"
        },
        {
         "hovertemplate": "country=Togo<br>year=%{x}<br>energy_use=%{y}<extra></extra>",
         "legendgroup": "Togo",
         "line": {
          "color": "#19d3f3",
          "dash": "solid"
         },
         "marker": {
          "symbol": "circle"
         },
         "mode": "lines",
         "name": "Togo",
         "showlegend": true,
         "type": "scattergl",
         "x": {
          "bdata": "swe0B7UHtge3B7gHuQe6B7sHvAe9B74HvwfAB8EHwgfDB8QHxQfGB8cHyAfJB8oHywfMB80HzgfPB9AH0QfSB9MH1AfVB9YH1wfYB9kH2gfbB9wH3QfeBw==",
          "dtype": "i2"
         },
         "xaxis": "x",
         "y": {
          "bdata": "OzqiUXeYc0BMjQ9EkI5zQK4femcuDHNARsOwPQqQckBSsrHWUt9yQABUxDiacXJArFtcF+Ybc0DokAtGBTBzQGRSw1pZdXNArk17BlH/ckDIseSaaMpyQJVUUtgdJXNAXirKRe4NckB+nuqw2yVyQMa0zyq06XFALUrJabD1ckD3amWVbXdzQAzLmB0TSHNAhr7oqIhLc0AUW0yQhr5zQDZKw88CpnNA1tpMv4hVc0BsjGkN3ItzQD67a7gZBnZAQyRqVH0xdkCEdGol+vl3QEh4sMn95HZA0Uy5vLvJd0Dvsz/uZHB6QADVx05WqnlA2bLNjjfweECZIiAaFC15QDpsSM7/63lAk57xgAKIeUD8x9Jrz1x5QDolZmFAnHhAfSEJNpXQeEAOrBu/aSN5QInWNuiKuH1AyJ47jF3rfEAxGq5gDlB8QAH+RzMDfXtA9dvN/8KCe0C75czAppx7QA==",
          "dtype": "f8"
         },
         "yaxis": "y"
        },
        {
         "hovertemplate": "country=Trinidad and Tobago<br>year=%{x}<br>energy_use=%{y}<extra></extra>",
         "legendgroup": "Trinidad and Tobago",
         "line": {
          "color": "#FF6692",
          "dash": "solid"
         },
         "marker": {
          "symbol": "circle"
         },
         "mode": "lines",
         "name": "Trinidad and Tobago",
         "showlegend": true,
         "type": "scattergl",
         "x": {
          "bdata": "swe0B7UHtge3B7gHuQe6B7sHvAe9B74HvwfAB8EHwgfDB8QHxQfGB8cHyAfJB8oHywfMB80HzgfPB9AH0QfSB9MH1AfVB9YH1wfYB9kH2gfbB9wH3QfeBw==",
          "dtype": "i2"
         },
         "xaxis": "x",
         "y": {
          "bdata": "qKyXFmCNpEBiWtPEbq2kQFtGwDiKDqRA5Pqev7oTpEB/HWlbFzehQCdVctvI4qJAX9NbMfchpUCXeoSxVxGpQNlyNZGNoalAXreixvWoqkDsoQuX/virQM+/H26+0qtAW2y7km2GrEAsIqetw+KvQD+wLQ+Av7BASZiSurNGsUCaByZRiBCwQBXza48tcbFAoeVJZFbHsEAPHsSUaK2yQHNrixmYarJAQrovRSsYtED7VPmDURmzQCtdEoa1F7NAgw3tsvCLskD32fz1LNa1QESeB1fbgbRAoS54BFW7t0BVwabwcZ27QBrKDJc/H71AXu44haEwwECIyG2BIIjBQIs+H7FCgsNARm4FiZ9gxEBXo6G+51DIQPwF8l0PD8tAfZOoawmqzEAjEllxMbfLQOmGInT6+8tA5lYBSCO+zUDk7YPSYAnNQP0P4b3FJ8xAXGj7r3GOzECkWBSsgGjMQA==",
          "dtype": "f8"
         },
         "yaxis": "y"
        },
        {
         "hovertemplate": "country=Tunisia<br>year=%{x}<br>energy_use=%{y}<extra></extra>",
         "legendgroup": "Tunisia",
         "line": {
          "color": "#B6E880",
          "dash": "solid"
         },
         "marker": {
          "symbol": "circle"
         },
         "mode": "lines",
         "name": "Tunisia",
         "showlegend": true,
         "type": "scattergl",
         "x": {
          "bdata": "swe0B7UHtge3B7gHuQe6B7sHvAe9B74HvwfAB8EHwgfDB8QHxQfGB8cHyAfJB8oHywfMB80HzgfPB9AH0QfSB9MH1AfVB9YH1wfYB9kH2gfbB9wH3QfeBw==",
          "dtype": "i2"
         },
         "xaxis": "x",
         "y": {
          "bdata": "ItTZI6Sqc0DpyXsgOfR0QK2pISq7SXVArl0+5lEZd0CkXJ6I7UJ3QLb+8aZuKXhACJMtOiiNeUCJSzgFrV97QNu7boa9DX1AxHId4tjqfkC/nj9Rky5/QIBnYHXaA35Ae3YZ3Cm1gEB9/NCOkUuBQOvhhUWSjYFAXjwj/kbggEAa5tkYhLqAQJge7Pm8KoFAM4kGZiW3gEBwWHPDFpKCQPPXr8DmAYJAE4pXpqSbg0C2gOqQE7WCQHOboLzW24NAeUGo5ZTMg0DUrNgyHWaEQD0qG0SjwYRALf0JOG5WhkCZdVHL49CGQFTNC6RsYYdAGbsZeltqiEBtRftYxHyIQL+UB4Nk6IhArtefl4cDikAz7XRG2FWJQJc/Di73bopADNw7+SYNi0COL1kdXvGLQPsh9fuu3opAOwiP3inYjUCiPu90xyuMQN+sbLm/E41A2Xyu1sc0jUDw6AH9jiWNQA==",
          "dtype": "f8"
         },
         "yaxis": "y"
        },
        {
         "hovertemplate": "country=Ukraine<br>year=%{x}<br>energy_use=%{y}<extra></extra>",
         "legendgroup": "Ukraine",
         "line": {
          "color": "#FF97FF",
          "dash": "solid"
         },
         "marker": {
          "symbol": "circle"
         },
         "mode": "lines",
         "name": "Ukraine",
         "showlegend": true,
         "type": "scattergl",
         "x": {
          "bdata": "xgfHB8gHyQfKB8sHzAfNB84HzwfQB9EH0gfTB9QH1QfWB9cH2AfZB9oH2wfcB90H3gc=",
          "dtype": "i2"
         },
         "xaxis": "x",
         "y": {
          "bdata": "85zUfXbpskC+PsA1peSyQGe8EKurY7BA5KYKxNEIrUAdwcA6ed6oQM7CfajGwKhAQ3DHmCvfpkCJa3Us4hKmQAHJQnLwCqVAic2InAAdpUBwHJJqohelQFZ1S15lVaVAri1TN3HDpUA/gS92YmOnQBJAbBRKbKdAl0Nioh91p0BCpTnNn7GmQKlBdLLzIadA7hxmf5J3pkBAD5FENzGjQOv3w/89RaZAT8G90eJZpUBB/YLKY7akQKYt0sSyq6NAdr1uOa71oUA=",
          "dtype": "f8"
         },
         "yaxis": "y"
        },
        {
         "hovertemplate": "country=United Arab Emirates<br>year=%{x}<br>energy_use=%{y}<extra></extra>",
         "legendgroup": "United Arab Emirates",
         "line": {
          "color": "#FECB52",
          "dash": "solid"
         },
         "marker": {
          "symbol": "circle"
         },
         "mode": "lines",
         "name": "United Arab Emirates",
         "showlegend": true,
         "type": "scattergl",
         "x": {
          "bdata": "swe0B7UHtge3B7gHuQe6B7sHvAe/B8AHwgfDB8QHxQfGB8gHyQfKB8sHzAfNB84HzwfQB9EH0gfTB9QH1QfWB9cH2AfbB9wH3QfeBw==",
          "dtype": "i2"
         },
         "xaxis": "x",
         "y": {
          "bdata": "zkOUuhCZp0DZuspNGlSlQGaoPnx2XKdAiGC0In9spUCqsbZ2xeGrQBdm4KuIN69AzIZ381GXtkCFX00ziwa3QFyWA4KS2rdAU8rZG0vQu0AGF3wnDnS9QM2TK2LZD8JAo0bOLjm+xECdHzahsnbFQB/sj5aPm8RAcEOx+QtbxkDYjc5jywPFQJ0kPA4BpsRATppWR9yqxEBKOyYMR9vFQGZXgm6JNcZAr9zoSmb6xUDUmSQDsWfFQIxeGnqaSMRAqccA8gJIw0CTfsG3c5/BQFmiz0FMFsVAZ+jIn8+uw0AQJRuAu0bCQLplQI3gdMJAdUZ7lo2hwkCVB6J4ZAPCQNv7zwwtacFAcDmTMdphwkBtVaWRz6/BQGZL2cNLEsJAOeXLyDvCwUBG7/X+HhTBQA==",
          "dtype": "f8"
         },
         "yaxis": "y"
        },
        {
         "hovertemplate": "country=United Kingdom<br>year=%{x}<br>energy_use=%{y}<extra></extra>",
         "legendgroup": "United Kingdom",
         "line": {
          "color": "#636efa",
          "dash": "solid"
         },
         "marker": {
          "symbol": "circle"
         },
         "mode": "lines",
         "name": "United Kingdom",
         "showlegend": true,
         "type": "scattergl",
         "x": {
          "bdata": "sgezB7QHtQe2B7cHuAe5B7oHuwe8B70Hvge/B8AHwQfCB8MHxAfFB8YHxwfIB8kHygfLB8wHzQfOB88H0AfRB9IH0wfUB9UH1gfXB9gH2QfaB9sH3AfdB94H3wc=",
          "dtype": "i2"
         },
         "xaxis": "x",
         "y": {
          "bdata": "vOypmufJrEDgKSrlkCqtQA6ti8nsR61A2fmm40xRrkAuHAvtri2tQKSQW1+is6tA1spAefNBrECcKcKKxN6sQDfPDdzetqxAbiensfMlrkCn1AY1TIerQIyY21DBrqpAdX6gnD6KqkA1VbRQz2OqQOE2TcUMVapA0xYTTZG9q0Abc/au4xusQAC71I8nRqxAx/7whQN2rEAtfTWBmFSsQA7TBW4aGqxArQ61aOf3rEB+Ykn2csmsQFuqrCNfAq1AMit6zwoprUAfF0si7SGtQMSpM0SlT65A8rYcu2xhrUAg/fyGN5atQAu71u4lkK1A60DKmYGTrUAUWa0525GtQM26dC29y6xA1rj7LDgnrUBmynEK9dysQFQocUW4zKxAyKGP7Z4drEDs887KR+OqQGyoUAb2Q6pAnIjm2yuTqEBQCDNiOz2pQDhaeV5OOKdA7EYEQbjFp0AU0ZKzZlenQNJQpTmfsqVAf0cliQiZpUA=",
          "dtype": "f8"
         },
         "yaxis": "y"
        },
        {
         "hovertemplate": "country=Uruguay<br>year=%{x}<br>energy_use=%{y}<extra></extra>",
         "legendgroup": "Uruguay",
         "line": {
          "color": "#EF553B",
          "dash": "solid"
         },
         "marker": {
          "symbol": "circle"
         },
         "mode": "lines",
         "name": "Uruguay",
         "showlegend": true,
         "type": "scattergl",
         "x": {
          "bdata": "swe0B7UHtge3B7gHuQe6B7sHvAe9B74HvwfAB8EHwgfDB8QHxQfGB8cHyAfJB8oHywfMB80HzgfPB9AH0QfSB9MH1AfVB9YH1wfYB9kH2gfbB9wH3QfeBw==",
          "dtype": "i2"
         },
         "xaxis": "x",
         "y": {
          "bdata": "8HLfB1LpikBEIFnkYEeLQMfavZPuSYpAVmNQjyC9iUCNXaO6R5qKQNEqK4so0YpA9OnoCkWpikBi8cmQsiaLQAOW8Ink24xAytXt5Iz7i0BOJVRxvN2KQJEg/+dzxYdA0ZrdeKTphUABxPkL5fSEQDMqiN1ssYRAdxdXDGE9hUBR3BCftnOGQIimsu0Q7YdA21EkJBNoiEDGSZACMKmGQCHFp/CwbohA4YRhpQLaikBzvYyeFe2IQNOwf0Str4dATypwH0gziUDX/P4pE6KLQE1lD6ZB7YtAfN6eiEWajEC3BCmpMxSPQEgf7n8KlY1AEtIyuTXhiUDR52p+ljCIQDoo5HBhB4hAW3PoT+1Oi0CHkx4A6R+MQIkJ4qguPI5Amcs7jVUFjkCUBmR8zKaTQOXIkHnofpNAIyo13T4+k0Ar/kEAWsCUQLVKDfpQuZVAK2sZ0+1+lUDLNQMU7fCVQA==",
          "dtype": "f8"
         },
         "yaxis": "y"
        },
        {
         "hovertemplate": "country=Uzbekistan<br>year=%{x}<br>energy_use=%{y}<extra></extra>",
         "legendgroup": "Uzbekistan",
         "line": {
          "color": "#00cc96",
          "dash": "solid"
         },
         "marker": {
          "symbol": "circle"
         },
         "mode": "lines",
         "name": "Uzbekistan",
         "showlegend": true,
         "type": "scattergl",
         "x": {
          "bdata": "xgfHB8gHyQfKB8sHzAfNB84HzwfQB9EH0gfTB9QH1QfWB9cH2AfZB9oH2wfcB90H",
          "dtype": "i2"
         },
         "xaxis": "x",
         "y": {
          "bdata": "JYJbZXyzoUASFLR0QuuhQP6/A5vmdaBAPl8hKWW7oEBbAyIUTzSgQLNhU06/JJ1A5Kc3+32TnUAU7EaBC5GdQDEMpfCyLKBAwKPpqcBgoEBwAJLLagigQAlQbWG/359AyNfQp1tloECzs0mJCFKfQB0gjtK5fp5AhFVx5rvpm0DTfLJKcyacQOH6wE8GkZtA+QJrClNKnEAbDeE8x7iYQPpT5Sb/yJdA7zf0cdmqmUBKs/nL4tmZQCTSPpsTkZZA",
          "dtype": "f8"
         },
         "yaxis": "y"
        },
        {
         "hovertemplate": "country=Zambia<br>year=%{x}<br>energy_use=%{y}<extra></extra>",
         "legendgroup": "Zambia",
         "line": {
          "color": "#ab63fa",
          "dash": "solid"
         },
         "marker": {
          "symbol": "circle"
         },
         "mode": "lines",
         "name": "Zambia",
         "showlegend": true,
         "type": "scattergl",
         "x": {
          "bdata": "swe0B7UHtge3B7gHuQe6B7sHvAe9B74HvwfAB8EHwgfDB8QHxQfGB8cHyAfJB8oHywfMB80HzgfPB9AH0QfSB9MH1AfVB9YH1wfYB9kH2gfbB9wH3Qc=",
          "dtype": "i2"
         },
         "xaxis": "x",
         "y": {
          "bdata": "gbg8f1NliUAbBcwx8UiKQAhy7IIHAItAnppZiuJOi0CClJOPHhaJQAs+KinxCotAN4mDOBjRiUAhTsVC7DyJQC+hdXUrpYhAFtM4k4nmiEBFWdLEoIOIQEtRe4FIT4hAAiy/qAXyh0Brqca7CYSHQClZ/if/PYdAuEw8kpTrhkDW0QgzpbmGQBvGiSR1QodA57SCvRafhkAHQ6XW996FQPuu9ZBo7IVACg3Z/FS5hUBe6QWF+zuFQFuMd4CR4IRAhWOcgMO6hEBngy/pBQ6EQDVOrRo2Y4RAniTkg4EOhEBeW6PcWY+DQKc2nQ0jf4NABHM1VR+Eg0A8hl2+ppGDQOR9Va8BmoNA+Pg4BDSJg0AKTWm/o4eDQGwNhgSxSoNAvNjJIiShgkBgZyCk0JmCQMrXyktjZIJACFnxZb1mgkDXZocE6cyCQBgYAJn/GoNAPcAn3oKJg0A=",
          "dtype": "f8"
         },
         "yaxis": "y"
        },
        {
         "hovertemplate": "country=Zimbabwe<br>year=%{x}<br>energy_use=%{y}<extra></extra>",
         "legendgroup": "Zimbabwe",
         "line": {
          "color": "#FFA15A",
          "dash": "solid"
         },
         "marker": {
          "symbol": "circle"
         },
         "mode": "lines",
         "name": "Zimbabwe",
         "showlegend": true,
         "type": "scattergl",
         "x": {
          "bdata": "swe0B7UHtge3B7gHuQe6B7sHvAe9B74HvwfAB8EHwgfDB8QHxQfGB8cHyAfJB8oHywfMB80HzgfPB9AH0QfSB9MH1AfVB9YH1wfYB9kH2gfbB9wH3Qc=",
          "dtype": "i2"
         },
         "xaxis": "x",
         "y": {
          "bdata": "kQTE2Sqgj0CqpczXxT2PQMUNkerdBpBAfJAGXiNwj0ARLpMLTlGOQJ8wF1CfC49AtaVHakJjjUDxBhMezceMQKM2vr0r24xAPtxeLYnQjEDI68B/xHCLQEon2TUPmIpAw+jKcfw+ikCRfp7j58SJQHk6mPgYpIpAy3P+jzw+i0DxQmPRUseMQOT64dNJO4xAzafEhGUKjEAl3TV1FqmMQAvPmiF8mY1ACBSzxMe2jUD/lNsEvQOMQComUYLix4tAAcoz7MEFjEBwgo8c8nGLQJeWr5SsqopAAqltZUfCikDUAv/2MxSMQJyWj9DuTIpAs1sn2wMOikDYyyulLFqJQFzByZl29YdAvTb3Iuwnh0DA1QmkhBKIQHaSwO1BWYhAqU/LQlCNh0D2hrQqMJ+FQF+i5+SfuYVA6OONBYEhhkBGDWGdbpCHQCEYAfqVcohAatLui7YqiUA=",
          "dtype": "f8"
         },
         "yaxis": "y"
        }
       ],
       "layout": {
        "legend": {
         "title": {
          "text": "country"
         },
         "tracegroupgap": 0
        },
        "template": {
         "data": {
          "bar": [
           {
            "error_x": {
             "color": "#2a3f5f"
            },
            "error_y": {
             "color": "#2a3f5f"
            },
            "marker": {
             "line": {
              "color": "#E5ECF6",
              "width": 0.5
             },
             "pattern": {
              "fillmode": "overlay",
              "size": 10,
              "solidity": 0.2
             }
            },
            "type": "bar"
           }
          ],
          "barpolar": [
           {
            "marker": {
             "line": {
              "color": "#E5ECF6",
              "width": 0.5
             },
             "pattern": {
              "fillmode": "overlay",
              "size": 10,
              "solidity": 0.2
             }
            },
            "type": "barpolar"
           }
          ],
          "carpet": [
           {
            "aaxis": {
             "endlinecolor": "#2a3f5f",
             "gridcolor": "white",
             "linecolor": "white",
             "minorgridcolor": "white",
             "startlinecolor": "#2a3f5f"
            },
            "baxis": {
             "endlinecolor": "#2a3f5f",
             "gridcolor": "white",
             "linecolor": "white",
             "minorgridcolor": "white",
             "startlinecolor": "#2a3f5f"
            },
            "type": "carpet"
           }
          ],
          "choropleth": [
           {
            "colorbar": {
             "outlinewidth": 0,
             "ticks": ""
            },
            "type": "choropleth"
           }
          ],
          "contour": [
           {
            "colorbar": {
             "outlinewidth": 0,
             "ticks": ""
            },
            "colorscale": [
             [
              0,
              "#0d0887"
             ],
             [
              0.1111111111111111,
              "#46039f"
             ],
             [
              0.2222222222222222,
              "#7201a8"
             ],
             [
              0.3333333333333333,
              "#9c179e"
             ],
             [
              0.4444444444444444,
              "#bd3786"
             ],
             [
              0.5555555555555556,
              "#d8576b"
             ],
             [
              0.6666666666666666,
              "#ed7953"
             ],
             [
              0.7777777777777778,
              "#fb9f3a"
             ],
             [
              0.8888888888888888,
              "#fdca26"
             ],
             [
              1,
              "#f0f921"
             ]
            ],
            "type": "contour"
           }
          ],
          "contourcarpet": [
           {
            "colorbar": {
             "outlinewidth": 0,
             "ticks": ""
            },
            "type": "contourcarpet"
           }
          ],
          "heatmap": [
           {
            "colorbar": {
             "outlinewidth": 0,
             "ticks": ""
            },
            "colorscale": [
             [
              0,
              "#0d0887"
             ],
             [
              0.1111111111111111,
              "#46039f"
             ],
             [
              0.2222222222222222,
              "#7201a8"
             ],
             [
              0.3333333333333333,
              "#9c179e"
             ],
             [
              0.4444444444444444,
              "#bd3786"
             ],
             [
              0.5555555555555556,
              "#d8576b"
             ],
             [
              0.6666666666666666,
              "#ed7953"
             ],
             [
              0.7777777777777778,
              "#fb9f3a"
             ],
             [
              0.8888888888888888,
              "#fdca26"
             ],
             [
              1,
              "#f0f921"
             ]
            ],
            "type": "heatmap"
           }
          ],
          "histogram": [
           {
            "marker": {
             "pattern": {
              "fillmode": "overlay",
              "size": 10,
              "solidity": 0.2
             }
            },
            "type": "histogram"
           }
          ],
          "histogram2d": [
           {
            "colorbar": {
             "outlinewidth": 0,
             "ticks": ""
            },
            "colorscale": [
             [
              0,
              "#0d0887"
             ],
             [
              0.1111111111111111,
              "#46039f"
             ],
             [
              0.2222222222222222,
              "#7201a8"
             ],
             [
              0.3333333333333333,
              "#9c179e"
             ],
             [
              0.4444444444444444,
              "#bd3786"
             ],
             [
              0.5555555555555556,
              "#d8576b"
             ],
             [
              0.6666666666666666,
              "#ed7953"
             ],
             [
              0.7777777777777778,
              "#fb9f3a"
             ],
             [
              0.8888888888888888,
              "#fdca26"
             ],
             [
              1,
              "#f0f921"
             ]
            ],
            "type": "histogram2d"
           }
          ],
          "histogram2dcontour": [
           {
            "colorbar": {
             "outlinewidth": 0,
             "ticks": ""
            },
            "colorscale": [
             [
              0,
              "#0d0887"
             ],
             [
              0.1111111111111111,
              "#46039f"
             ],
             [
              0.2222222222222222,
              "#7201a8"
             ],
             [
              0.3333333333333333,
              "#9c179e"
             ],
             [
              0.4444444444444444,
              "#bd3786"
             ],
             [
              0.5555555555555556,
              "#d8576b"
             ],
             [
              0.6666666666666666,
              "#ed7953"
             ],
             [
              0.7777777777777778,
              "#fb9f3a"
             ],
             [
              0.8888888888888888,
              "#fdca26"
             ],
             [
              1,
              "#f0f921"
             ]
            ],
            "type": "histogram2dcontour"
           }
          ],
          "mesh3d": [
           {
            "colorbar": {
             "outlinewidth": 0,
             "ticks": ""
            },
            "type": "mesh3d"
           }
          ],
          "parcoords": [
           {
            "line": {
             "colorbar": {
              "outlinewidth": 0,
              "ticks": ""
             }
            },
            "type": "parcoords"
           }
          ],
          "pie": [
           {
            "automargin": true,
            "type": "pie"
           }
          ],
          "scatter": [
           {
            "fillpattern": {
             "fillmode": "overlay",
             "size": 10,
             "solidity": 0.2
            },
            "type": "scatter"
           }
          ],
          "scatter3d": [
           {
            "line": {
             "colorbar": {
              "outlinewidth": 0,
              "ticks": ""
             }
            },
            "marker": {
             "colorbar": {
              "outlinewidth": 0,
              "ticks": ""
             }
            },
            "type": "scatter3d"
           }
          ],
          "scattercarpet": [
           {
            "marker": {
             "colorbar": {
              "outlinewidth": 0,
              "ticks": ""
             }
            },
            "type": "scattercarpet"
           }
          ],
          "scattergeo": [
           {
            "marker": {
             "colorbar": {
              "outlinewidth": 0,
              "ticks": ""
             }
            },
            "type": "scattergeo"
           }
          ],
          "scattergl": [
           {
            "marker": {
             "colorbar": {
              "outlinewidth": 0,
              "ticks": ""
             }
            },
            "type": "scattergl"
           }
          ],
          "scattermap": [
           {
            "marker": {
             "colorbar": {
              "outlinewidth": 0,
              "ticks": ""
             }
            },
            "type": "scattermap"
           }
          ],
          "scattermapbox": [
           {
            "marker": {
             "colorbar": {
              "outlinewidth": 0,
              "ticks": ""
             }
            },
            "type": "scattermapbox"
           }
          ],
          "scatterpolar": [
           {
            "marker": {
             "colorbar": {
              "outlinewidth": 0,
              "ticks": ""
             }
            },
            "type": "scatterpolar"
           }
          ],
          "scatterpolargl": [
           {
            "marker": {
             "colorbar": {
              "outlinewidth": 0,
              "ticks": ""
             }
            },
            "type": "scatterpolargl"
           }
          ],
          "scatterternary": [
           {
            "marker": {
             "colorbar": {
              "outlinewidth": 0,
              "ticks": ""
             }
            },
            "type": "scatterternary"
           }
          ],
          "surface": [
           {
            "colorbar": {
             "outlinewidth": 0,
             "ticks": ""
            },
            "colorscale": [
             [
              0,
              "#0d0887"
             ],
             [
              0.1111111111111111,
              "#46039f"
             ],
             [
              0.2222222222222222,
              "#7201a8"
             ],
             [
              0.3333333333333333,
              "#9c179e"
             ],
             [
              0.4444444444444444,
              "#bd3786"
             ],
             [
              0.5555555555555556,
              "#d8576b"
             ],
             [
              0.6666666666666666,
              "#ed7953"
             ],
             [
              0.7777777777777778,
              "#fb9f3a"
             ],
             [
              0.8888888888888888,
              "#fdca26"
             ],
             [
              1,
              "#f0f921"
             ]
            ],
            "type": "surface"
           }
          ],
          "table": [
           {
            "cells": {
             "fill": {
              "color": "#EBF0F8"
             },
             "line": {
              "color": "white"
             }
            },
            "header": {
             "fill": {
              "color": "#C8D4E3"
             },
             "line": {
              "color": "white"
             }
            },
            "type": "table"
           }
          ]
         },
         "layout": {
          "annotationdefaults": {
           "arrowcolor": "#2a3f5f",
           "arrowhead": 0,
           "arrowwidth": 1
          },
          "autotypenumbers": "strict",
          "coloraxis": {
           "colorbar": {
            "outlinewidth": 0,
            "ticks": ""
           }
          },
          "colorscale": {
           "diverging": [
            [
             0,
             "#8e0152"
            ],
            [
             0.1,
             "#c51b7d"
            ],
            [
             0.2,
             "#de77ae"
            ],
            [
             0.3,
             "#f1b6da"
            ],
            [
             0.4,
             "#fde0ef"
            ],
            [
             0.5,
             "#f7f7f7"
            ],
            [
             0.6,
             "#e6f5d0"
            ],
            [
             0.7,
             "#b8e186"
            ],
            [
             0.8,
             "#7fbc41"
            ],
            [
             0.9,
             "#4d9221"
            ],
            [
             1,
             "#276419"
            ]
           ],
           "sequential": [
            [
             0,
             "#0d0887"
            ],
            [
             0.1111111111111111,
             "#46039f"
            ],
            [
             0.2222222222222222,
             "#7201a8"
            ],
            [
             0.3333333333333333,
             "#9c179e"
            ],
            [
             0.4444444444444444,
             "#bd3786"
            ],
            [
             0.5555555555555556,
             "#d8576b"
            ],
            [
             0.6666666666666666,
             "#ed7953"
            ],
            [
             0.7777777777777778,
             "#fb9f3a"
            ],
            [
             0.8888888888888888,
             "#fdca26"
            ],
            [
             1,
             "#f0f921"
            ]
           ],
           "sequentialminus": [
            [
             0,
             "#0d0887"
            ],
            [
             0.1111111111111111,
             "#46039f"
            ],
            [
             0.2222222222222222,
             "#7201a8"
            ],
            [
             0.3333333333333333,
             "#9c179e"
            ],
            [
             0.4444444444444444,
             "#bd3786"
            ],
            [
             0.5555555555555556,
             "#d8576b"
            ],
            [
             0.6666666666666666,
             "#ed7953"
            ],
            [
             0.7777777777777778,
             "#fb9f3a"
            ],
            [
             0.8888888888888888,
             "#fdca26"
            ],
            [
             1,
             "#f0f921"
            ]
           ]
          },
          "colorway": [
           "#636efa",
           "#EF553B",
           "#00cc96",
           "#ab63fa",
           "#FFA15A",
           "#19d3f3",
           "#FF6692",
           "#B6E880",
           "#FF97FF",
           "#FECB52"
          ],
          "font": {
           "color": "#2a3f5f"
          },
          "geo": {
           "bgcolor": "white",
           "lakecolor": "white",
           "landcolor": "#E5ECF6",
           "showlakes": true,
           "showland": true,
           "subunitcolor": "white"
          },
          "hoverlabel": {
           "align": "left"
          },
          "hovermode": "closest",
          "mapbox": {
           "style": "light"
          },
          "paper_bgcolor": "white",
          "plot_bgcolor": "#E5ECF6",
          "polar": {
           "angularaxis": {
            "gridcolor": "white",
            "linecolor": "white",
            "ticks": ""
           },
           "bgcolor": "#E5ECF6",
           "radialaxis": {
            "gridcolor": "white",
            "linecolor": "white",
            "ticks": ""
           }
          },
          "scene": {
           "xaxis": {
            "backgroundcolor": "#E5ECF6",
            "gridcolor": "white",
            "gridwidth": 2,
            "linecolor": "white",
            "showbackground": true,
            "ticks": "",
            "zerolinecolor": "white"
           },
           "yaxis": {
            "backgroundcolor": "#E5ECF6",
            "gridcolor": "white",
            "gridwidth": 2,
            "linecolor": "white",
            "showbackground": true,
            "ticks": "",
            "zerolinecolor": "white"
           },
           "zaxis": {
            "backgroundcolor": "#E5ECF6",
            "gridcolor": "white",
            "gridwidth": 2,
            "linecolor": "white",
            "showbackground": true,
            "ticks": "",
            "zerolinecolor": "white"
           }
          },
          "shapedefaults": {
           "line": {
            "color": "#2a3f5f"
           }
          },
          "ternary": {
           "aaxis": {
            "gridcolor": "white",
            "linecolor": "white",
            "ticks": ""
           },
           "baxis": {
            "gridcolor": "white",
            "linecolor": "white",
            "ticks": ""
           },
           "bgcolor": "#E5ECF6",
           "caxis": {
            "gridcolor": "white",
            "linecolor": "white",
            "ticks": ""
           }
          },
          "title": {
           "x": 0.05
          },
          "xaxis": {
           "automargin": true,
           "gridcolor": "white",
           "linecolor": "white",
           "ticks": "",
           "title": {
            "standoff": 15
           },
           "zerolinecolor": "white",
           "zerolinewidth": 2
          },
          "yaxis": {
           "automargin": true,
           "gridcolor": "white",
           "linecolor": "white",
           "ticks": "",
           "title": {
            "standoff": 15
           },
           "zerolinecolor": "white",
           "zerolinewidth": 2
          }
         }
        },
        "title": {
         "text": "Interactive Energy Use Trends Across Countries"
        },
        "xaxis": {
         "anchor": "y",
         "domain": [
          0,
          1
         ],
         "title": {
          "text": "year"
         }
        },
        "yaxis": {
         "anchor": "x",
         "domain": [
          0,
          1
         ],
         "title": {
          "text": "energy_use"
         }
        }
       }
      }
     },
     "metadata": {},
     "output_type": "display_data"
    }
   ],
   "source": [
    "# -------------------------------\n",
    "# Step 5: Visualizations and Diagnostics\n",
    "# -------------------------------\n",
    "# Reset index for plotting purposes\n",
    "df_plot = df_panel_clean.reset_index()\n",
    "\n",
    "# Plot energy use trends for selected countries:\n",
    "# Example: Top 5 countries by average renewable_ratio (green leaders)\n",
    "top_green = df_plot.groupby(\"country\")[\"renewable_ratio\"].mean().nlargest(5).index\n",
    "plt.figure(figsize=(12, 6))\n",
    "sns.lineplot(data=df_plot[df_plot[\"country\"].isin(top_green)], x=\"year\", y=\"energy_use\", hue=\"country\")\n",
    "plt.title(\"Energy Use Trends for Top Renewable Ratio Countries\")\n",
    "plt.xlabel(\"Year\")\n",
    "plt.ylabel(\"Energy Use (kg oil equivalent per capita)\")\n",
    "plt.show()\n",
    "\n",
    "# Example: Bottom 5 countries by average renewable_ratio (fuel dominated)\n",
    "top_fossil = df_plot.groupby(\"country\")[\"renewable_ratio\"].mean().nsmallest(5).index\n",
    "plt.figure(figsize=(12, 6))\n",
    "sns.lineplot(data=df_plot[df_plot[\"country\"].isin(top_fossil)], x=\"year\", y=\"energy_use\", hue=\"country\")\n",
    "plt.title(\"Energy Use Trends for Lowest Renewable Ratio Countries\")\n",
    "plt.xlabel(\"Year\")\n",
    "plt.ylabel(\"Energy Use (kg oil equivalent per capita)\")\n",
    "plt.show()\n",
    "\n",
    "# Pairplot of key variables\n",
    "sns.pairplot(df_plot[[\"energy_use\", \"gdp\", \"fossil_share\", \"renewable_ratio\", \"env_tax\"]])\n",
    "plt.show()\n",
    "\n",
    "# Interactive visualization: Energy use trends across all countries\n",
    "fig = px.line(df_plot, x=\"year\", y=\"energy_use\", color=\"country\",\n",
    "              title=\"Interactive Energy Use Trends Across Countries\")\n",
    "fig.show()\n",
    "\n",
    "# -------------------------------\n",
    "# Step 6: Advanced Analysis Summary\n",
    "# -------------------------------\n",
    "# The advanced analysis uses two-way fixed effects (controlling for both country and time heterogeneity)\n",
    "# and incorporates a policy indicator (env_tax) alongside economic and energy mix variables.\n",
    "# Robustness is checked via a Random Effects model and a Hausman test.\n",
    "# The visualizations support interpretation of trends and diagnostic checks."
   ]
  }
 ],
 "metadata": {
  "kernelspec": {
   "display_name": "conda_usml_env",
   "language": "python",
   "name": "python3"
  },
  "language_info": {
   "codemirror_mode": {
    "name": "ipython",
    "version": 3
   },
   "file_extension": ".py",
   "mimetype": "text/x-python",
   "name": "python",
   "nbconvert_exporter": "python",
   "pygments_lexer": "ipython3",
   "version": "3.12.2"
  }
 },
 "nbformat": 4,
 "nbformat_minor": 2
}
